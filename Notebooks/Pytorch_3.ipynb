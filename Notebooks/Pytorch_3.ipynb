{
  "cells": [
    {
      "cell_type": "markdown",
      "metadata": {
        "id": "view-in-github",
        "colab_type": "text"
      },
      "source": [
        "<a href=\"https://colab.research.google.com/github/MohamadMahdiDarvishi/Pytorch/blob/main/Notebooks/Pytorch_3.ipynb\" target=\"_parent\"><img src=\"https://colab.research.google.com/assets/colab-badge.svg\" alt=\"Open In Colab\"/></a>"
      ]
    },
    {
      "cell_type": "markdown",
      "metadata": {
        "id": "vSDT8dxEcAg6"
      },
      "source": [
        "# Computer Vision Model"
      ]
    },
    {
      "cell_type": "markdown",
      "metadata": {
        "id": "_kDFINHsmoJN"
      },
      "source": [
        "## Prerequrities"
      ]
    },
    {
      "cell_type": "markdown",
      "metadata": {
        "id": "UEZN8aEe4cEo"
      },
      "source": [
        "**Computer Vision libraries in PyTorch :**\n",
        "1. [`torchvision`](https://pytorch.org/vision/stable/index.html) - base domain library for PyTorch computer vision\n",
        "2. `torchvision.datasets` - Creating data sets and **data loading** functions\n",
        "3. `torch.vision.models` - pretrained computer vision models\n",
        "4. `torchvision.transforms` - functions to manipulate vision data (images) to be suitable for our machine learning model\n",
        "5. `torch.utils.data.Dataset` - Base dataset class for PyTorch\n",
        "6. `torch.utils.data.DataLoader` - Creates a Python iterable over a dataset"
      ]
    },
    {
      "cell_type": "code",
      "execution_count": null,
      "metadata": {
        "id": "agymXtgbmoTd"
      },
      "outputs": [],
      "source": [
        "# Imports PyTorch\n",
        "import torch\n",
        "from torch import nn\n",
        "from torch.utils.data import DataLoader\n",
        "# Import PyTorch Computer vision libraries\n",
        "import torchvision\n",
        "from torchvision import datasets\n",
        "from torchvision import transforms\n",
        "from torchvision.transforms import ToTensor\n",
        "# Import matplotlib for visualization\n",
        "import matplotlib.pyplot as plt\n",
        "# Import numpy and pandas for preparing data\n",
        "import numpy as np\n",
        "import pandas as pd"
      ]
    },
    {
      "cell_type": "markdown",
      "metadata": {
        "id": "6ctchmN2moUP"
      },
      "source": [
        "## 1 . Creating datasets\n",
        "\n",
        "The dataset we'll be using is [`FashionMNIST`](https://pytorch.org/vision/stable/generated/torchvision.datasets.FashionMNIST.html#torchvision.datasets.FashionMNIST ) from torchvision.datasets -"
      ]
    },
    {
      "cell_type": "code",
      "execution_count": null,
      "metadata": {
        "id": "ZqaUrIjwmoX5"
      },
      "outputs": [],
      "source": [
        "# setup training data\n",
        "train_data = torchvision.datasets.FashionMNIST( # despite calling datasets from torchvision I call our dataset this way by purpose\n",
        "    root = \"data\" , # where to put data\n",
        "    train = True , # training or test data set\n",
        "    download = True , # do download data set\n",
        "    transform = torchvision.transforms.ToTensor(), # how do we want to transform the data?\n",
        "    target_transform = None # how do we want to transform the labels/targets?\n",
        ")\n",
        "# setup test data\n",
        "test_data = datasets.FashionMNIST(\n",
        "    root = \"data\",\n",
        "    train = False,\n",
        "    download = True,\n",
        "    transform = ToTensor(),\n",
        "    target_transform = None\n",
        ")"
      ]
    },
    {
      "cell_type": "markdown",
      "metadata": {
        "id": "ktX_PBnpmoYr"
      },
      "source": [
        "### 1.1 take a look at our data"
      ]
    },
    {
      "cell_type": "code",
      "execution_count": null,
      "metadata": {
        "colab": {
          "base_uri": "https://localhost:8080/"
        },
        "id": "-s8nlNchPFWY",
        "outputId": "8507a1b0-b2ac-4411-d0d5-c4dffd7a4915"
      },
      "outputs": [
        {
          "output_type": "execute_result",
          "data": {
            "text/plain": [
              "(Dataset FashionMNIST\n",
              "     Number of datapoints: 60000\n",
              "     Root location: data\n",
              "     Split: Train\n",
              "     StandardTransform\n",
              " Transform: ToTensor(),\n",
              " Dataset FashionMNIST\n",
              "     Number of datapoints: 10000\n",
              "     Root location: data\n",
              "     Split: Test\n",
              "     StandardTransform\n",
              " Transform: ToTensor())"
            ]
          },
          "metadata": {},
          "execution_count": 90
        }
      ],
      "source": [
        "train_data , test_data"
      ]
    },
    {
      "cell_type": "code",
      "execution_count": null,
      "metadata": {
        "colab": {
          "base_uri": "https://localhost:8080/"
        },
        "id": "9JQwVFnSmogq",
        "outputId": "0f47afd7-61a3-4678-ef7c-7e31f6eda16e"
      },
      "outputs": [
        {
          "output_type": "execute_result",
          "data": {
            "text/plain": [
              "(60000, 10000)"
            ]
          },
          "metadata": {},
          "execution_count": 91
        }
      ],
      "source": [
        "len(train_data) , len(test_data)"
      ]
    },
    {
      "cell_type": "code",
      "execution_count": null,
      "metadata": {
        "colab": {
          "base_uri": "https://localhost:8080/"
        },
        "id": "uoEVIld3mohd",
        "outputId": "1726ccdd-afd2-4a82-b88b-10b5affe1542"
      },
      "outputs": [
        {
          "output_type": "execute_result",
          "data": {
            "text/plain": [
              "(60000, 60000)"
            ]
          },
          "metadata": {},
          "execution_count": 92
        }
      ],
      "source": [
        "len(train_data.data) ,  len(train_data.targets)"
      ]
    },
    {
      "cell_type": "code",
      "execution_count": null,
      "metadata": {
        "colab": {
          "base_uri": "https://localhost:8080/"
        },
        "id": "wD5sJcZkDm3C",
        "outputId": "1c33a9e4-1967-414a-c905-184c7a643b0f"
      },
      "outputs": [
        {
          "output_type": "execute_result",
          "data": {
            "text/plain": [
              "(torch.Size([60000, 28, 28]), torch.Size([60000]))"
            ]
          },
          "metadata": {},
          "execution_count": 93
        }
      ],
      "source": [
        "train_data.data.shape , train_data.targets.shape"
      ]
    },
    {
      "cell_type": "code",
      "execution_count": null,
      "metadata": {
        "colab": {
          "base_uri": "https://localhost:8080/"
        },
        "id": "7mRt4_uXBMe8",
        "outputId": "26ed836f-f81f-441e-86fc-96e5879cb6c4"
      },
      "outputs": [
        {
          "output_type": "execute_result",
          "data": {
            "text/plain": [
              "({'T-shirt/top': 0,\n",
              "  'Trouser': 1,\n",
              "  'Pullover': 2,\n",
              "  'Dress': 3,\n",
              "  'Coat': 4,\n",
              "  'Sandal': 5,\n",
              "  'Shirt': 6,\n",
              "  'Sneaker': 7,\n",
              "  'Bag': 8,\n",
              "  'Ankle boot': 9},\n",
              " tensor([0, 1, 2, 3, 4, 5, 6, 7, 8, 9]))"
            ]
          },
          "metadata": {},
          "execution_count": 94
        }
      ],
      "source": [
        "train_data.class_to_idx , train_data.targets.unique()"
      ]
    },
    {
      "cell_type": "code",
      "execution_count": null,
      "metadata": {
        "colab": {
          "base_uri": "https://localhost:8080/"
        },
        "id": "ToOOk9AjBMjd",
        "outputId": "3a48bff3-5a6b-4f3d-ef72-a6792b574fcc"
      },
      "outputs": [
        {
          "output_type": "execute_result",
          "data": {
            "text/plain": [
              "(tensor([[[0.0000, 0.0000, 0.0000, 0.0000, 0.0000, 0.0000, 0.0000, 0.0000,\n",
              "           0.0000, 0.0000, 0.0000, 0.0000, 0.0000, 0.0000, 0.0000, 0.0000,\n",
              "           0.0000, 0.0000, 0.0000, 0.0000, 0.0000, 0.0000, 0.0000, 0.0000,\n",
              "           0.0000, 0.0000, 0.0000, 0.0000],\n",
              "          [0.0000, 0.0000, 0.0000, 0.0000, 0.0000, 0.0000, 0.0000, 0.0000,\n",
              "           0.0000, 0.0000, 0.0000, 0.0000, 0.0000, 0.0000, 0.0000, 0.0000,\n",
              "           0.0000, 0.0000, 0.0000, 0.0000, 0.0000, 0.0000, 0.0000, 0.0000,\n",
              "           0.0000, 0.0000, 0.0000, 0.0000],\n",
              "          [0.0000, 0.0000, 0.0000, 0.0000, 0.0000, 0.0000, 0.0000, 0.0000,\n",
              "           0.0000, 0.0000, 0.0000, 0.0000, 0.0000, 0.0000, 0.0000, 0.0000,\n",
              "           0.0000, 0.0000, 0.0000, 0.0000, 0.0000, 0.0000, 0.0000, 0.0000,\n",
              "           0.0000, 0.0000, 0.0000, 0.0000],\n",
              "          [0.0000, 0.0000, 0.0000, 0.0000, 0.0000, 0.0000, 0.0000, 0.0000,\n",
              "           0.0000, 0.0000, 0.0000, 0.0000, 0.0039, 0.0000, 0.0000, 0.0510,\n",
              "           0.2863, 0.0000, 0.0000, 0.0039, 0.0157, 0.0000, 0.0000, 0.0000,\n",
              "           0.0000, 0.0039, 0.0039, 0.0000],\n",
              "          [0.0000, 0.0000, 0.0000, 0.0000, 0.0000, 0.0000, 0.0000, 0.0000,\n",
              "           0.0000, 0.0000, 0.0000, 0.0000, 0.0118, 0.0000, 0.1412, 0.5333,\n",
              "           0.4980, 0.2431, 0.2118, 0.0000, 0.0000, 0.0000, 0.0039, 0.0118,\n",
              "           0.0157, 0.0000, 0.0000, 0.0118],\n",
              "          [0.0000, 0.0000, 0.0000, 0.0000, 0.0000, 0.0000, 0.0000, 0.0000,\n",
              "           0.0000, 0.0000, 0.0000, 0.0000, 0.0235, 0.0000, 0.4000, 0.8000,\n",
              "           0.6902, 0.5255, 0.5647, 0.4824, 0.0902, 0.0000, 0.0000, 0.0000,\n",
              "           0.0000, 0.0471, 0.0392, 0.0000],\n",
              "          [0.0000, 0.0000, 0.0000, 0.0000, 0.0000, 0.0000, 0.0000, 0.0000,\n",
              "           0.0000, 0.0000, 0.0000, 0.0000, 0.0000, 0.0000, 0.6078, 0.9255,\n",
              "           0.8118, 0.6980, 0.4196, 0.6118, 0.6314, 0.4275, 0.2510, 0.0902,\n",
              "           0.3020, 0.5098, 0.2824, 0.0588],\n",
              "          [0.0000, 0.0000, 0.0000, 0.0000, 0.0000, 0.0000, 0.0000, 0.0000,\n",
              "           0.0000, 0.0000, 0.0000, 0.0039, 0.0000, 0.2706, 0.8118, 0.8745,\n",
              "           0.8549, 0.8471, 0.8471, 0.6392, 0.4980, 0.4745, 0.4784, 0.5725,\n",
              "           0.5529, 0.3451, 0.6745, 0.2588],\n",
              "          [0.0000, 0.0000, 0.0000, 0.0000, 0.0000, 0.0000, 0.0000, 0.0000,\n",
              "           0.0000, 0.0039, 0.0039, 0.0039, 0.0000, 0.7843, 0.9098, 0.9098,\n",
              "           0.9137, 0.8980, 0.8745, 0.8745, 0.8431, 0.8353, 0.6431, 0.4980,\n",
              "           0.4824, 0.7686, 0.8980, 0.0000],\n",
              "          [0.0000, 0.0000, 0.0000, 0.0000, 0.0000, 0.0000, 0.0000, 0.0000,\n",
              "           0.0000, 0.0000, 0.0000, 0.0000, 0.0000, 0.7176, 0.8824, 0.8471,\n",
              "           0.8745, 0.8941, 0.9216, 0.8902, 0.8784, 0.8706, 0.8784, 0.8667,\n",
              "           0.8745, 0.9608, 0.6784, 0.0000],\n",
              "          [0.0000, 0.0000, 0.0000, 0.0000, 0.0000, 0.0000, 0.0000, 0.0000,\n",
              "           0.0000, 0.0000, 0.0000, 0.0000, 0.0000, 0.7569, 0.8941, 0.8549,\n",
              "           0.8353, 0.7765, 0.7059, 0.8314, 0.8235, 0.8275, 0.8353, 0.8745,\n",
              "           0.8627, 0.9529, 0.7922, 0.0000],\n",
              "          [0.0000, 0.0000, 0.0000, 0.0000, 0.0000, 0.0000, 0.0000, 0.0000,\n",
              "           0.0000, 0.0039, 0.0118, 0.0000, 0.0471, 0.8588, 0.8627, 0.8314,\n",
              "           0.8549, 0.7529, 0.6627, 0.8902, 0.8157, 0.8549, 0.8784, 0.8314,\n",
              "           0.8863, 0.7725, 0.8196, 0.2039],\n",
              "          [0.0000, 0.0000, 0.0000, 0.0000, 0.0000, 0.0000, 0.0000, 0.0000,\n",
              "           0.0000, 0.0000, 0.0235, 0.0000, 0.3882, 0.9569, 0.8706, 0.8627,\n",
              "           0.8549, 0.7961, 0.7765, 0.8667, 0.8431, 0.8353, 0.8706, 0.8627,\n",
              "           0.9608, 0.4667, 0.6549, 0.2196],\n",
              "          [0.0000, 0.0000, 0.0000, 0.0000, 0.0000, 0.0000, 0.0000, 0.0000,\n",
              "           0.0000, 0.0157, 0.0000, 0.0000, 0.2157, 0.9255, 0.8941, 0.9020,\n",
              "           0.8941, 0.9412, 0.9098, 0.8353, 0.8549, 0.8745, 0.9176, 0.8510,\n",
              "           0.8510, 0.8196, 0.3608, 0.0000],\n",
              "          [0.0000, 0.0000, 0.0039, 0.0157, 0.0235, 0.0275, 0.0078, 0.0000,\n",
              "           0.0000, 0.0000, 0.0000, 0.0000, 0.9294, 0.8863, 0.8510, 0.8745,\n",
              "           0.8706, 0.8588, 0.8706, 0.8667, 0.8471, 0.8745, 0.8980, 0.8431,\n",
              "           0.8549, 1.0000, 0.3020, 0.0000],\n",
              "          [0.0000, 0.0118, 0.0000, 0.0000, 0.0000, 0.0000, 0.0000, 0.0000,\n",
              "           0.0000, 0.2431, 0.5686, 0.8000, 0.8941, 0.8118, 0.8353, 0.8667,\n",
              "           0.8549, 0.8157, 0.8275, 0.8549, 0.8784, 0.8745, 0.8588, 0.8431,\n",
              "           0.8784, 0.9569, 0.6235, 0.0000],\n",
              "          [0.0000, 0.0000, 0.0000, 0.0000, 0.0706, 0.1725, 0.3216, 0.4196,\n",
              "           0.7412, 0.8941, 0.8627, 0.8706, 0.8510, 0.8863, 0.7843, 0.8039,\n",
              "           0.8275, 0.9020, 0.8784, 0.9176, 0.6902, 0.7373, 0.9804, 0.9725,\n",
              "           0.9137, 0.9333, 0.8431, 0.0000],\n",
              "          [0.0000, 0.2235, 0.7333, 0.8157, 0.8784, 0.8667, 0.8784, 0.8157,\n",
              "           0.8000, 0.8392, 0.8157, 0.8196, 0.7843, 0.6235, 0.9608, 0.7569,\n",
              "           0.8078, 0.8745, 1.0000, 1.0000, 0.8667, 0.9176, 0.8667, 0.8275,\n",
              "           0.8627, 0.9098, 0.9647, 0.0000],\n",
              "          [0.0118, 0.7922, 0.8941, 0.8784, 0.8667, 0.8275, 0.8275, 0.8392,\n",
              "           0.8039, 0.8039, 0.8039, 0.8627, 0.9412, 0.3137, 0.5882, 1.0000,\n",
              "           0.8980, 0.8667, 0.7373, 0.6039, 0.7490, 0.8235, 0.8000, 0.8196,\n",
              "           0.8706, 0.8941, 0.8824, 0.0000],\n",
              "          [0.3843, 0.9137, 0.7765, 0.8235, 0.8706, 0.8980, 0.8980, 0.9176,\n",
              "           0.9765, 0.8627, 0.7608, 0.8431, 0.8510, 0.9451, 0.2549, 0.2863,\n",
              "           0.4157, 0.4588, 0.6588, 0.8588, 0.8667, 0.8431, 0.8510, 0.8745,\n",
              "           0.8745, 0.8784, 0.8980, 0.1137],\n",
              "          [0.2941, 0.8000, 0.8314, 0.8000, 0.7569, 0.8039, 0.8275, 0.8824,\n",
              "           0.8471, 0.7255, 0.7725, 0.8078, 0.7765, 0.8353, 0.9412, 0.7647,\n",
              "           0.8902, 0.9608, 0.9373, 0.8745, 0.8549, 0.8314, 0.8196, 0.8706,\n",
              "           0.8627, 0.8667, 0.9020, 0.2627],\n",
              "          [0.1882, 0.7961, 0.7176, 0.7608, 0.8353, 0.7725, 0.7255, 0.7451,\n",
              "           0.7608, 0.7529, 0.7922, 0.8392, 0.8588, 0.8667, 0.8627, 0.9255,\n",
              "           0.8824, 0.8471, 0.7804, 0.8078, 0.7294, 0.7098, 0.6941, 0.6745,\n",
              "           0.7098, 0.8039, 0.8078, 0.4510],\n",
              "          [0.0000, 0.4784, 0.8588, 0.7569, 0.7020, 0.6706, 0.7176, 0.7686,\n",
              "           0.8000, 0.8235, 0.8353, 0.8118, 0.8275, 0.8235, 0.7843, 0.7686,\n",
              "           0.7608, 0.7490, 0.7647, 0.7490, 0.7765, 0.7529, 0.6902, 0.6118,\n",
              "           0.6549, 0.6941, 0.8235, 0.3608],\n",
              "          [0.0000, 0.0000, 0.2902, 0.7412, 0.8314, 0.7490, 0.6863, 0.6745,\n",
              "           0.6863, 0.7098, 0.7255, 0.7373, 0.7412, 0.7373, 0.7569, 0.7765,\n",
              "           0.8000, 0.8196, 0.8235, 0.8235, 0.8275, 0.7373, 0.7373, 0.7608,\n",
              "           0.7529, 0.8471, 0.6667, 0.0000],\n",
              "          [0.0078, 0.0000, 0.0000, 0.0000, 0.2588, 0.7843, 0.8706, 0.9294,\n",
              "           0.9373, 0.9490, 0.9647, 0.9529, 0.9569, 0.8667, 0.8627, 0.7569,\n",
              "           0.7490, 0.7020, 0.7137, 0.7137, 0.7098, 0.6902, 0.6510, 0.6588,\n",
              "           0.3882, 0.2275, 0.0000, 0.0000],\n",
              "          [0.0000, 0.0000, 0.0000, 0.0000, 0.0000, 0.0000, 0.0000, 0.1569,\n",
              "           0.2392, 0.1725, 0.2824, 0.1608, 0.1373, 0.0000, 0.0000, 0.0000,\n",
              "           0.0000, 0.0000, 0.0000, 0.0000, 0.0000, 0.0000, 0.0000, 0.0000,\n",
              "           0.0000, 0.0000, 0.0000, 0.0000],\n",
              "          [0.0000, 0.0000, 0.0000, 0.0000, 0.0000, 0.0000, 0.0000, 0.0000,\n",
              "           0.0000, 0.0000, 0.0000, 0.0000, 0.0000, 0.0000, 0.0000, 0.0000,\n",
              "           0.0000, 0.0000, 0.0000, 0.0000, 0.0000, 0.0000, 0.0000, 0.0000,\n",
              "           0.0000, 0.0000, 0.0000, 0.0000],\n",
              "          [0.0000, 0.0000, 0.0000, 0.0000, 0.0000, 0.0000, 0.0000, 0.0000,\n",
              "           0.0000, 0.0000, 0.0000, 0.0000, 0.0000, 0.0000, 0.0000, 0.0000,\n",
              "           0.0000, 0.0000, 0.0000, 0.0000, 0.0000, 0.0000, 0.0000, 0.0000,\n",
              "           0.0000, 0.0000, 0.0000, 0.0000]]]),\n",
              " 9)"
            ]
          },
          "metadata": {},
          "execution_count": 95
        }
      ],
      "source": [
        "# another way of looking at our data\n",
        "image , label = train_data[0]\n",
        "image , label"
      ]
    },
    {
      "cell_type": "code",
      "execution_count": null,
      "metadata": {
        "colab": {
          "base_uri": "https://localhost:8080/"
        },
        "id": "wVNk3a0tBMnS",
        "outputId": "9c009f7d-3103-4dac-df32-0993e144b866"
      },
      "outputs": [
        {
          "output_type": "stream",
          "name": "stdout",
          "text": [
            "image shape : torch.Size([1, 28, 28]) -> [color_channel , height , width]\n",
            "label / target : 9\n",
            "label name / Image name : Ankle boot\n"
          ]
        }
      ],
      "source": [
        "# printing out some informations\n",
        "print(f\"image shape : {image.shape} -> [color_channel , height , width]\")\n",
        "print(f\"label / target : {label}\")\n",
        "print(f\"label name / Image name : {train_data.classes[label]}\")"
      ]
    },
    {
      "cell_type": "markdown",
      "metadata": {
        "id": "RhDiMBrjBMrX"
      },
      "source": [
        "### 1.2 Visualizing data"
      ]
    },
    {
      "cell_type": "code",
      "execution_count": null,
      "metadata": {
        "colab": {
          "base_uri": "https://localhost:8080/",
          "height": 452
        },
        "id": "8-ebMGFCBMvh",
        "outputId": "5e384e5d-a600-43cc-9965-fd735da11243"
      },
      "outputs": [
        {
          "output_type": "display_data",
          "data": {
            "text/plain": [
              "<Figure size 640x480 with 1 Axes>"
            ],
            "image/png": "[encoded data removed]"
          },
          "metadata": {}
        }
      ],
      "source": [
        "# color image\n",
        "image , label = train_data[0]\n",
        "\n",
        "plt.imshow(image.squeeze())\n",
        "plt.title(train_data.classes[label]) ; # there is a trick here\n",
        "plt.axis = False"
      ]
    },
    {
      "cell_type": "code",
      "execution_count": null,
      "metadata": {
        "colab": {
          "base_uri": "https://localhost:8080/",
          "height": 853
        },
        "id": "dQNqz0XFBM3V",
        "outputId": "a520a452-fd94-44ff-e49c-8f828835960b"
      },
      "outputs": [
        {
          "output_type": "display_data",
          "data": {
            "text/plain": [
              "<Figure size 1000x1000 with 16 Axes>"
            ],
            "image/png": "[encoded data removed]"
          },
          "metadata": {}
        }
      ],
      "source": [
        "# plot more images\n",
        "# gray image\n",
        "\n",
        "rows , columns = 4 , 4\n",
        "fig = plt.figure(figsize=(10,10)) ;\n",
        "\n",
        "for i in range(1,rows*columns+1):\n",
        "  random_indx = torch.randint(0,len(train_data),size=[1]).item()\n",
        "  image , label = train_data[random_indx]\n",
        "  fig.add_subplot(rows,columns,i) ;\n",
        "  plt.imshow(image.squeeze() , cmap = \"gray\")\n",
        "  plt.title(train_data.classes[label])\n",
        "  plt.axis = False"
      ]
    },
    {
      "cell_type": "markdown",
      "metadata": {
        "id": "lDcDjPsHBM7e"
      },
      "source": [
        "## 2 . Preparing Dataloader\n",
        "\n",
        "why using dataloader ?\n",
        "\n",
        "1.  improve our computation efficency by breaking our images down to the batches because our memory may not be enough for looking at all of data at once .\n",
        "2. gives our neural network more chances to update its gradients per epoch .\n",
        "\n",
        "**Note :** DataLoader turns our dataset into a Python iterable."
      ]
    },
    {
      "cell_type": "code",
      "execution_count": null,
      "metadata": {
        "id": "M1xkD68lBNHv"
      },
      "outputs": [],
      "source": [
        "# Setup batch size hyperparameter\n",
        "BATCH_SIZE = 32\n",
        "\n",
        "# Turn data sets into iterables and breaking down the data sets to batches\n",
        "train_dataloader = DataLoader(dataset=train_data,\n",
        "                              batch_size=BATCH_SIZE,\n",
        "                              shuffle=True)\n",
        "\n",
        "test_dataloader = DataLoader(dataset=test_data,\n",
        "                             batch_size=BATCH_SIZE,\n",
        "                             shuffle=False)"
      ]
    },
    {
      "cell_type": "markdown",
      "metadata": {
        "id": "FS9WNFfrxdun"
      },
      "source": [
        "### 2.1 take a look at dataloaders"
      ]
    },
    {
      "cell_type": "code",
      "execution_count": null,
      "metadata": {
        "colab": {
          "base_uri": "https://localhost:8080/"
        },
        "id": "d5F3UWl-xd0e",
        "outputId": "e2c42ea6-46f5-4456-d84a-2a92aaed87c0"
      },
      "outputs": [
        {
          "output_type": "execute_result",
          "data": {
            "text/plain": [
              "(1875, 313)"
            ]
          },
          "metadata": {},
          "execution_count": 100
        }
      ],
      "source": [
        "len(train_dataloader) , len(test_dataloader)"
      ]
    },
    {
      "cell_type": "code",
      "execution_count": null,
      "metadata": {
        "colab": {
          "base_uri": "https://localhost:8080/"
        },
        "id": "CNMm0pK6xega",
        "outputId": "e29b7851-e2c3-4dd1-99f6-aad8309d962c"
      },
      "outputs": [
        {
          "output_type": "execute_result",
          "data": {
            "text/plain": [
              "(1875.0, 312.5)"
            ]
          },
          "metadata": {},
          "execution_count": 101
        }
      ],
      "source": [
        "len(train_data)/BATCH_SIZE , len(test_data)/BATCH_SIZE"
      ]
    },
    {
      "cell_type": "markdown",
      "metadata": {
        "id": "Pod35Wtdxell"
      },
      "source": [
        "### 2.2 checking what's inside dataloaders"
      ]
    },
    {
      "cell_type": "code",
      "execution_count": null,
      "metadata": {
        "colab": {
          "base_uri": "https://localhost:8080/"
        },
        "id": "gmrDMHrxxeqx",
        "outputId": "3545593b-6d5c-4698-ed75-2482687de933"
      },
      "outputs": [
        {
          "output_type": "execute_result",
          "data": {
            "text/plain": [
              "(torch.Size([32, 1, 28, 28]), 32)"
            ]
          },
          "metadata": {},
          "execution_count": 102
        }
      ],
      "source": [
        "train_feature_batch , train_label_batch = next(iter(train_dataloader))\n",
        "train_feature_batch.shape , len(train_feature_batch) # [batch_size , color_channel , heighth , width]"
      ]
    },
    {
      "cell_type": "code",
      "execution_count": null,
      "metadata": {
        "colab": {
          "base_uri": "https://localhost:8080/"
        },
        "id": "8eRS9_3Dxevn",
        "outputId": "2baa155d-9f95-44d6-adef-91eb0cc20df9"
      },
      "outputs": [
        {
          "output_type": "execute_result",
          "data": {
            "text/plain": [
              "([tensor([[[[0.0000, 0.0000, 0.0000,  ..., 0.0000, 0.0000, 0.0000],\n",
              "            [0.0000, 0.0000, 0.0000,  ..., 0.0000, 0.0000, 0.0000],\n",
              "            [0.0000, 0.0000, 0.0000,  ..., 0.0000, 0.0000, 0.0000],\n",
              "            ...,\n",
              "            [0.0000, 0.0000, 0.0000,  ..., 0.0000, 0.0000, 0.0000],\n",
              "            [0.0000, 0.0000, 0.0000,  ..., 0.0000, 0.0000, 0.0000],\n",
              "            [0.0000, 0.0000, 0.0000,  ..., 0.0000, 0.0000, 0.0000]]],\n",
              "  \n",
              "  \n",
              "          [[[0.0000, 0.0000, 0.0000,  ..., 0.0000, 0.0000, 0.0000],\n",
              "            [0.0000, 0.0000, 0.0000,  ..., 0.0000, 0.0000, 0.0000],\n",
              "            [0.0000, 0.0000, 0.0000,  ..., 0.0078, 0.0000, 0.0000],\n",
              "            ...,\n",
              "            [0.0000, 0.0000, 0.0000,  ..., 0.0078, 0.0000, 0.0000],\n",
              "            [0.0000, 0.0000, 0.0000,  ..., 0.0078, 0.0000, 0.0000],\n",
              "            [0.0000, 0.0000, 0.0000,  ..., 0.0000, 0.0000, 0.0000]]],\n",
              "  \n",
              "  \n",
              "          [[[0.0000, 0.0000, 0.0000,  ..., 0.0000, 0.0000, 0.0000],\n",
              "            [0.0000, 0.0000, 0.0000,  ..., 0.0000, 0.0000, 0.0000],\n",
              "            [0.0000, 0.0000, 0.0000,  ..., 0.0000, 0.0000, 0.0000],\n",
              "            ...,\n",
              "            [0.0000, 0.0000, 0.0000,  ..., 0.0000, 0.0000, 0.0000],\n",
              "            [0.0000, 0.0000, 0.0000,  ..., 0.0000, 0.0000, 0.0000],\n",
              "            [0.0000, 0.0000, 0.0000,  ..., 0.0000, 0.0000, 0.0000]]],\n",
              "  \n",
              "  \n",
              "          ...,\n",
              "  \n",
              "  \n",
              "          [[[0.0000, 0.0000, 0.0000,  ..., 0.0000, 0.0000, 0.0000],\n",
              "            [0.0000, 0.0000, 0.0000,  ..., 0.0000, 0.0000, 0.0000],\n",
              "            [0.0000, 0.0000, 0.0000,  ..., 0.0000, 0.0000, 0.0000],\n",
              "            ...,\n",
              "            [0.0000, 0.0000, 0.0000,  ..., 0.0000, 0.0000, 0.0000],\n",
              "            [0.0000, 0.0000, 0.0000,  ..., 0.0000, 0.0000, 0.0000],\n",
              "            [0.0000, 0.0000, 0.0000,  ..., 0.0000, 0.0000, 0.0000]]],\n",
              "  \n",
              "  \n",
              "          [[[0.0000, 0.0000, 0.0000,  ..., 0.0000, 0.0000, 0.0000],\n",
              "            [0.0000, 0.0000, 0.0000,  ..., 0.0000, 0.0000, 0.0000],\n",
              "            [0.0000, 0.0000, 0.0000,  ..., 0.0000, 0.0000, 0.0000],\n",
              "            ...,\n",
              "            [0.0000, 0.0000, 0.0000,  ..., 0.0000, 0.0000, 0.0000],\n",
              "            [0.0000, 0.0000, 0.0000,  ..., 0.0000, 0.0000, 0.0000],\n",
              "            [0.0000, 0.0000, 0.0000,  ..., 0.0000, 0.0000, 0.0000]]],\n",
              "  \n",
              "  \n",
              "          [[[0.0000, 0.0000, 0.0000,  ..., 0.0000, 0.0000, 0.0000],\n",
              "            [0.0000, 0.0000, 0.0000,  ..., 0.0000, 0.0000, 0.0000],\n",
              "            [0.0000, 0.0000, 0.0000,  ..., 0.0000, 0.0000, 0.0000],\n",
              "            ...,\n",
              "            [0.0000, 0.0000, 0.0000,  ..., 0.0000, 0.0000, 0.0000],\n",
              "            [0.0000, 0.0000, 0.0000,  ..., 0.0000, 0.0000, 0.0000],\n",
              "            [0.0000, 0.0000, 0.0000,  ..., 0.0000, 0.0000, 0.0000]]]]),\n",
              "  tensor([7, 6, 0, 9, 6, 3, 3, 5, 4, 5, 6, 8, 2, 3, 7, 2, 4, 0, 2, 4, 3, 6, 3, 7,\n",
              "          9, 8, 9, 2, 6, 0, 4, 9])],\n",
              " list)"
            ]
          },
          "metadata": {},
          "execution_count": 103
        }
      ],
      "source": [
        "# we also could use list(iter(train_dataloader))\n",
        "next(iter(train_dataloader)) , type(next(iter(train_dataloader)))"
      ]
    },
    {
      "cell_type": "code",
      "execution_count": null,
      "metadata": {
        "colab": {
          "base_uri": "https://localhost:8080/"
        },
        "id": "_2cv7Svudrhi",
        "outputId": "1695cc60-a33e-49a4-b823-a4cf703088a4"
      },
      "outputs": [
        {
          "output_type": "execute_result",
          "data": {
            "text/plain": [
              "(1875, 2, 1875)"
            ]
          },
          "metadata": {},
          "execution_count": 104
        }
      ],
      "source": [
        "# be carefull about difference between list(iter(train_dataloader)) & next(iter(train_dataloader))\n",
        "\n",
        "len(list(iter(train_dataloader))) , len(next(iter(train_dataloader))) , len(iter(train_dataloader))"
      ]
    },
    {
      "cell_type": "code",
      "execution_count": null,
      "metadata": {
        "colab": {
          "base_uri": "https://localhost:8080/",
          "height": 452
        },
        "id": "vv2Xmxr4dsN1",
        "outputId": "56f54bce-c2e5-4736-dddc-fd9f901d0a61"
      },
      "outputs": [
        {
          "output_type": "display_data",
          "data": {
            "text/plain": [
              "<Figure size 640x480 with 1 Axes>"
            ],
            "image/png": "[encoded data removed]"
          },
          "metadata": {}
        }
      ],
      "source": [
        "# random index (selecting batch)\n",
        "rand_idx_1 = torch.randint(0,len(iter(train_dataloader)),size=[1]).item()\n",
        "image_batch , label_batch = list(iter(train_dataloader))[rand_idx_1]\n",
        "rand_idx_2  = torch.randint(0,len(image),size=[1]).item()\n",
        "image ,label = image_batch[rand_idx_2] , label_batch[rand_idx_2]\n",
        "plt.imshow(image.squeeze()) ;\n",
        "plt.title(f\"{train_data.classes[label]}\") ;"
      ]
    },
    {
      "cell_type": "markdown",
      "source": [
        "## setup device-agnostic code"
      ],
      "metadata": {
        "id": "yczJSBgBqEVz"
      }
    },
    {
      "cell_type": "code",
      "source": [
        "device  = \"cuda\" if torch.cuda.is_available() else \"cpu\"\n",
        "device"
      ],
      "metadata": {
        "colab": {
          "base_uri": "https://localhost:8080/",
          "height": 36
        },
        "id": "z4N74G3rqO7r",
        "outputId": "83f1e496-bc37-4fcd-8ca9-7d90dd8e78de"
      },
      "execution_count": null,
      "outputs": [
        {
          "output_type": "execute_result",
          "data": {
            "text/plain": [
              "'cuda'"
            ],
            "application/vnd.google.colaboratory.intrinsic+json": {
              "type": "string"
            }
          },
          "metadata": {},
          "execution_count": 106
        }
      ]
    },
    {
      "cell_type": "code",
      "source": [
        "!nvidia-smi"
      ],
      "metadata": {
        "colab": {
          "base_uri": "https://localhost:8080/"
        },
        "id": "5wgPKGQwqTHL",
        "outputId": "77f70415-95cb-4bc6-e8a1-9cd9e1757a22"
      },
      "execution_count": null,
      "outputs": [
        {
          "output_type": "stream",
          "name": "stdout",
          "text": [
            "Sun Jul  2 23:03:59 2023       \n",
            "+-----------------------------------------------------------------------------+\n",
            "| NVIDIA-SMI 525.85.12    Driver Version: 525.85.12    CUDA Version: 12.0     |\n",
            "|-------------------------------+----------------------+----------------------+\n",
            "| GPU  Name        Persistence-M| Bus-Id        Disp.A | Volatile Uncorr. ECC |\n",
            "| Fan  Temp  Perf  Pwr:Usage/Cap|         Memory-Usage | GPU-Util  Compute M. |\n",
            "|                               |                      |               MIG M. |\n",
            "|===============================+======================+======================|\n",
            "|   0  Tesla T4            Off  | 00000000:00:04.0 Off |                    0 |\n",
            "| N/A   55C    P0    31W /  70W |   1125MiB / 15360MiB |      0%      Default |\n",
            "|                               |                      |                  N/A |\n",
            "+-------------------------------+----------------------+----------------------+\n",
            "                                                                               \n",
            "+-----------------------------------------------------------------------------+\n",
            "| Processes:                                                                  |\n",
            "|  GPU   GI   CI        PID   Type   Process name                  GPU Memory |\n",
            "|        ID   ID                                                   Usage      |\n",
            "|=============================================================================|\n",
            "+-----------------------------------------------------------------------------+\n"
          ]
        }
      ]
    },
    {
      "cell_type": "markdown",
      "metadata": {
        "id": "bPd07XCEdsSL"
      },
      "source": [
        "## 3 . Build a Model (Baseline line)\n",
        "\n",
        "**Q :**  what is a `baseline` model ?\n",
        "\n",
        "**A :**  a baseline model is model that would be improved upon subsequent models or mabye expriments\n"
      ]
    },
    {
      "cell_type": "markdown",
      "metadata": {
        "id": "Zu2sZ2TldsTB"
      },
      "source": [
        "### 3.1  Creat a class for forward pass"
      ]
    },
    {
      "cell_type": "code",
      "execution_count": null,
      "metadata": {
        "colab": {
          "base_uri": "https://localhost:8080/"
        },
        "id": "RsjS4v5JEgtS",
        "outputId": "bfb5cdc3-7997-47db-b7fd-95e25bae5b18"
      },
      "outputs": [
        {
          "output_type": "stream",
          "name": "stdout",
          "text": [
            "input/image shape : torch.Size([1, 28, 28])  ->  [color_channel , height , width]\n",
            "output or flatten image shape : torch.Size([1, 784])   [color_channel , height*width]\n"
          ]
        }
      ],
      "source": [
        "# Creat flatten layer as we would work with linear layers\n",
        "flatten_fn = nn.Flatten()\n",
        "# pick a image\n",
        "x = train_feature_batch[0]\n",
        "# flatten the data\n",
        "output = flatten_fn(x)\n",
        "\n",
        "# printing out the result\n",
        "print(f\"input/image shape : {x.shape}  ->  [color_channel , height , width]\")\n",
        "print(f\"output or flatten image shape : {output.shape}   [color_channel , height*width]\")"
      ]
    },
    {
      "cell_type": "code",
      "execution_count": null,
      "metadata": {
        "id": "8GrTNPURIJrU"
      },
      "outputs": [],
      "source": [
        "class ComputerVision_0(nn.Module) :\n",
        "  def __init__(self,\n",
        "               input_shape : int,\n",
        "               hidden_unit : int,\n",
        "               output_shape : int):\n",
        "    super().__init__()\n",
        "    self.layer_stack = nn.Sequential(\n",
        "       nn.Flatten(),\n",
        "       nn.Linear(in_features=input_shape , out_features=hidden_unit),\n",
        "       nn.ReLU() ,\n",
        "       nn.Linear(in_features=hidden_unit, out_features=hidden_unit),\n",
        "       nn.ReLU() ,\n",
        "       nn.Linear(in_features=hidden_unit,out_features=output_shape)\n",
        "    )\n",
        "\n",
        "  def forward(self, x) :\n",
        "    return self.layer_stack(x)\n"
      ]
    },
    {
      "cell_type": "code",
      "execution_count": null,
      "metadata": {
        "colab": {
          "base_uri": "https://localhost:8080/"
        },
        "id": "JHkFCj1UEgxD",
        "outputId": "5577dccd-126f-464c-a7e4-2e5b621850d6"
      },
      "outputs": [
        {
          "output_type": "execute_result",
          "data": {
            "text/plain": [
              "ComputerVision_0(\n",
              "  (layer_stack): Sequential(\n",
              "    (0): Flatten(start_dim=1, end_dim=-1)\n",
              "    (1): Linear(in_features=784, out_features=10, bias=True)\n",
              "    (2): ReLU()\n",
              "    (3): Linear(in_features=10, out_features=10, bias=True)\n",
              "    (4): ReLU()\n",
              "    (5): Linear(in_features=10, out_features=10, bias=True)\n",
              "  )\n",
              ")"
            ]
          },
          "metadata": {},
          "execution_count": 110
        }
      ],
      "source": [
        "# set manual seed\n",
        "torch.manual_seed(42)\n",
        "# Creat an instance of our model with hyperparameters\n",
        "model_0 = ComputerVision_0(input_shape=28*28 , # according to the flatten layer output shape = [1,784]\n",
        "                           hidden_unit = 10,\n",
        "                           output_shape=len(train_data.classes)).to(device)\n",
        "\n",
        "model_0"
      ]
    },
    {
      "cell_type": "code",
      "execution_count": null,
      "metadata": {
        "id": "G78QXphlEg1E",
        "colab": {
          "base_uri": "https://localhost:8080/"
        },
        "outputId": "691a2cb7-9f2e-4bae-88b4-7b24a3bb1d62"
      },
      "outputs": [
        {
          "output_type": "execute_result",
          "data": {
            "text/plain": [
              "tensor([[-0.0130,  0.0087,  0.1175, -0.3350, -0.2157,  0.3650, -0.7423,  0.1544,\n",
              "         -0.3046,  0.3387]], device='cuda:0', grad_fn=<AddmmBackward0>)"
            ]
          },
          "metadata": {},
          "execution_count": 111
        }
      ],
      "source": [
        "# take a look at our created model (make predictions)\n",
        "torch.manual_seed(42)\n",
        "random_tensor = torch.rand([1 , 1 , 28 , 28]).to(device) # we choosed to preform one image for our model\n",
        "model_0(random_tensor)"
      ]
    },
    {
      "cell_type": "code",
      "execution_count": null,
      "metadata": {
        "id": "D3GNmtzTbZ8O",
        "colab": {
          "base_uri": "https://localhost:8080/"
        },
        "outputId": "55a84dad-1398-4ef6-e870-d0c0983a0394"
      },
      "outputs": [
        {
          "output_type": "execute_result",
          "data": {
            "text/plain": [
              "OrderedDict([('layer_stack.1.weight',\n",
              "              tensor([[ 0.0273,  0.0296, -0.0084,  ..., -0.0142,  0.0093,  0.0135],\n",
              "                      [-0.0188, -0.0354,  0.0187,  ..., -0.0106, -0.0001,  0.0115],\n",
              "                      [-0.0008,  0.0017,  0.0045,  ..., -0.0127, -0.0188,  0.0059],\n",
              "                      ...,\n",
              "                      [-0.0116,  0.0273, -0.0344,  ...,  0.0176,  0.0283, -0.0011],\n",
              "                      [-0.0230,  0.0257,  0.0291,  ..., -0.0187, -0.0087,  0.0001],\n",
              "                      [ 0.0176, -0.0147,  0.0053,  ..., -0.0336, -0.0221,  0.0205]],\n",
              "                     device='cuda:0')),\n",
              "             ('layer_stack.1.bias',\n",
              "              tensor([-0.0093,  0.0283, -0.0033,  0.0255,  0.0017,  0.0037, -0.0302, -0.0123,\n",
              "                       0.0018,  0.0163], device='cuda:0')),\n",
              "             ('layer_stack.3.weight',\n",
              "              tensor([[ 0.0614, -0.0687,  0.0021,  0.2718,  0.2109,  0.1079, -0.2279, -0.1063,\n",
              "                        0.2019,  0.2847],\n",
              "                      [-0.1495,  0.1344, -0.0740,  0.2006, -0.0475, -0.2514, -0.3130, -0.0118,\n",
              "                        0.0932, -0.1864],\n",
              "                      [ 0.2488,  0.1500,  0.1907,  0.1457, -0.3050, -0.0580,  0.1643,  0.1565,\n",
              "                       -0.2877, -0.1792],\n",
              "                      [ 0.2305, -0.2618,  0.2397, -0.0610,  0.0232,  0.1542,  0.0851, -0.2027,\n",
              "                        0.1030, -0.2715],\n",
              "                      [-0.1596, -0.0555, -0.0633,  0.2302, -0.1726,  0.2654,  0.1473,  0.1029,\n",
              "                        0.2252, -0.2160],\n",
              "                      [-0.2725,  0.0118,  0.1559,  0.1596,  0.0132,  0.3024,  0.1124,  0.1366,\n",
              "                       -0.1533,  0.0965],\n",
              "                      [-0.1184, -0.2555, -0.2057, -0.1909, -0.0477, -0.1324,  0.2905,  0.1307,\n",
              "                       -0.2629,  0.0133],\n",
              "                      [ 0.2727, -0.0127,  0.0513,  0.0863, -0.1043, -0.2047, -0.1185, -0.0825,\n",
              "                        0.2488, -0.2571],\n",
              "                      [ 0.0425, -0.1209, -0.0336, -0.0281, -0.1227,  0.0730,  0.0747, -0.1816,\n",
              "                        0.1943,  0.2853],\n",
              "                      [-0.1310,  0.0645, -0.1171,  0.2168, -0.0245, -0.2820,  0.0736,  0.2621,\n",
              "                        0.0012, -0.0810]], device='cuda:0')),\n",
              "             ('layer_stack.3.bias',\n",
              "              tensor([-0.0087,  0.1791,  0.2712, -0.0791,  0.1685,  0.1762,  0.2825,  0.2266,\n",
              "                      -0.2612, -0.2613], device='cuda:0')),\n",
              "             ('layer_stack.5.weight',\n",
              "              tensor([[-0.2624,  0.1987, -0.1606,  0.1747, -0.0471, -0.1303,  0.2380, -0.0611,\n",
              "                       -0.1707, -0.0485],\n",
              "                      [-0.2011, -0.3045, -0.0554, -0.0178, -0.1802,  0.2803, -0.0706, -0.0803,\n",
              "                        0.2506,  0.0352],\n",
              "                      [-0.0744,  0.0727, -0.2857,  0.3109,  0.0834,  0.1112, -0.2332,  0.2418,\n",
              "                       -0.2599, -0.1099],\n",
              "                      [-0.2028, -0.1597,  0.0675, -0.3136, -0.3096,  0.0722,  0.1042,  0.0045,\n",
              "                       -0.1201, -0.0885],\n",
              "                      [-0.0437, -0.0641, -0.1956,  0.2380,  0.0640, -0.2116, -0.0643, -0.2288,\n",
              "                       -0.1848,  0.2402],\n",
              "                      [ 0.0965,  0.1385, -0.0410, -0.0789,  0.0409, -0.2247, -0.3147,  0.2223,\n",
              "                        0.0064,  0.1918],\n",
              "                      [ 0.2379,  0.1383, -0.1081, -0.0580, -0.0165,  0.0189,  0.0123, -0.2472,\n",
              "                       -0.1738,  0.2304],\n",
              "                      [ 0.0101, -0.1434,  0.2138, -0.0939, -0.1286,  0.2210, -0.2495, -0.1514,\n",
              "                        0.2393, -0.0309],\n",
              "                      [-0.1304,  0.2624,  0.0481, -0.2971, -0.2338, -0.0802, -0.0174, -0.2381,\n",
              "                       -0.1192,  0.1069],\n",
              "                      [-0.2949, -0.2963,  0.0822,  0.0604, -0.3054, -0.2942,  0.2627,  0.3156,\n",
              "                       -0.1382,  0.3150]], device='cuda:0')),\n",
              "             ('layer_stack.5.bias',\n",
              "              tensor([ 0.2184,  0.2811, -0.1361, -0.0774,  0.1864,  0.1173, -0.2524,  0.1893,\n",
              "                       0.3084, -0.2008], device='cuda:0'))])"
            ]
          },
          "metadata": {},
          "execution_count": 112
        }
      ],
      "source": [
        "model_0.state_dict()"
      ]
    },
    {
      "cell_type": "markdown",
      "metadata": {
        "id": "FUSQ-7tcbZ7X"
      },
      "source": [
        "### 3.2 setup loss function and optimizer and evaluation metrics\n",
        "\n",
        "**loss function :** `nn.CrossEntropyLoss`\n",
        "\n",
        "**optimizer :** `torch.optim.SGD`\n",
        "\n",
        "**evaluation metrics :** for this model we would use `accuracy_fn()`"
      ]
    },
    {
      "cell_type": "code",
      "execution_count": null,
      "metadata": {
        "id": "-J3yZ6jwbZ3q",
        "colab": {
          "base_uri": "https://localhost:8080/"
        },
        "outputId": "ea609251-e5c8-4742-c291-2350d4e0782f"
      },
      "outputs": [
        {
          "output_type": "stream",
          "name": "stdout",
          "text": [
            "the file already exists , slipping download\n"
          ]
        }
      ],
      "source": [
        "# setup loss function\n",
        "loss_fn = nn.CrossEntropyLoss()\n",
        "# setup optimizer\n",
        "optimizer = torch.optim.SGD(params=model_0.parameters(),\n",
        "                            lr = 0.1)\n",
        "# importing accuracy function\n",
        "import requests\n",
        "from pathlib import Path\n",
        "## some if-else codes\n",
        "if Path(\"helper_function.py\").is_file() :\n",
        "  print(\"the file already exists , slipping download\")\n",
        "else :\n",
        "  request = requests.get(\"https://raw.githubusercontent.com/mrdbourke/pytorch-deep-learning/main/helper_functions.py\")\n",
        "  with open(\"helper_function.py\",\"wb\") as f :\n",
        "    f.write(request.content)\n",
        "    print(\"downloading helper_function.py\")\n",
        "\n",
        "from helper_function import accuracy_fn"
      ]
    },
    {
      "cell_type": "markdown",
      "metadata": {
        "id": "H2dEU4s5fY4A"
      },
      "source": [
        "### 3.3 Creat a function to time our expriments\n",
        "\n",
        "why creat a function to time our expriments ?\n",
        "\n",
        "beacase that there is two important thing that we always track about  models :\n",
        "\n",
        "1. how nice it preforms (model performance)\n",
        "2. how quik it preforms"
      ]
    },
    {
      "cell_type": "code",
      "execution_count": null,
      "metadata": {
        "id": "kLv5WDEOfYz8"
      },
      "outputs": [],
      "source": [
        "from timeit import default_timer as timer\n",
        "def print_train_time(start :float,\n",
        "                     end : float ,\n",
        "                     device : torch.device) :\n",
        "  train_time = end - start\n",
        "  print(f\"train time on {device} : is {train_time:.5f} seconds\")\n",
        "  return train_time"
      ]
    },
    {
      "cell_type": "code",
      "execution_count": null,
      "metadata": {
        "id": "9Z__caOifYy9",
        "colab": {
          "base_uri": "https://localhost:8080/"
        },
        "outputId": "c4b9e44a-0987-49e9-bfd4-f377414c3f6f"
      },
      "outputs": [
        {
          "output_type": "stream",
          "name": "stdout",
          "text": [
            "train time on cuda : is 0.00004 seconds\n"
          ]
        },
        {
          "output_type": "execute_result",
          "data": {
            "text/plain": [
              "4.4114000047557056e-05"
            ]
          },
          "metadata": {},
          "execution_count": 115
        }
      ],
      "source": [
        "start = timer()\n",
        "# some code\n",
        "end = timer()\n",
        "print_train_time(start=start,end=end,device=\"cuda\")"
      ]
    },
    {
      "cell_type": "markdown",
      "metadata": {
        "id": "goV3lNbDfYv4"
      },
      "source": [
        "## 4 . Build a training and testing loop"
      ]
    },
    {
      "cell_type": "code",
      "execution_count": null,
      "metadata": {
        "id": "zNyU0qX1fYu5",
        "colab": {
          "base_uri": "https://localhost:8080/",
          "height": 483,
          "referenced_widgets": [
            "606f1ada854343318f6b9b8391b00335",
            "99a7bed83eba4eadaacf5218d36307bb",
            "ae25fc1d06c04027befbf44c2dc667f0",
            "1696404322b3448fb1bcb6638016fe94",
            "0f3ffea3796f493c9e95a45ca37efd28",
            "9845906486af4d5eb349d165a39292ff",
            "1a293729729e48dc87701b7f98503969",
            "b0ec3043557e47a79f49fbb8e4a0f81d",
            "cfb029cf992c454692fbfdf93ee5e59c",
            "15a7874192c34da5992375a5fc89f1ba",
            "e49980bd7e954c0ba2e562b8387416c9"
          ]
        },
        "outputId": "326467eb-be35-4e67-80ef-8ac26ca2f983"
      },
      "outputs": [
        {
          "output_type": "display_data",
          "data": {
            "text/plain": [
              "  0%|          | 0/3 [00:00<?, ?it/s]"
            ],
            "application/vnd.jupyter.widget-view+json": {
              "version_major": 2,
              "version_minor": 0,
              "model_id": "606f1ada854343318f6b9b8391b00335"
            }
          },
          "metadata": {}
        },
        {
          "output_type": "stream",
          "name": "stdout",
          "text": [
            "0\n",
            "-----------\n",
            "looking at 0/60000 samples\n",
            "looking at 12800/60000 samples\n",
            "looking at 25600/60000 samples\n",
            "looking at 38400/60000 samples\n",
            "looking at 51200/60000 samples\n",
            "train loss : 0.6676768064498901  |  test losss : 0.50091552734375  |  test accuracy 82.08865814696486\n",
            "1\n",
            "-----------\n",
            "looking at 0/60000 samples\n",
            "looking at 12800/60000 samples\n",
            "looking at 25600/60000 samples\n",
            "looking at 38400/60000 samples\n",
            "looking at 51200/60000 samples\n",
            "train loss : 0.4834449291229248  |  test losss : 0.48895612359046936  |  test accuracy 82.68769968051119\n",
            "2\n",
            "-----------\n",
            "looking at 0/60000 samples\n",
            "looking at 12800/60000 samples\n",
            "looking at 25600/60000 samples\n",
            "looking at 38400/60000 samples\n",
            "looking at 51200/60000 samples\n",
            "train loss : 0.44954994320869446  |  test losss : 0.4858045279979706  |  test accuracy 82.8873801916933\n",
            "train time on cuda : is 37.53914 seconds\n"
          ]
        }
      ],
      "source": [
        "# importing tqdm module for creating a prograss bar how cool !\n",
        "from tqdm.auto import tqdm\n",
        "\n",
        "# set the manual seed\n",
        "torch.manual_seed(42)\n",
        "\n",
        "# set the timer to start\n",
        "start_time  = timer()\n",
        "\n",
        "#set epochs\n",
        "epochs = 3   # keeping epochs not a lot for our model better performance as we loop per batch\n",
        "\n",
        "# training and testing loop\n",
        "for epoch in tqdm(range(epochs)):\n",
        "  print(f\"{epoch}\\n-----------\")\n",
        "  ### Training\n",
        "  train_loss = 0\n",
        "  model_0.train()\n",
        "  for batch , (X,y) in enumerate(train_dataloader) :\n",
        "    # 0. put data  on target device\n",
        "    X , y = X.to(device) , y.to(device)\n",
        "    # 1. foraward pass\n",
        "    predictions = model_0(X)\n",
        "    # 2. calculate the loss\n",
        "    loss = loss_fn(predictions,y)\n",
        "    train_loss += loss\n",
        "    # 3. optimize zero grad\n",
        "    optimizer.zero_grad()\n",
        "    # 4. loss backward\n",
        "    loss.backward()\n",
        "    # 5.optmizer step\n",
        "    optimizer.step()\n",
        "    ## printing out what's happening !\n",
        "    if batch % 400 == 0 :\n",
        "      print(f\"looking at {batch * len(X)}/{len(train_data)} samples\")\n",
        "  # calculate average train loss per batch\n",
        "  train_loss /= len(train_dataloader)\n",
        "  ### Testing\n",
        "  test_loss = 0\n",
        "  test_acc = 0\n",
        "  model_0.eval()\n",
        "  with torch.inference_mode() :\n",
        "    for X_test , y_test in test_dataloader :\n",
        "      # 0. put data on target device\n",
        "      X_test , y_test = X_test.to(device) , y_test.to(device)\n",
        "      # 1. foraward pass\n",
        "      test_pred = model_0(X_test)\n",
        "      # 2. calculate the loss\n",
        "      test_loss += loss_fn(test_pred,y_test)\n",
        "      # 3. calculate the accuracy\n",
        "      test_acc += accuracy_fn(y_true=y_test , y_pred=test_pred.argmax(dim=1)) # be carefull about this\n",
        "    # calculate average loss per batch\n",
        "    test_loss /= len(test_dataloader)\n",
        "    # calculate average accuracy per batch\n",
        "    test_acc /= len(test_dataloader)\n",
        "\n",
        "  # print out what's happening\n",
        "  print(f\"train loss : {train_loss}  |  test losss : {test_loss}  |  test accuracy {test_acc}\")\n",
        "\n",
        "# stop the timer\n",
        "end_time  = timer()\n",
        "common_model_time = print_train_time(start=start_time,\n",
        "                 end=end_time,\n",
        "                 device=\"cuda\")"
      ]
    },
    {
      "cell_type": "code",
      "execution_count": null,
      "metadata": {
        "id": "F3M5jJB6fYrl",
        "colab": {
          "base_uri": "https://localhost:8080/"
        },
        "outputId": "264c8da3-a632-4577-f146-8bdee92c56fe"
      },
      "outputs": [
        {
          "output_type": "execute_result",
          "data": {
            "text/plain": [
              "60000"
            ]
          },
          "metadata": {},
          "execution_count": 117
        }
      ],
      "source": [
        "len(train_dataloader.dataset)"
      ]
    },
    {
      "cell_type": "code",
      "execution_count": null,
      "metadata": {
        "id": "DTaZCUMJfYqg",
        "colab": {
          "base_uri": "https://localhost:8080/"
        },
        "outputId": "dc10897c-8895-4ef2-e559-799e48e28b17"
      },
      "outputs": [
        {
          "output_type": "execute_result",
          "data": {
            "text/plain": [
              "tensor([5, 1, 3, 8, 4, 7, 9, 2, 6, 9, 4, 3, 3, 4, 3, 3, 9, 1, 0, 0, 3, 8, 5, 5,\n",
              "        0, 9, 3, 3, 9, 4, 2, 1], device='cuda:0')"
            ]
          },
          "metadata": {},
          "execution_count": 118
        }
      ],
      "source": [
        "test_pred = model_0(X)\n",
        "test_pred.argmax(dim=1)"
      ]
    },
    {
      "cell_type": "code",
      "execution_count": null,
      "metadata": {
        "id": "sGQpPjTEEg5V",
        "colab": {
          "base_uri": "https://localhost:8080/"
        },
        "outputId": "a61821cf-6550-44d9-dfa7-1d864601d21a"
      },
      "outputs": [
        {
          "output_type": "execute_result",
          "data": {
            "text/plain": [
              "1875"
            ]
          },
          "metadata": {},
          "execution_count": 119
        }
      ],
      "source": [
        "len(list(enumerate(train_dataloader)))"
      ]
    },
    {
      "cell_type": "code",
      "execution_count": null,
      "metadata": {
        "id": "_97rmvy4Eg9L",
        "colab": {
          "base_uri": "https://localhost:8080/"
        },
        "outputId": "488b4faa-6aae-44c4-be17-bfba2769708d"
      },
      "outputs": [
        {
          "output_type": "execute_result",
          "data": {
            "text/plain": [
              "32"
            ]
          },
          "metadata": {},
          "execution_count": 120
        }
      ],
      "source": [
        "len(list(enumerate(train_dataloader))[0][1][0])"
      ]
    },
    {
      "cell_type": "markdown",
      "metadata": {
        "id": "q38KeF0gEhBa"
      },
      "source": [
        "### 4.1 evaluating model results ( predictions ) function"
      ]
    },
    {
      "cell_type": "code",
      "execution_count": null,
      "metadata": {
        "id": "jXPVo6BVEhGf",
        "colab": {
          "base_uri": "https://localhost:8080/"
        },
        "outputId": "941b0467-413e-4ba1-f6fd-a852e4ab4794"
      },
      "outputs": [
        {
          "output_type": "execute_result",
          "data": {
            "text/plain": [
              "{'model name': 'ComputerVision_0',\n",
              " 'model_accuracy': 82.8873801916933,\n",
              " 'model loss': 0.4858045279979706}"
            ]
          },
          "metadata": {},
          "execution_count": 121
        }
      ],
      "source": [
        "torch.manual_seed(42)\n",
        "def eval_model(model : torch.nn.Module,\n",
        "               dataloader : torch.utils.data.dataloader,\n",
        "               loss_function : torch.nn.Module ,\n",
        "               accuracy_function) -> dict :\n",
        "  \"\"\" A function to recieve created model , make predictions and returning a dictionary of name , accuracy , loss of function\"\"\"\n",
        "  loss , acc = 0 , 0\n",
        "  model.eval()\n",
        "  with torch.inference_mode() :\n",
        "    # time to make prediction\n",
        "    for X , y in dataloader :\n",
        "      # put data on target device\n",
        "      X , y = X.to(device) , y.to(device)\n",
        "      y_pred = model(X)\n",
        "      # calculate total loss and total accuracy\n",
        "      loss += loss_fn(y_pred,y)\n",
        "      acc += accuracy_fn(y_true = y,\n",
        "                         y_pred = y_pred.argmax(dim=1))\n",
        "    # calculate average accuracy and average loss per batch\n",
        "    loss  /= len(dataloader)\n",
        "    acc /= len(dataloader)\n",
        "    # return\n",
        "    return {\"model name\" : model.__class__.__name__,\n",
        "            \"model_accuracy\" : acc,\n",
        "            \"model loss\" : loss.item() }\n",
        "\n",
        "# evaluating model_0 results based on test dataset\n",
        "model_0_eval_result = eval_model(model=model_0,\n",
        "                                 accuracy_function=accuracy_fn,\n",
        "                                 loss_function = loss_fn,\n",
        "                                 dataloader = test_dataloader)\n",
        "model_0_eval_result"
      ]
    },
    {
      "cell_type": "markdown",
      "metadata": {
        "id": "mBdfQoZH1Opf"
      },
      "source": [
        "## 5 . Using non-linearity for creating better models"
      ]
    },
    {
      "cell_type": "markdown",
      "metadata": {
        "id": "IMCdbAF51pLi"
      },
      "source": [
        "## 6 . Functionizing training and testing loops\n",
        "\n",
        "lets create afunction for :\n",
        "\n",
        "* training loop : `train_step()`\n",
        "* testing loop : `test_step()`"
      ]
    },
    {
      "cell_type": "code",
      "execution_count": null,
      "metadata": {
        "id": "jF-bLAPv2j5k"
      },
      "outputs": [],
      "source": [
        "def train_step(model : nn.Module ,\n",
        "               loss_function : nn.Module ,\n",
        "               accuracy_function ,\n",
        "               optimizer : torch.optim,\n",
        "               device : torch.device ,\n",
        "               dataloader : torch.utils.data.DataLoader\n",
        "               ) :\n",
        "    \"\"\"training model for better predictions\"\"\"\n",
        "    train_loss , train_acc = 0 , 0\n",
        "    ### training\n",
        "    # put model on training mode\n",
        "    model.train()\n",
        "    # looping through training batches\n",
        "    for batch , (x,y) in enumerate(dataloader) :\n",
        "      # put the data on target device\n",
        "      x , y = x.to(device) , y.to(device)\n",
        "      # 1 . forward pass (reciving raw logits from model)\n",
        "      y_pred = model(x)\n",
        "      # 2 . clculate the loss and accuracy (per batch)\n",
        "      loss = loss_function(y_pred,\n",
        "                           y)\n",
        "      train_loss += loss\n",
        "      train_acc += accuracy_function(y_true = y ,\n",
        "                                     y_pred = y_pred.argmax(dim=1)) # going from raw logits -> prediction lables\n",
        "      # 3 . optmize zero-grad\n",
        "      optimizer.zero_grad()\n",
        "      # 4 . Loss backward\n",
        "      loss.backward()\n",
        "      # 5 . optimizer step\n",
        "      optimizer.step()\n",
        "    # calculate the average loss and accuracy per batch\n",
        "    train_loss /= len(dataloader)\n",
        "    train_acc /= len(dataloader)\n",
        "    # printing out results\n",
        "    print(f\"train loss : {train_loss:.5f}  | train accuracy : {train_acc:.5f}%\")"
      ]
    },
    {
      "cell_type": "code",
      "execution_count": null,
      "metadata": {
        "id": "7GdkpodS2j-Y"
      },
      "outputs": [],
      "source": [
        "def test_step(model : nn.Module ,\n",
        "              dataloader : torch.utils.data.DataLoader,\n",
        "              loss_function : nn.Module ,\n",
        "              accuracy_function,\n",
        "              device : torch.device) :\n",
        "    ### testing\n",
        "    test_loss , test_accuracy = 0 , 0\n",
        "    # putting model on eval mode\n",
        "    model.eval()\n",
        "    # turning on inference mode context manager\n",
        "    with torch.inference_mode() :\n",
        "      for x , y in dataloader :\n",
        "        # 0 . send data to the target device\n",
        "        x , y = x.to(device) , y.to(device)\n",
        "        # 1 . make predictions\n",
        "        y_pred = model(x)\n",
        "        # 2 . calculate loss and accuracy\n",
        "        test_loss += loss_function(y_pred,y)\n",
        "        test_accuracy += accuracy_function(y_true=y,\n",
        "                                          y_pred = y_pred.argmax(dim=1)) # going from logits ->  prediction lables\n",
        "      # 3 . calculate average test loss and accuracy\n",
        "      test_loss /= len(dataloader)\n",
        "      test_accuracy /= len(dataloader)\n",
        "      # 4 . print out results\n",
        "      print(f\"test loss : {test_loss:.5f}  | test accuracy : {test_accuracy:.5f} %\\n\")"
      ]
    },
    {
      "cell_type": "markdown",
      "metadata": {
        "id": "ZcfMNJgLrTlY"
      },
      "source": [
        "## 7 . Create a Convoloutional Neural Networks (CNNs) Model\n",
        "\n",
        "CNNs are also known as ConvNets\n",
        "\n",
        "there is different architectures of CNNs like VGG-16(we would look at that at next notebook)\n",
        "\n",
        "for more detail's about CNNs see website : [CNNs](https://towardsdatascience.com/a-comprehensive-guide-to-convolutional-neural-networks-the-eli5-way-3bd2b1164a53)\n",
        "\n",
        "for more detalis about VGG architecture look : [VGG](https://viso.ai/deep-learning/vgg-very-deep-convolutional-networks/)\n",
        "\n",
        "for reading about TonyVGG class : [TinyVGG](https://github.com/poloclub/cnn-explainer/blob/master/tiny-vgg/tiny-vgg.py)"
      ]
    },
    {
      "cell_type": "code",
      "execution_count": null,
      "metadata": {
        "id": "IvwCzb8UyqvX"
      },
      "outputs": [],
      "source": [
        "# Create a convolutional neural network\n",
        "class Computer_Vision_CNN(nn.Module) :\n",
        "\n",
        "  \"\"\" this class is based on TinyVGG architecture \"\"\"\n",
        "\n",
        "  def __init__(self, input_shape : int , hidden_unit : int , output_shape : int) :\n",
        "    super().__init__()\n",
        "\n",
        "    self.conv_block_1 = nn.Sequential(\n",
        "        nn.Conv2d(in_channels = input_shape,\n",
        "                  out_channels = hidden_unit ,\n",
        "                  kernel_size = 3 ,\n",
        "                  stride = 1 ,\n",
        "                  padding = 1) ,\n",
        "        nn.ReLU() ,\n",
        "        nn.Conv2d(in_channels = hidden_unit,\n",
        "                  out_channels = hidden_unit,\n",
        "                  kernel_size = 3 ,\n",
        "                  stride = 1 ,\n",
        "                  padding = 1) ,\n",
        "        nn.ReLU(),\n",
        "        nn.MaxPool2d(kernel_size = 2)\n",
        "    )\n",
        "    self.conv_block_2 = nn.Sequential(\n",
        "        nn.Conv2d(in_channels  = hidden_unit,\n",
        "                  out_channels = hidden_unit,\n",
        "                  kernel_size = 3,\n",
        "                  stride = 1,\n",
        "                  padding  = 1) ,\n",
        "        nn.ReLU() ,\n",
        "        nn.Conv2d(in_channels = hidden_unit,\n",
        "                  out_channels = hidden_unit,\n",
        "                  kernel_size = 3 ,\n",
        "                  stride = 1 ,\n",
        "                  padding = 1) ,\n",
        "        nn.ReLU(),\n",
        "        nn.MaxPool2d(kernel_size = 2)\n",
        "    )\n",
        "    self.classifier = nn.Sequential(\n",
        "        nn.Flatten() ,\n",
        "        nn.Linear(in_features = hidden_unit*7*7 , # 7 equals 28/4 that 28  is the dimensions of input images and 4=2*2 if for the 2 times that maxpool works ,\n",
        "                  out_features = output_shape)\n",
        "    )\n",
        "  def forward(self,x) :\n",
        "    y = self.classifier(self.conv_block_2(self.conv_block_1(x)))\n",
        "    return y"
      ]
    },
    {
      "cell_type": "code",
      "execution_count": null,
      "metadata": {
        "id": "ZD0MWJ82yq0L"
      },
      "outputs": [],
      "source": [
        "torch.manual_seed(42)\n",
        "model_CNN = Computer_Vision_CNN(input_shape = 1 ,\n",
        "                                hidden_unit = 10 ,\n",
        "                                output_shape = len(train_data.classes)).to(device)"
      ]
    },
    {
      "cell_type": "code",
      "execution_count": null,
      "metadata": {
        "id": "juUZgz3cyq4V",
        "colab": {
          "base_uri": "https://localhost:8080/"
        },
        "outputId": "cf4c954a-9a8a-44fd-fd8a-352af4cd8e14"
      },
      "outputs": [
        {
          "output_type": "execute_result",
          "data": {
            "text/plain": [
              "torch.Size([1, 28, 28])"
            ]
          },
          "metadata": {},
          "execution_count": 127
        }
      ],
      "source": [
        "random_image = torch.randn(size=(1,28,28))\n",
        "random_image.shape"
      ]
    },
    {
      "cell_type": "code",
      "execution_count": null,
      "metadata": {
        "id": "5vNgUXroyq8o",
        "colab": {
          "base_uri": "https://localhost:8080/"
        },
        "outputId": "020e619b-6ebd-48cb-ac9c-864cf3dc3e76"
      },
      "outputs": [
        {
          "output_type": "execute_result",
          "data": {
            "text/plain": [
              "tensor([[ 0.0366, -0.0940,  0.0686, -0.0485,  0.0068,  0.0290,  0.0132,  0.0084,\n",
              "         -0.0030, -0.0185]], device='cuda:0', grad_fn=<AddmmBackward0>)"
            ]
          },
          "metadata": {},
          "execution_count": 128
        }
      ],
      "source": [
        "prediction = model_CNN(random_image.unsqueeze(0).to(device))\n",
        "prediction"
      ]
    },
    {
      "cell_type": "markdown",
      "metadata": {
        "id": "FlyQKY9OyrFj"
      },
      "source": [
        "### 7.1 Stepping through `nn.Conv2d()`\n",
        "\n",
        "Documentation for `nn.Conv2d()` : [Conv2d](https://pytorch.org/docs/stable/generated/torch.nn.Conv2d.html)"
      ]
    },
    {
      "cell_type": "code",
      "execution_count": null,
      "metadata": {
        "id": "DvnsQFdPdX5C",
        "colab": {
          "base_uri": "https://localhost:8080/"
        },
        "outputId": "320fda25-fd93-4e0d-8f0a-aa84114b933d"
      },
      "outputs": [
        {
          "output_type": "stream",
          "name": "stdout",
          "text": [
            "image batch shape : torch.Size([32, 3, 64, 64])\n",
            "batch images shape are : torch.Size([3, 64, 64])\n"
          ]
        }
      ],
      "source": [
        "import random\n",
        "torch.manual_seed(42)\n",
        "image_random_batch = torch.randn(32,3,64,64)\n",
        "random_batch_image = image_random_batch[random.choice(range(len(image_random_batch)))]\n",
        "\n",
        "# printing out random batch created details\n",
        "print(f\"image batch shape : {image_random_batch.shape}\")\n",
        "print(f\"batch images shape are : {random_batch_image.shape}\")"
      ]
    },
    {
      "cell_type": "code",
      "execution_count": null,
      "metadata": {
        "id": "YwCGWhFZdX_O"
      },
      "outputs": [],
      "source": [
        "conv_layer = nn.Conv2d(in_channels = 3,\n",
        "                      out_channels  = 10 ,\n",
        "                      kernel_size = 3,\n",
        "                      stride = 1 ,\n",
        "                      padding = 1)"
      ]
    },
    {
      "cell_type": "markdown",
      "metadata": {
        "id": "k7FZP_ATmgtD"
      },
      "source": [
        "**Tip :** The image tensors must be unsqueezed before inputing to the `Conv2d`"
      ]
    },
    {
      "cell_type": "code",
      "execution_count": null,
      "metadata": {
        "id": "2U-a80ztdYDi",
        "colab": {
          "base_uri": "https://localhost:8080/"
        },
        "outputId": "197b68dc-408e-426a-d271-e63bb92e7a9f"
      },
      "outputs": [
        {
          "output_type": "stream",
          "name": "stdout",
          "text": [
            "the random batch image shape is : torch.Size([1, 3, 64, 64])\n",
            "the convoloution layer result is : torch.Size([1, 10, 64, 64])\n"
          ]
        }
      ],
      "source": [
        "conv_image  = conv_layer(random_batch_image.unsqueeze(0))\n",
        "print(f\"the random batch image shape is : {random_batch_image.unsqueeze(0).shape}\")\n",
        "print(f\"the convoloution layer result is : {conv_image.shape}\")"
      ]
    },
    {
      "cell_type": "markdown",
      "metadata": {
        "id": "KkSMKWnoqcDU"
      },
      "source": [
        "### 7.2 Stepping through `nn.ReLU()`\n",
        "\n",
        "Documentation for nn.ReLU() : [ReLU](https://pytorch.org/docs/stable/generated/torch.nn.ReLU.html)"
      ]
    },
    {
      "cell_type": "code",
      "execution_count": null,
      "metadata": {
        "id": "Mj4-hxmeq90r",
        "colab": {
          "base_uri": "https://localhost:8080/"
        },
        "outputId": "4b4bde84-3f08-45a2-b13f-0c106812d2fa"
      },
      "outputs": [
        {
          "output_type": "execute_result",
          "data": {
            "text/plain": [
              "torch.Size([1, 10, 64, 64])"
            ]
          },
          "metadata": {},
          "execution_count": 132
        }
      ],
      "source": [
        "image_relu = nn.ReLU()\n",
        "relu_image = image_relu(conv_image)\n",
        "relu_image.shape"
      ]
    },
    {
      "cell_type": "markdown",
      "metadata": {
        "id": "Td1n6hpPq95U"
      },
      "source": [
        "**Tip :** Don't do *relu_image = nn.ReLU(conv_image)*"
      ]
    },
    {
      "cell_type": "markdown",
      "metadata": {
        "id": "f_cqhNUoyrKE"
      },
      "source": [
        "### 7.3 Stepping through `nn.MaxPool2d()`\n",
        "\n",
        "Documentation for `nn.MaxPool2d()` : [MaxPool2d](https://pytorch.org/docs/stable/generated/torch.nn.MaxPool2d.html)"
      ]
    },
    {
      "cell_type": "code",
      "execution_count": null,
      "metadata": {
        "id": "uZTagnXVyrON",
        "colab": {
          "base_uri": "https://localhost:8080/"
        },
        "outputId": "e7822464-2788-4db7-a1b5-5e5a2b070240"
      },
      "outputs": [
        {
          "output_type": "stream",
          "name": "stdout",
          "text": [
            "shape of image tensor after passing maxpool is : torch.Size([1, 10, 32, 32])\n",
            "shape of image tensor before passing maxpool is : torch.Size([1, 10, 64, 64])\n"
          ]
        }
      ],
      "source": [
        "maxpool_layer = nn.MaxPool2d(kernel_size = 2)\n",
        "image_maxpool = maxpool_layer(relu_image)\n",
        "print(f\"shape of image tensor after passing maxpool is : {image_maxpool.shape}\")\n",
        "print(f\"shape of image tensor before passing maxpool is : {relu_image.shape}\")"
      ]
    },
    {
      "cell_type": "markdown",
      "metadata": {
        "id": "JTOFrQcjyrSr"
      },
      "source": [
        "a closer look at what `nn.MaxPool2d` does"
      ]
    },
    {
      "cell_type": "code",
      "execution_count": null,
      "metadata": {
        "id": "GT8opAbXyrXh",
        "colab": {
          "base_uri": "https://localhost:8080/"
        },
        "outputId": "dceddc11-5c26-40ea-eca4-a395f1f83369"
      },
      "outputs": [
        {
          "output_type": "stream",
          "name": "stdout",
          "text": [
            "random tensor is : \n",
            " tensor([[[[0.3367, 0.1288],\n",
            "          [0.2345, 0.2303]]]])\n",
            "maxpool tensor is : \n",
            " tensor([[[[0.3367]]]])\n"
          ]
        }
      ],
      "source": [
        "torch.manual_seed(42)\n",
        "random_tensor  = torch.randn(1,1,2,2)\n",
        "random_maxpool = maxpool_layer(random_tensor)\n",
        "print(f\"random tensor is : \\n {random_tensor}\")\n",
        "print(f\"maxpool tensor is : \\n {random_maxpool}\")"
      ]
    },
    {
      "cell_type": "markdown",
      "metadata": {
        "id": "L4rw49__IAyD"
      },
      "source": [
        "### 7.4 Stepping through `nn.Flatten()`"
      ]
    },
    {
      "cell_type": "code",
      "execution_count": null,
      "metadata": {
        "id": "Ok2IegMMIIX9"
      },
      "outputs": [],
      "source": [
        "flatten_layer  = nn.Flatten()\n",
        "image_flatten = flatten_layer(image_maxpool)"
      ]
    },
    {
      "cell_type": "code",
      "execution_count": null,
      "metadata": {
        "id": "ogWrm6CeIvbT",
        "colab": {
          "base_uri": "https://localhost:8080/"
        },
        "outputId": "39b4bd7a-6d34-4531-fe84-f1618e9e9bef"
      },
      "outputs": [
        {
          "output_type": "execute_result",
          "data": {
            "text/plain": [
              "torch.Size([1, 10240])"
            ]
          },
          "metadata": {},
          "execution_count": 136
        }
      ],
      "source": [
        "image_flatten.shape"
      ]
    },
    {
      "cell_type": "markdown",
      "metadata": {
        "id": "vFLChGDaxI1J"
      },
      "source": [
        "### 7.5 setup loss function and optimizer for `model_CNN`"
      ]
    },
    {
      "cell_type": "code",
      "execution_count": null,
      "metadata": {
        "id": "dfV_DmucxI4V"
      },
      "outputs": [],
      "source": [
        "# Accuracy function\n",
        "from helper_function import accuracy_fn\n",
        "# loss function\n",
        "loss_fn = nn.CrossEntropyLoss()\n",
        "# optimizer\n",
        "optimizer  = torch.optim.SGD(lr=0.01 ,\n",
        "                             params=model_CNN.parameters())"
      ]
    },
    {
      "cell_type": "markdown",
      "metadata": {
        "id": "34wL3xZTxI8n"
      },
      "source": [
        "### 7.5 training and testing our `model_CNN` using our training and testing function"
      ]
    },
    {
      "cell_type": "code",
      "execution_count": null,
      "metadata": {
        "id": "AsaJoREjxJAx",
        "colab": {
          "base_uri": "https://localhost:8080/",
          "height": 327,
          "referenced_widgets": [
            "d1628ba846c9431fb9a6e16255cdfb08",
            "fa058131913940439e462bd366a25665",
            "8ac15ecfc5684eefa71188c0bc50a7cc",
            "6102654e187a4d058a76f4d5b8a5e5dc",
            "8eca2bd6fdcf40de849e9104e4d2790f",
            "23904a0b763e405bb573b22a29a0e304",
            "b8a882182e7d459aa4bad57a0b9fd3c3",
            "78973069bd1f4b33878a82bc89313e7c",
            "2464395b3b114d6da9943050d991702a",
            "8372b085ea96411193982215a335e4c8",
            "25ee0a813242499dabc2a5ed6aceca59"
          ]
        },
        "outputId": "7791f71b-c055-4c09-9865-d9ab1f250afc"
      },
      "outputs": [
        {
          "output_type": "display_data",
          "data": {
            "text/plain": [
              "  0%|          | 0/3 [00:00<?, ?it/s]"
            ],
            "application/vnd.jupyter.widget-view+json": {
              "version_major": 2,
              "version_minor": 0,
              "model_id": "d1628ba846c9431fb9a6e16255cdfb08"
            }
          },
          "metadata": {}
        },
        {
          "output_type": "stream",
          "name": "stdout",
          "text": [
            "epochs 0 :  \n",
            "--------\n",
            "train loss : 1.03793  | train accuracy : 62.18667%\n",
            "test loss : 0.66169  | test accuracy : 75.18970 %\n",
            "\n",
            "epochs 1 :  \n",
            "--------\n",
            "train loss : 0.55002  | train accuracy : 80.05167%\n",
            "test loss : 0.49857  | test accuracy : 82.29832 %\n",
            "\n",
            "epochs 2 :  \n",
            "--------\n",
            "train loss : 0.45489  | train accuracy : 83.55667%\n",
            "test loss : 0.44226  | test accuracy : 84.39497 %\n",
            "\n",
            "train time on cuda : is 64.80956 seconds\n"
          ]
        }
      ],
      "source": [
        "# torch.manual_seed(42)\n",
        "# torch.cuda.manual_seed(42)\n",
        "# Measure time\n",
        "from timeit import default_timer as timer\n",
        "start_time  = timer()\n",
        "# training and testing\n",
        "epochs = 3\n",
        "for epoch in tqdm(range(epochs)) :\n",
        "  print(f\"epochs {epoch} :  \\n--------\")\n",
        "  train_step(model= model_CNN ,\n",
        "             dataloader = train_dataloader,\n",
        "             device = device ,\n",
        "             loss_function=loss_fn,\n",
        "             accuracy_function=accuracy_fn,\n",
        "             optimizer=optimizer)\n",
        "  test_step(model = model_CNN ,\n",
        "            dataloader = test_dataloader ,\n",
        "            loss_function = loss_fn ,\n",
        "            accuracy_function = accuracy_fn,\n",
        "            device  = device)\n",
        "\n",
        "end_time = timer()\n",
        "model_CNN_time = print_train_time(start=start_time ,\n",
        "                                  end = end_time ,\n",
        "                                  device  = device)"
      ]
    },
    {
      "cell_type": "markdown",
      "metadata": {
        "id": "GXx6b04jAHqU"
      },
      "source": [
        "### 7.6 get CNN model results"
      ]
    },
    {
      "cell_type": "code",
      "execution_count": null,
      "metadata": {
        "id": "KQb_VQRTASrw",
        "colab": {
          "base_uri": "https://localhost:8080/"
        },
        "outputId": "8f167759-d325-4636-b1bf-260e204cc638"
      },
      "outputs": [
        {
          "output_type": "execute_result",
          "data": {
            "text/plain": [
              "{'model name': 'Computer_Vision_CNN',\n",
              " 'model_accuracy': 84.39496805111821,\n",
              " 'model loss': 0.4422632157802582}"
            ]
          },
          "metadata": {},
          "execution_count": 139
        }
      ],
      "source": [
        "CNN_model_results = eval_model(model= model_CNN ,\n",
        "                               accuracy_function=accuracy_fn,\n",
        "                               loss_function = loss_fn,\n",
        "                               dataloader = test_dataloader)\n",
        "CNN_model_results"
      ]
    },
    {
      "cell_type": "markdown",
      "metadata": {
        "id": "rotvEnLW7c3z"
      },
      "source": [
        "## 8 . Compare model results and training time"
      ]
    },
    {
      "cell_type": "code",
      "execution_count": null,
      "metadata": {
        "id": "TGqFNSnZ7dE9",
        "colab": {
          "base_uri": "https://localhost:8080/",
          "height": 112
        },
        "outputId": "32baaa81-5b0b-4397-8806-9745f07f3443"
      },
      "outputs": [
        {
          "output_type": "execute_result",
          "data": {
            "text/plain": [
              "            model name  model_accuracy  model loss\n",
              "0     ComputerVision_0       82.887380    0.485805\n",
              "1  Computer_Vision_CNN       84.394968    0.442263"
            ],
            "text/html": [
              "\n",
              "  <div id=\"df-9c822bdc-97e8-4921-b778-45ca1da266a4\">\n",
              "    <div class=\"colab-df-container\">\n",
              "      <div>\n",
              "<style scoped>\n",
              "    .dataframe tbody tr th:only-of-type {\n",
              "        vertical-align: middle;\n",
              "    }\n",
              "\n",
              "    .dataframe tbody tr th {\n",
              "        vertical-align: top;\n",
              "    }\n",
              "\n",
              "    .dataframe thead th {\n",
              "        text-align: right;\n",
              "    }\n",
              "</style>\n",
              "<table border=\"1\" class=\"dataframe\">\n",
              "  <thead>\n",
              "    <tr style=\"text-align: right;\">\n",
              "      <th></th>\n",
              "      <th>model name</th>\n",
              "      <th>model_accuracy</th>\n",
              "      <th>model loss</th>\n",
              "    </tr>\n",
              "  </thead>\n",
              "  <tbody>\n",
              "    <tr>\n",
              "      <th>0</th>\n",
              "      <td>ComputerVision_0</td>\n",
              "      <td>82.887380</td>\n",
              "      <td>0.485805</td>\n",
              "    </tr>\n",
              "    <tr>\n",
              "      <th>1</th>\n",
              "      <td>Computer_Vision_CNN</td>\n",
              "      <td>84.394968</td>\n",
              "      <td>0.442263</td>\n",
              "    </tr>\n",
              "  </tbody>\n",
              "</table>\n",
              "</div>\n",
              "      <button class=\"colab-df-convert\" onclick=\"convertToInteractive('df-9c822bdc-97e8-4921-b778-45ca1da266a4')\"\n",
              "              title=\"Convert this dataframe to an interactive table.\"\n",
              "              style=\"display:none;\">\n",
              "        \n",
              "  <svg xmlns=\"http://www.w3.org/2000/svg\" height=\"24px\"viewBox=\"0 0 24 24\"\n",
              "       width=\"24px\">\n",
              "    <path d=\"M0 0h24v24H0V0z\" fill=\"none\"/>\n",
              "    <path d=\"M18.56 5.44l.94 2.06.94-2.06 2.06-.94-2.06-.94-.94-2.06-.94 2.06-2.06.94zm-11 1L8.5 8.5l.94-2.06 2.06-.94-2.06-.94L8.5 2.5l-.94 2.06-2.06.94zm10 10l.94 2.06.94-2.06 2.06-.94-2.06-.94-.94-2.06-.94 2.06-2.06.94z\"/><path d=\"M17.41 7.96l-1.37-1.37c-.4-.4-.92-.59-1.43-.59-.52 0-1.04.2-1.43.59L10.3 9.45l-7.72 7.72c-.78.78-.78 2.05 0 2.83L4 21.41c.39.39.9.59 1.41.59.51 0 1.02-.2 1.41-.59l7.78-7.78 2.81-2.81c.8-.78.8-2.07 0-2.86zM5.41 20L4 18.59l7.72-7.72 1.47 1.35L5.41 20z\"/>\n",
              "  </svg>\n",
              "      </button>\n",
              "      \n",
              "  <style>\n",
              "    .colab-df-container {\n",
              "      display:flex;\n",
              "      flex-wrap:wrap;\n",
              "      gap: 12px;\n",
              "    }\n",
              "\n",
              "    .colab-df-convert {\n",
              "      background-color: #E8F0FE;\n",
              "      border: none;\n",
              "      border-radius: 50%;\n",
              "      cursor: pointer;\n",
              "      display: none;\n",
              "      fill: #1967D2;\n",
              "      height: 32px;\n",
              "      padding: 0 0 0 0;\n",
              "      width: 32px;\n",
              "    }\n",
              "\n",
              "    .colab-df-convert:hover {\n",
              "      background-color: #E2EBFA;\n",
              "      box-shadow: 0px 1px 2px rgba(60, 64, 67, 0.3), 0px 1px 3px 1px rgba(60, 64, 67, 0.15);\n",
              "      fill: #174EA6;\n",
              "    }\n",
              "\n",
              "    [theme=dark] .colab-df-convert {\n",
              "      background-color: #3B4455;\n",
              "      fill: #D2E3FC;\n",
              "    }\n",
              "\n",
              "    [theme=dark] .colab-df-convert:hover {\n",
              "      background-color: #434B5C;\n",
              "      box-shadow: 0px 1px 3px 1px rgba(0, 0, 0, 0.15);\n",
              "      filter: drop-shadow(0px 1px 2px rgba(0, 0, 0, 0.3));\n",
              "      fill: #FFFFFF;\n",
              "    }\n",
              "  </style>\n",
              "\n",
              "      <script>\n",
              "        const buttonEl =\n",
              "          document.querySelector('#df-9c822bdc-97e8-4921-b778-45ca1da266a4 button.colab-df-convert');\n",
              "        buttonEl.style.display =\n",
              "          google.colab.kernel.accessAllowed ? 'block' : 'none';\n",
              "\n",
              "        async function convertToInteractive(key) {\n",
              "          const element = document.querySelector('#df-9c822bdc-97e8-4921-b778-45ca1da266a4');\n",
              "          const dataTable =\n",
              "            await google.colab.kernel.invokeFunction('convertToInteractive',\n",
              "                                                     [key], {});\n",
              "          if (!dataTable) return;\n",
              "\n",
              "          const docLinkHtml = 'Like what you see? Visit the ' +\n",
              "            '<a target=\"_blank\" href=https://colab.research.google.com/notebooks/data_table.ipynb>data table notebook</a>'\n",
              "            + ' to learn more about interactive tables.';\n",
              "          element.innerHTML = '';\n",
              "          dataTable['output_type'] = 'display_data';\n",
              "          await google.colab.output.renderOutput(dataTable, element);\n",
              "          const docLink = document.createElement('div');\n",
              "          docLink.innerHTML = docLinkHtml;\n",
              "          element.appendChild(docLink);\n",
              "        }\n",
              "      </script>\n",
              "    </div>\n",
              "  </div>\n",
              "  "
            ]
          },
          "metadata": {},
          "execution_count": 140
        }
      ],
      "source": [
        "import pandas as pd\n",
        "compare_results = pd.DataFrame([model_0_eval_result\n",
        "                              , CNN_model_results])\n",
        "compare_results"
      ]
    },
    {
      "cell_type": "code",
      "execution_count": null,
      "metadata": {
        "id": "iGij5v0s7dP5",
        "colab": {
          "base_uri": "https://localhost:8080/",
          "height": 112
        },
        "outputId": "da0d1bfe-9282-4d28-9b12-ea4f264cbf9f"
      },
      "outputs": [
        {
          "output_type": "execute_result",
          "data": {
            "text/plain": [
              "            model name  model_accuracy  model loss  training time\n",
              "0     ComputerVision_0       82.887380    0.485805      37.539137\n",
              "1  Computer_Vision_CNN       84.394968    0.442263      64.809559"
            ],
            "text/html": [
              "\n",
              "  <div id=\"df-9499b8c0-3658-4ab7-a17b-21d9ab2f7b2e\">\n",
              "    <div class=\"colab-df-container\">\n",
              "      <div>\n",
              "<style scoped>\n",
              "    .dataframe tbody tr th:only-of-type {\n",
              "        vertical-align: middle;\n",
              "    }\n",
              "\n",
              "    .dataframe tbody tr th {\n",
              "        vertical-align: top;\n",
              "    }\n",
              "\n",
              "    .dataframe thead th {\n",
              "        text-align: right;\n",
              "    }\n",
              "</style>\n",
              "<table border=\"1\" class=\"dataframe\">\n",
              "  <thead>\n",
              "    <tr style=\"text-align: right;\">\n",
              "      <th></th>\n",
              "      <th>model name</th>\n",
              "      <th>model_accuracy</th>\n",
              "      <th>model loss</th>\n",
              "      <th>training time</th>\n",
              "    </tr>\n",
              "  </thead>\n",
              "  <tbody>\n",
              "    <tr>\n",
              "      <th>0</th>\n",
              "      <td>ComputerVision_0</td>\n",
              "      <td>82.887380</td>\n",
              "      <td>0.485805</td>\n",
              "      <td>37.539137</td>\n",
              "    </tr>\n",
              "    <tr>\n",
              "      <th>1</th>\n",
              "      <td>Computer_Vision_CNN</td>\n",
              "      <td>84.394968</td>\n",
              "      <td>0.442263</td>\n",
              "      <td>64.809559</td>\n",
              "    </tr>\n",
              "  </tbody>\n",
              "</table>\n",
              "</div>\n",
              "      <button class=\"colab-df-convert\" onclick=\"convertToInteractive('df-9499b8c0-3658-4ab7-a17b-21d9ab2f7b2e')\"\n",
              "              title=\"Convert this dataframe to an interactive table.\"\n",
              "              style=\"display:none;\">\n",
              "        \n",
              "  <svg xmlns=\"http://www.w3.org/2000/svg\" height=\"24px\"viewBox=\"0 0 24 24\"\n",
              "       width=\"24px\">\n",
              "    <path d=\"M0 0h24v24H0V0z\" fill=\"none\"/>\n",
              "    <path d=\"M18.56 5.44l.94 2.06.94-2.06 2.06-.94-2.06-.94-.94-2.06-.94 2.06-2.06.94zm-11 1L8.5 8.5l.94-2.06 2.06-.94-2.06-.94L8.5 2.5l-.94 2.06-2.06.94zm10 10l.94 2.06.94-2.06 2.06-.94-2.06-.94-.94-2.06-.94 2.06-2.06.94z\"/><path d=\"M17.41 7.96l-1.37-1.37c-.4-.4-.92-.59-1.43-.59-.52 0-1.04.2-1.43.59L10.3 9.45l-7.72 7.72c-.78.78-.78 2.05 0 2.83L4 21.41c.39.39.9.59 1.41.59.51 0 1.02-.2 1.41-.59l7.78-7.78 2.81-2.81c.8-.78.8-2.07 0-2.86zM5.41 20L4 18.59l7.72-7.72 1.47 1.35L5.41 20z\"/>\n",
              "  </svg>\n",
              "      </button>\n",
              "      \n",
              "  <style>\n",
              "    .colab-df-container {\n",
              "      display:flex;\n",
              "      flex-wrap:wrap;\n",
              "      gap: 12px;\n",
              "    }\n",
              "\n",
              "    .colab-df-convert {\n",
              "      background-color: #E8F0FE;\n",
              "      border: none;\n",
              "      border-radius: 50%;\n",
              "      cursor: pointer;\n",
              "      display: none;\n",
              "      fill: #1967D2;\n",
              "      height: 32px;\n",
              "      padding: 0 0 0 0;\n",
              "      width: 32px;\n",
              "    }\n",
              "\n",
              "    .colab-df-convert:hover {\n",
              "      background-color: #E2EBFA;\n",
              "      box-shadow: 0px 1px 2px rgba(60, 64, 67, 0.3), 0px 1px 3px 1px rgba(60, 64, 67, 0.15);\n",
              "      fill: #174EA6;\n",
              "    }\n",
              "\n",
              "    [theme=dark] .colab-df-convert {\n",
              "      background-color: #3B4455;\n",
              "      fill: #D2E3FC;\n",
              "    }\n",
              "\n",
              "    [theme=dark] .colab-df-convert:hover {\n",
              "      background-color: #434B5C;\n",
              "      box-shadow: 0px 1px 3px 1px rgba(0, 0, 0, 0.15);\n",
              "      filter: drop-shadow(0px 1px 2px rgba(0, 0, 0, 0.3));\n",
              "      fill: #FFFFFF;\n",
              "    }\n",
              "  </style>\n",
              "\n",
              "      <script>\n",
              "        const buttonEl =\n",
              "          document.querySelector('#df-9499b8c0-3658-4ab7-a17b-21d9ab2f7b2e button.colab-df-convert');\n",
              "        buttonEl.style.display =\n",
              "          google.colab.kernel.accessAllowed ? 'block' : 'none';\n",
              "\n",
              "        async function convertToInteractive(key) {\n",
              "          const element = document.querySelector('#df-9499b8c0-3658-4ab7-a17b-21d9ab2f7b2e');\n",
              "          const dataTable =\n",
              "            await google.colab.kernel.invokeFunction('convertToInteractive',\n",
              "                                                     [key], {});\n",
              "          if (!dataTable) return;\n",
              "\n",
              "          const docLinkHtml = 'Like what you see? Visit the ' +\n",
              "            '<a target=\"_blank\" href=https://colab.research.google.com/notebooks/data_table.ipynb>data table notebook</a>'\n",
              "            + ' to learn more about interactive tables.';\n",
              "          element.innerHTML = '';\n",
              "          dataTable['output_type'] = 'display_data';\n",
              "          await google.colab.output.renderOutput(dataTable, element);\n",
              "          const docLink = document.createElement('div');\n",
              "          docLink.innerHTML = docLinkHtml;\n",
              "          element.appendChild(docLink);\n",
              "        }\n",
              "      </script>\n",
              "    </div>\n",
              "  </div>\n",
              "  "
            ]
          },
          "metadata": {},
          "execution_count": 141
        }
      ],
      "source": [
        "compare_results[\"training time\"] = [common_model_time,\n",
        "                                    model_CNN_time]\n",
        "compare_results"
      ]
    },
    {
      "cell_type": "code",
      "execution_count": null,
      "metadata": {
        "id": "1TSLiM0S7dUm",
        "colab": {
          "base_uri": "https://localhost:8080/"
        },
        "outputId": "50ac99db-87e5-4e5a-a8b2-c676e88378dc"
      },
      "outputs": [
        {
          "output_type": "execute_result",
          "data": {
            "text/plain": [
              "model name\n",
              "ComputerVision_0       82.887380\n",
              "Computer_Vision_CNN    84.394968\n",
              "Name: model_accuracy, dtype: float64"
            ]
          },
          "metadata": {},
          "execution_count": 142
        }
      ],
      "source": [
        "model_accuracy_series = compare_results.set_index(\"model name\")[\"model_accuracy\"]\n",
        "model_accuracy_series"
      ]
    },
    {
      "cell_type": "code",
      "execution_count": null,
      "metadata": {
        "id": "vyiO5vtT7dYo",
        "colab": {
          "base_uri": "https://localhost:8080/",
          "height": 449
        },
        "outputId": "b4761690-670a-439e-edf1-21118418f580"
      },
      "outputs": [
        {
          "output_type": "display_data",
          "data": {
            "text/plain": [
              "<Figure size 640x480 with 1 Axes>"
            ],
            "image/png": "[encoded data removed]"
          },
          "metadata": {}
        }
      ],
      "source": [
        "model_accuracy_series.plot(kind=\"barh\") ;\n",
        "plt.xlabel(\"accuracy (%)\") ;\n",
        "plt.ylabel(\"model\") ;"
      ]
    },
    {
      "cell_type": "markdown",
      "metadata": {
        "id": "GKtnYDTWIvBc"
      },
      "source": [
        "## 9 . make and evaluate random prediction with `CNN` model"
      ]
    },
    {
      "cell_type": "code",
      "execution_count": null,
      "metadata": {
        "id": "BDhiJxiCIu6j"
      },
      "outputs": [],
      "source": [
        "def make_prediction(model : nn.Module,\n",
        "                    data :list ,\n",
        "                    device : torch.device = device) :\n",
        "    pred_probs = []\n",
        "    model.to(device)\n",
        "    model.eval()\n",
        "    with torch.inference_mode() :\n",
        "      for sample in data :\n",
        "        # add a batch dimension and send it to the target dimension\n",
        "        sample  = torch.unsqueeze(sample,dim=0).to(device)\n",
        "        # create logits (forward pass)\n",
        "        logits = model(sample)\n",
        "        # make prediction lables\n",
        "        pred_prob = torch.softmax(logits.squeeze(dim=0),dim=0)\n",
        "        pred_probs.append(pred_prob)\n",
        "    # stack the obtained data\n",
        "    return torch.stack(pred_probs)"
      ]
    },
    {
      "cell_type": "code",
      "execution_count": null,
      "metadata": {
        "id": "LzBkig6qIu0q"
      },
      "outputs": [],
      "source": [
        "import random\n",
        "random.seed(42)\n",
        "\n",
        "test_lables = []\n",
        "test_samples = []\n",
        "for sample , label in random.sample(list(test_data),k=9) :\n",
        "  test_lables.append(label)\n",
        "  test_samples.append(sample)"
      ]
    },
    {
      "cell_type": "code",
      "execution_count": null,
      "metadata": {
        "id": "MyfVw4Pn1CMy",
        "colab": {
          "base_uri": "https://localhost:8080/",
          "height": 452
        },
        "outputId": "1d4af735-9422-4518-8067-41eec6ac4fb0"
      },
      "outputs": [
        {
          "output_type": "display_data",
          "data": {
            "text/plain": [
              "<Figure size 640x480 with 1 Axes>"
            ],
            "image/png": "[encoded data removed]"
          },
          "metadata": {}
        }
      ],
      "source": [
        "# take a glance at a random image\n",
        "plt.imshow(test_samples[0].squeeze(dim=0),cmap=\"gray\") ;\n",
        "plt.title(f\"{test_data.classes[test_lables[0]]}\") ;\n",
        "# Just for test not importatnt ( could be deleted !)\n",
        "# plt.imshow(np.asarray(test_data.data[0]),cmap=\"gray\") ;\n",
        "# plt.title(test_data.targets[0])"
      ]
    },
    {
      "cell_type": "code",
      "source": [
        "# Make Prediction\n",
        "sample_pred_probs = make_prediction(model = model_CNN ,\n",
        "                                    data = test_samples ,\n",
        "                                    device = device )"
      ],
      "metadata": {
        "id": "-hBx9Ylgh7Uq"
      },
      "execution_count": null,
      "outputs": []
    },
    {
      "cell_type": "code",
      "source": [
        "# Convert prediction probilities to lables\n",
        "sample_pred_lables = sample_pred_probs.argmax(dim=1)\n",
        "sample_pred_lables"
      ],
      "metadata": {
        "id": "yXfa_3nukPBr",
        "colab": {
          "base_uri": "https://localhost:8080/"
        },
        "outputId": "4196fb7a-b893-4eae-baf1-c6f443f533b9"
      },
      "execution_count": null,
      "outputs": [
        {
          "output_type": "execute_result",
          "data": {
            "text/plain": [
              "tensor([5, 1, 7, 2, 3, 0, 4, 7, 1], device='cuda:0')"
            ]
          },
          "metadata": {},
          "execution_count": 148
        }
      ]
    },
    {
      "cell_type": "code",
      "source": [
        "# Plot prediction\n",
        "plt.figure(figsize=(12,12))\n",
        "for i in range(len(test_samples)) :\n",
        "  plt.subplot(3,3,i+1) ;\n",
        "  plt.imshow( test_samples[i].squeeze(dim=0) ,cmap = \"gray\") ;\n",
        "  if test_lables[i]  == sample_pred_lables[i] :\n",
        "    plt.title(f\"pred : {test_data.classes[sample_pred_lables[i]]} | truth : {test_data.classes[test_lables[i]]}\" , color = \"g\")\n",
        "  else :\n",
        "    plt.title(f\"pred : {test_data.classes[sample_pred_lables[i]]} | truth : {test_data.classes[test_lables[i]]}\" , color = \"r\")"
      ],
      "metadata": {
        "id": "p6z0MjQGh7jh",
        "colab": {
          "base_uri": "https://localhost:8080/",
          "height": 1000
        },
        "outputId": "b1079823-8185-45b1-9a17-2139685ed4aa"
      },
      "execution_count": null,
      "outputs": [
        {
          "output_type": "display_data",
          "data": {
            "text/plain": [
              "<Figure size 1200x1200 with 9 Axes>"
            ],
            "image/png": "[encoded data removed]"
          },
          "metadata": {}
        }
      ]
    },
    {
      "cell_type": "markdown",
      "source": [
        "## 10 . Make a `Confusion Matrix` for further prediction evaluation\n",
        "\n",
        "1.   Making prediction on test dataset `dataloader`\n",
        "2.   Making confusion matrix by `torchmetrics.ConfusionMatrix`\n",
        "3.   Plot Confusion Matrix by `mlxtend.plotting.plot_confusion_matrix()`\n"
      ],
      "metadata": {
        "id": "JGUn6DA4h7n0"
      }
    },
    {
      "cell_type": "code",
      "source": [
        "# Import tqdm\n",
        "from tqdm.auto import tqdm\n",
        "\n",
        "# 1 . Making Predictions\n",
        "preds = []\n",
        "model_CNN.eval()\n",
        "with torch.inference_mode() :\n",
        "  for X , y in tqdm(test_dataloader, desc = \"Making Predictions .... \") :\n",
        "    # Send data to target device\n",
        "    X, y = X.to(device), y.to(device)\n",
        "    # Do forward pass\n",
        "    logits = model_CNN(X)\n",
        "    # Raw prediction(logits) -> Prediction Probilities -> Prediction Lables\n",
        "    pred = torch.softmax(logits.squeeze() , dim=0).argmax(dim=1)\n",
        "    preds.append(pred)\n",
        "    # Concatenate list of prediction into a tensor\n",
        "    pred_tensor = torch.cat(preds)"
      ],
      "metadata": {
        "id": "BOFO6EAhh7sl",
        "colab": {
          "base_uri": "https://localhost:8080/",
          "height": 49,
          "referenced_widgets": [
            "ce66e10530f74fd08363407fca3419c0",
            "93862879d677417dbbc3b2c131e688df",
            "c91284f6ef2043e284707ef292a97ba2",
            "08672e356fcd401aaf88e3edb6aee703",
            "ab6cf3d9a1dd45009f5c79bdfc972330",
            "0326b38c74be4f9fbb9fa40eba46dc0a",
            "aeb641b28f8d485ea741e69560d08c9a",
            "a2c5a166886d4277b8ceaeefc7f71767",
            "3e4a30405086454a8766116981a0d5af",
            "9a57b36848094d9e841e9bb9c3a6133d",
            "12e683117ada4fff905fa11a8538f88a"
          ]
        },
        "outputId": "a75c69b1-8bba-4433-a870-539cb60e9bf0"
      },
      "execution_count": null,
      "outputs": [
        {
          "output_type": "display_data",
          "data": {
            "text/plain": [
              "Making Predictions .... :   0%|          | 0/313 [00:00<?, ?it/s]"
            ],
            "application/vnd.jupyter.widget-view+json": {
              "version_major": 2,
              "version_minor": 0,
              "model_id": "ce66e10530f74fd08363407fca3419c0"
            }
          },
          "metadata": {}
        }
      ]
    },
    {
      "cell_type": "code",
      "source": [
        "len(pred_tensor)"
      ],
      "metadata": {
        "id": "SeP3wkTmh7w3",
        "colab": {
          "base_uri": "https://localhost:8080/"
        },
        "outputId": "b2d32a06-25cb-4c5a-e39e-d86e8a9b2c76"
      },
      "execution_count": null,
      "outputs": [
        {
          "output_type": "execute_result",
          "data": {
            "text/plain": [
              "10000"
            ]
          },
          "metadata": {},
          "execution_count": 151
        }
      ]
    },
    {
      "cell_type": "code",
      "source": [
        "try :\n",
        "  import torchmetrics , mlxtend\n",
        "  print(f\"mlxtend version : {mlxtend.__version__}\")\n",
        "  assert int(mlxtend.__version__.split(\".\")[1]) >= 19 , \"torchmetrics version must be greather than 19\"\n",
        "except:\n",
        "  !pip install torchmetrics -U mlxtend\n",
        "  import torchmetrics , mlxtend\n",
        "  print(\"\\n** mlxtend version **\")\n",
        "  print(f\"mlxtend version : {mlxtend.__version__}\")"
      ],
      "metadata": {
        "id": "9x9SMGd3h71w",
        "colab": {
          "base_uri": "https://localhost:8080/"
        },
        "outputId": "7677b4eb-7d6e-4e08-d45c-0a0cbefc053e"
      },
      "execution_count": null,
      "outputs": [
        {
          "output_type": "stream",
          "name": "stdout",
          "text": [
            "mlxtend version : 0.22.0\n"
          ]
        }
      ]
    },
    {
      "cell_type": "code",
      "source": [
        "from torchmetrics import ConfusionMatrix\n",
        "from mlxtend.plotting import plot_confusion_matrix\n",
        "# 2 . Setup Confusion Matrix\n",
        "# be carefull of putting data sets and confusion matrix on same device !\n",
        "confmat = ConfusionMatrix(num_classes = len(test_data.classes),\n",
        "                          task = 'multiclass').to(device)\n",
        "confmat_tensor = confmat(preds = pred_tensor.to(device) ,\n",
        "                         target = test_data.targets.to(device))\n",
        "# 3 . Plotting Confusion Matrix\n",
        "fig , ax = plot_confusion_matrix(conf_mat= confmat_tensor.cpu().numpy() ,     # Parameter A : confusion matrix tensor\n",
        "                                 class_names = test_data.classes)             # Parameter B : classes names of dataset"
      ],
      "metadata": {
        "id": "0XDBsMs46lya",
        "colab": {
          "base_uri": "https://localhost:8080/",
          "height": 498
        },
        "outputId": "4de218cf-6893-4523-b5ae-a9d3835f8508"
      },
      "execution_count": null,
      "outputs": [
        {
          "output_type": "display_data",
          "data": {
            "text/plain": [
              "<Figure size 640x480 with 1 Axes>"
            ],
            "image/png": "[encoded data removed]"
          },
          "metadata": {}
        }
      ]
    },
    {
      "cell_type": "markdown",
      "source": [
        "## 11 . Load and save best performing model"
      ],
      "metadata": {
        "id": "Ll2hBaWV6k3S"
      }
    },
    {
      "cell_type": "code",
      "source": [
        "from pathlib import Path\n",
        "\n",
        "# 1 . Create the place to save model\n",
        "MODEL_PATH = Path(\"model\")\n",
        "MODEL_PATH.mkdir(parents =True ,\n",
        "                 exist_ok = True)\n",
        "# 2 . Creating the file to save model\n",
        "MODEL_FILE = \"pytorch_03 CNN Neural Network.pth\"\n",
        "MODEL_SAVE_PATH = MODEL_PATH/MODEL_FILE\n",
        "\n",
        "# 3 . Save the model\n",
        "torch.save(obj = model_CNN.state_dict(),\n",
        "           f = MODEL_SAVE_PATH)"
      ],
      "metadata": {
        "id": "oXEipiuR86an"
      },
      "execution_count": null,
      "outputs": []
    },
    {
      "cell_type": "code",
      "source": [
        " torch.manual_seed(42)\n",
        " torch.cuda.manual_seed(42)\n",
        "\n",
        " # 1 . Create an instance model\n",
        " instance_model = Computer_Vision_CNN(input_shape = 1,\n",
        "                                      hidden_unit = 10,\n",
        "                                      output_shape = 10)\n",
        " # 2 . load the saved model to instance model\n",
        " instance_model.load_state_dict(torch.load(f = MODEL_SAVE_PATH))\n",
        " instance_model.to(device) ;\n",
        " # 3 . evalute model accuracy\n",
        " instance_model_results  = eval_model(model = instance_model,\n",
        "                                    dataloader = test_dataloader ,\n",
        "                                    loss_function = loss_fn ,\n",
        "                                    accuracy_function = accuracy_fn)\n",
        " instance_model_results"
      ],
      "metadata": {
        "colab": {
          "base_uri": "https://localhost:8080/"
        },
        "id": "wP1yupHI86Yj",
        "outputId": "c1cbf31c-9d19-4af1-9985-0248d219dc87"
      },
      "execution_count": null,
      "outputs": [
        {
          "output_type": "execute_result",
          "data": {
            "text/plain": [
              "{'model name': 'Computer_Vision_CNN',\n",
              " 'model_accuracy': 84.39496805111821,\n",
              " 'model loss': 0.4422632157802582}"
            ]
          },
          "metadata": {},
          "execution_count": 202
        }
      ]
    },
    {
      "cell_type": "code",
      "source": [
        "torch.isclose(torch.tensor(instance_model_results['model_accuracy']),\n",
        "              torch.tensor(CNN_model_results['model_accuracy']),\n",
        "              atol = 1e-12)"
      ],
      "metadata": {
        "colab": {
          "base_uri": "https://localhost:8080/"
        },
        "id": "oTiyjdS286W3",
        "outputId": "6bd08ad8-36f6-4a33-fbe2-44b8a3c65099"
      },
      "execution_count": null,
      "outputs": [
        {
          "output_type": "execute_result",
          "data": {
            "text/plain": [
              "tensor(True)"
            ]
          },
          "metadata": {},
          "execution_count": 204
        }
      ]
    },
    {
      "cell_type": "markdown",
      "source": [
        "**and finish it's over**"
      ],
      "metadata": {
        "id": "6KgLFVGIFKdJ"
      }
    }
  ],
  "metadata": {
    "accelerator": "GPU",
    "colab": {
      "provenance": [],
      "gpuType": "T4",
      "authorship_tag": "ABX9TyOOqmjw0hi9CdhGw/T5vFLB",
      "include_colab_link": true
    },
    "gpuClass": "standard",
    "kernelspec": {
      "display_name": "Python 3",
      "name": "python3"
    },
    "language_info": {
      "name": "python"
    },
    "widgets": {
      "application/vnd.jupyter.widget-state+json": {
        "606f1ada854343318f6b9b8391b00335": {
          "model_module": "@jupyter-widgets/controls",
          "model_name": "HBoxModel",
          "model_module_version": "1.5.0",
          "state": {
            "_dom_classes": [],
            "_model_module": "@jupyter-widgets/controls",
            "_model_module_version": "1.5.0",
            "_model_name": "HBoxModel",
            "_view_count": null,
            "_view_module": "@jupyter-widgets/controls",
            "_view_module_version": "1.5.0",
            "_view_name": "HBoxView",
            "box_style": "",
            "children": [
              "IPY_MODEL_99a7bed83eba4eadaacf5218d36307bb",
              "IPY_MODEL_ae25fc1d06c04027befbf44c2dc667f0",
              "IPY_MODEL_1696404322b3448fb1bcb6638016fe94"
            ],
            "layout": "IPY_MODEL_0f3ffea3796f493c9e95a45ca37efd28"
          }
        },
        "99a7bed83eba4eadaacf5218d36307bb": {
          "model_module": "@jupyter-widgets/controls",
          "model_name": "HTMLModel",
          "model_module_version": "1.5.0",
          "state": {
            "_dom_classes": [],
            "_model_module": "@jupyter-widgets/controls",
            "_model_module_version": "1.5.0",
            "_model_name": "HTMLModel",
            "_view_count": null,
            "_view_module": "@jupyter-widgets/controls",
            "_view_module_version": "1.5.0",
            "_view_name": "HTMLView",
            "description": "",
            "description_tooltip": null,
            "layout": "IPY_MODEL_9845906486af4d5eb349d165a39292ff",
            "placeholder": "​",
            "style": "IPY_MODEL_1a293729729e48dc87701b7f98503969",
            "value": "100%"
          }
        },
        "ae25fc1d06c04027befbf44c2dc667f0": {
          "model_module": "@jupyter-widgets/controls",
          "model_name": "FloatProgressModel",
          "model_module_version": "1.5.0",
          "state": {
            "_dom_classes": [],
            "_model_module": "@jupyter-widgets/controls",
            "_model_module_version": "1.5.0",
            "_model_name": "FloatProgressModel",
            "_view_count": null,
            "_view_module": "@jupyter-widgets/controls",
            "_view_module_version": "1.5.0",
            "_view_name": "ProgressView",
            "bar_style": "success",
            "description": "",
            "description_tooltip": null,
            "layout": "IPY_MODEL_b0ec3043557e47a79f49fbb8e4a0f81d",
            "max": 3,
            "min": 0,
            "orientation": "horizontal",
            "style": "IPY_MODEL_cfb029cf992c454692fbfdf93ee5e59c",
            "value": 3
          }
        },
        "1696404322b3448fb1bcb6638016fe94": {
          "model_module": "@jupyter-widgets/controls",
          "model_name": "HTMLModel",
          "model_module_version": "1.5.0",
          "state": {
            "_dom_classes": [],
            "_model_module": "@jupyter-widgets/controls",
            "_model_module_version": "1.5.0",
            "_model_name": "HTMLModel",
            "_view_count": null,
            "_view_module": "@jupyter-widgets/controls",
            "_view_module_version": "1.5.0",
            "_view_name": "HTMLView",
            "description": "",
            "description_tooltip": null,
            "layout": "IPY_MODEL_15a7874192c34da5992375a5fc89f1ba",
            "placeholder": "​",
            "style": "IPY_MODEL_e49980bd7e954c0ba2e562b8387416c9",
            "value": " 3/3 [00:37&lt;00:00, 12.49s/it]"
          }
        },
        "0f3ffea3796f493c9e95a45ca37efd28": {
          "model_module": "@jupyter-widgets/base",
          "model_name": "LayoutModel",
          "model_module_version": "1.2.0",
          "state": {
            "_model_module": "@jupyter-widgets/base",
            "_model_module_version": "1.2.0",
            "_model_name": "LayoutModel",
            "_view_count": null,
            "_view_module": "@jupyter-widgets/base",
            "_view_module_version": "1.2.0",
            "_view_name": "LayoutView",
            "align_content": null,
            "align_items": null,
            "align_self": null,
            "border": null,
            "bottom": null,
            "display": null,
            "flex": null,
            "flex_flow": null,
            "grid_area": null,
            "grid_auto_columns": null,
            "grid_auto_flow": null,
            "grid_auto_rows": null,
            "grid_column": null,
            "grid_gap": null,
            "grid_row": null,
            "grid_template_areas": null,
            "grid_template_columns": null,
            "grid_template_rows": null,
            "height": null,
            "justify_content": null,
            "justify_items": null,
            "left": null,
            "margin": null,
            "max_height": null,
            "max_width": null,
            "min_height": null,
            "min_width": null,
            "object_fit": null,
            "object_position": null,
            "order": null,
            "overflow": null,
            "overflow_x": null,
            "overflow_y": null,
            "padding": null,
            "right": null,
            "top": null,
            "visibility": null,
            "width": null
          }
        },
        "9845906486af4d5eb349d165a39292ff": {
          "model_module": "@jupyter-widgets/base",
          "model_name": "LayoutModel",
          "model_module_version": "1.2.0",
          "state": {
            "_model_module": "@jupyter-widgets/base",
            "_model_module_version": "1.2.0",
            "_model_name": "LayoutModel",
            "_view_count": null,
            "_view_module": "@jupyter-widgets/base",
            "_view_module_version": "1.2.0",
            "_view_name": "LayoutView",
            "align_content": null,
            "align_items": null,
            "align_self": null,
            "border": null,
            "bottom": null,
            "display": null,
            "flex": null,
            "flex_flow": null,
            "grid_area": null,
            "grid_auto_columns": null,
            "grid_auto_flow": null,
            "grid_auto_rows": null,
            "grid_column": null,
            "grid_gap": null,
            "grid_row": null,
            "grid_template_areas": null,
            "grid_template_columns": null,
            "grid_template_rows": null,
            "height": null,
            "justify_content": null,
            "justify_items": null,
            "left": null,
            "margin": null,
            "max_height": null,
            "max_width": null,
            "min_height": null,
            "min_width": null,
            "object_fit": null,
            "object_position": null,
            "order": null,
            "overflow": null,
            "overflow_x": null,
            "overflow_y": null,
            "padding": null,
            "right": null,
            "top": null,
            "visibility": null,
            "width": null
          }
        },
        "1a293729729e48dc87701b7f98503969": {
          "model_module": "@jupyter-widgets/controls",
          "model_name": "DescriptionStyleModel",
          "model_module_version": "1.5.0",
          "state": {
            "_model_module": "@jupyter-widgets/controls",
            "_model_module_version": "1.5.0",
            "_model_name": "DescriptionStyleModel",
            "_view_count": null,
            "_view_module": "@jupyter-widgets/base",
            "_view_module_version": "1.2.0",
            "_view_name": "StyleView",
            "description_width": ""
          }
        },
        "b0ec3043557e47a79f49fbb8e4a0f81d": {
          "model_module": "@jupyter-widgets/base",
          "model_name": "LayoutModel",
          "model_module_version": "1.2.0",
          "state": {
            "_model_module": "@jupyter-widgets/base",
            "_model_module_version": "1.2.0",
            "_model_name": "LayoutModel",
            "_view_count": null,
            "_view_module": "@jupyter-widgets/base",
            "_view_module_version": "1.2.0",
            "_view_name": "LayoutView",
            "align_content": null,
            "align_items": null,
            "align_self": null,
            "border": null,
            "bottom": null,
            "display": null,
            "flex": null,
            "flex_flow": null,
            "grid_area": null,
            "grid_auto_columns": null,
            "grid_auto_flow": null,
            "grid_auto_rows": null,
            "grid_column": null,
            "grid_gap": null,
            "grid_row": null,
            "grid_template_areas": null,
            "grid_template_columns": null,
            "grid_template_rows": null,
            "height": null,
            "justify_content": null,
            "justify_items": null,
            "left": null,
            "margin": null,
            "max_height": null,
            "max_width": null,
            "min_height": null,
            "min_width": null,
            "object_fit": null,
            "object_position": null,
            "order": null,
            "overflow": null,
            "overflow_x": null,
            "overflow_y": null,
            "padding": null,
            "right": null,
            "top": null,
            "visibility": null,
            "width": null
          }
        },
        "cfb029cf992c454692fbfdf93ee5e59c": {
          "model_module": "@jupyter-widgets/controls",
          "model_name": "ProgressStyleModel",
          "model_module_version": "1.5.0",
          "state": {
            "_model_module": "@jupyter-widgets/controls",
            "_model_module_version": "1.5.0",
            "_model_name": "ProgressStyleModel",
            "_view_count": null,
            "_view_module": "@jupyter-widgets/base",
            "_view_module_version": "1.2.0",
            "_view_name": "StyleView",
            "bar_color": null,
            "description_width": ""
          }
        },
        "15a7874192c34da5992375a5fc89f1ba": {
          "model_module": "@jupyter-widgets/base",
          "model_name": "LayoutModel",
          "model_module_version": "1.2.0",
          "state": {
            "_model_module": "@jupyter-widgets/base",
            "_model_module_version": "1.2.0",
            "_model_name": "LayoutModel",
            "_view_count": null,
            "_view_module": "@jupyter-widgets/base",
            "_view_module_version": "1.2.0",
            "_view_name": "LayoutView",
            "align_content": null,
            "align_items": null,
            "align_self": null,
            "border": null,
            "bottom": null,
            "display": null,
            "flex": null,
            "flex_flow": null,
            "grid_area": null,
            "grid_auto_columns": null,
            "grid_auto_flow": null,
            "grid_auto_rows": null,
            "grid_column": null,
            "grid_gap": null,
            "grid_row": null,
            "grid_template_areas": null,
            "grid_template_columns": null,
            "grid_template_rows": null,
            "height": null,
            "justify_content": null,
            "justify_items": null,
            "left": null,
            "margin": null,
            "max_height": null,
            "max_width": null,
            "min_height": null,
            "min_width": null,
            "object_fit": null,
            "object_position": null,
            "order": null,
            "overflow": null,
            "overflow_x": null,
            "overflow_y": null,
            "padding": null,
            "right": null,
            "top": null,
            "visibility": null,
            "width": null
          }
        },
        "e49980bd7e954c0ba2e562b8387416c9": {
          "model_module": "@jupyter-widgets/controls",
          "model_name": "DescriptionStyleModel",
          "model_module_version": "1.5.0",
          "state": {
            "_model_module": "@jupyter-widgets/controls",
            "_model_module_version": "1.5.0",
            "_model_name": "DescriptionStyleModel",
            "_view_count": null,
            "_view_module": "@jupyter-widgets/base",
            "_view_module_version": "1.2.0",
            "_view_name": "StyleView",
            "description_width": ""
          }
        },
        "d1628ba846c9431fb9a6e16255cdfb08": {
          "model_module": "@jupyter-widgets/controls",
          "model_name": "HBoxModel",
          "model_module_version": "1.5.0",
          "state": {
            "_dom_classes": [],
            "_model_module": "@jupyter-widgets/controls",
            "_model_module_version": "1.5.0",
            "_model_name": "HBoxModel",
            "_view_count": null,
            "_view_module": "@jupyter-widgets/controls",
            "_view_module_version": "1.5.0",
            "_view_name": "HBoxView",
            "box_style": "",
            "children": [
              "IPY_MODEL_fa058131913940439e462bd366a25665",
              "IPY_MODEL_8ac15ecfc5684eefa71188c0bc50a7cc",
              "IPY_MODEL_6102654e187a4d058a76f4d5b8a5e5dc"
            ],
            "layout": "IPY_MODEL_8eca2bd6fdcf40de849e9104e4d2790f"
          }
        },
        "fa058131913940439e462bd366a25665": {
          "model_module": "@jupyter-widgets/controls",
          "model_name": "HTMLModel",
          "model_module_version": "1.5.0",
          "state": {
            "_dom_classes": [],
            "_model_module": "@jupyter-widgets/controls",
            "_model_module_version": "1.5.0",
            "_model_name": "HTMLModel",
            "_view_count": null,
            "_view_module": "@jupyter-widgets/controls",
            "_view_module_version": "1.5.0",
            "_view_name": "HTMLView",
            "description": "",
            "description_tooltip": null,
            "layout": "IPY_MODEL_23904a0b763e405bb573b22a29a0e304",
            "placeholder": "​",
            "style": "IPY_MODEL_b8a882182e7d459aa4bad57a0b9fd3c3",
            "value": "100%"
          }
        },
        "8ac15ecfc5684eefa71188c0bc50a7cc": {
          "model_module": "@jupyter-widgets/controls",
          "model_name": "FloatProgressModel",
          "model_module_version": "1.5.0",
          "state": {
            "_dom_classes": [],
            "_model_module": "@jupyter-widgets/controls",
            "_model_module_version": "1.5.0",
            "_model_name": "FloatProgressModel",
            "_view_count": null,
            "_view_module": "@jupyter-widgets/controls",
            "_view_module_version": "1.5.0",
            "_view_name": "ProgressView",
            "bar_style": "success",
            "description": "",
            "description_tooltip": null,
            "layout": "IPY_MODEL_78973069bd1f4b33878a82bc89313e7c",
            "max": 3,
            "min": 0,
            "orientation": "horizontal",
            "style": "IPY_MODEL_2464395b3b114d6da9943050d991702a",
            "value": 3
          }
        },
        "6102654e187a4d058a76f4d5b8a5e5dc": {
          "model_module": "@jupyter-widgets/controls",
          "model_name": "HTMLModel",
          "model_module_version": "1.5.0",
          "state": {
            "_dom_classes": [],
            "_model_module": "@jupyter-widgets/controls",
            "_model_module_version": "1.5.0",
            "_model_name": "HTMLModel",
            "_view_count": null,
            "_view_module": "@jupyter-widgets/controls",
            "_view_module_version": "1.5.0",
            "_view_name": "HTMLView",
            "description": "",
            "description_tooltip": null,
            "layout": "IPY_MODEL_8372b085ea96411193982215a335e4c8",
            "placeholder": "​",
            "style": "IPY_MODEL_25ee0a813242499dabc2a5ed6aceca59",
            "value": " 3/3 [01:04&lt;00:00, 21.38s/it]"
          }
        },
        "8eca2bd6fdcf40de849e9104e4d2790f": {
          "model_module": "@jupyter-widgets/base",
          "model_name": "LayoutModel",
          "model_module_version": "1.2.0",
          "state": {
            "_model_module": "@jupyter-widgets/base",
            "_model_module_version": "1.2.0",
            "_model_name": "LayoutModel",
            "_view_count": null,
            "_view_module": "@jupyter-widgets/base",
            "_view_module_version": "1.2.0",
            "_view_name": "LayoutView",
            "align_content": null,
            "align_items": null,
            "align_self": null,
            "border": null,
            "bottom": null,
            "display": null,
            "flex": null,
            "flex_flow": null,
            "grid_area": null,
            "grid_auto_columns": null,
            "grid_auto_flow": null,
            "grid_auto_rows": null,
            "grid_column": null,
            "grid_gap": null,
            "grid_row": null,
            "grid_template_areas": null,
            "grid_template_columns": null,
            "grid_template_rows": null,
            "height": null,
            "justify_content": null,
            "justify_items": null,
            "left": null,
            "margin": null,
            "max_height": null,
            "max_width": null,
            "min_height": null,
            "min_width": null,
            "object_fit": null,
            "object_position": null,
            "order": null,
            "overflow": null,
            "overflow_x": null,
            "overflow_y": null,
            "padding": null,
            "right": null,
            "top": null,
            "visibility": null,
            "width": null
          }
        },
        "23904a0b763e405bb573b22a29a0e304": {
          "model_module": "@jupyter-widgets/base",
          "model_name": "LayoutModel",
          "model_module_version": "1.2.0",
          "state": {
            "_model_module": "@jupyter-widgets/base",
            "_model_module_version": "1.2.0",
            "_model_name": "LayoutModel",
            "_view_count": null,
            "_view_module": "@jupyter-widgets/base",
            "_view_module_version": "1.2.0",
            "_view_name": "LayoutView",
            "align_content": null,
            "align_items": null,
            "align_self": null,
            "border": null,
            "bottom": null,
            "display": null,
            "flex": null,
            "flex_flow": null,
            "grid_area": null,
            "grid_auto_columns": null,
            "grid_auto_flow": null,
            "grid_auto_rows": null,
            "grid_column": null,
            "grid_gap": null,
            "grid_row": null,
            "grid_template_areas": null,
            "grid_template_columns": null,
            "grid_template_rows": null,
            "height": null,
            "justify_content": null,
            "justify_items": null,
            "left": null,
            "margin": null,
            "max_height": null,
            "max_width": null,
            "min_height": null,
            "min_width": null,
            "object_fit": null,
            "object_position": null,
            "order": null,
            "overflow": null,
            "overflow_x": null,
            "overflow_y": null,
            "padding": null,
            "right": null,
            "top": null,
            "visibility": null,
            "width": null
          }
        },
        "b8a882182e7d459aa4bad57a0b9fd3c3": {
          "model_module": "@jupyter-widgets/controls",
          "model_name": "DescriptionStyleModel",
          "model_module_version": "1.5.0",
          "state": {
            "_model_module": "@jupyter-widgets/controls",
            "_model_module_version": "1.5.0",
            "_model_name": "DescriptionStyleModel",
            "_view_count": null,
            "_view_module": "@jupyter-widgets/base",
            "_view_module_version": "1.2.0",
            "_view_name": "StyleView",
            "description_width": ""
          }
        },
        "78973069bd1f4b33878a82bc89313e7c": {
          "model_module": "@jupyter-widgets/base",
          "model_name": "LayoutModel",
          "model_module_version": "1.2.0",
          "state": {
            "_model_module": "@jupyter-widgets/base",
            "_model_module_version": "1.2.0",
            "_model_name": "LayoutModel",
            "_view_count": null,
            "_view_module": "@jupyter-widgets/base",
            "_view_module_version": "1.2.0",
            "_view_name": "LayoutView",
            "align_content": null,
            "align_items": null,
            "align_self": null,
            "border": null,
            "bottom": null,
            "display": null,
            "flex": null,
            "flex_flow": null,
            "grid_area": null,
            "grid_auto_columns": null,
            "grid_auto_flow": null,
            "grid_auto_rows": null,
            "grid_column": null,
            "grid_gap": null,
            "grid_row": null,
            "grid_template_areas": null,
            "grid_template_columns": null,
            "grid_template_rows": null,
            "height": null,
            "justify_content": null,
            "justify_items": null,
            "left": null,
            "margin": null,
            "max_height": null,
            "max_width": null,
            "min_height": null,
            "min_width": null,
            "object_fit": null,
            "object_position": null,
            "order": null,
            "overflow": null,
            "overflow_x": null,
            "overflow_y": null,
            "padding": null,
            "right": null,
            "top": null,
            "visibility": null,
            "width": null
          }
        },
        "2464395b3b114d6da9943050d991702a": {
          "model_module": "@jupyter-widgets/controls",
          "model_name": "ProgressStyleModel",
          "model_module_version": "1.5.0",
          "state": {
            "_model_module": "@jupyter-widgets/controls",
            "_model_module_version": "1.5.0",
            "_model_name": "ProgressStyleModel",
            "_view_count": null,
            "_view_module": "@jupyter-widgets/base",
            "_view_module_version": "1.2.0",
            "_view_name": "StyleView",
            "bar_color": null,
            "description_width": ""
          }
        },
        "8372b085ea96411193982215a335e4c8": {
          "model_module": "@jupyter-widgets/base",
          "model_name": "LayoutModel",
          "model_module_version": "1.2.0",
          "state": {
            "_model_module": "@jupyter-widgets/base",
            "_model_module_version": "1.2.0",
            "_model_name": "LayoutModel",
            "_view_count": null,
            "_view_module": "@jupyter-widgets/base",
            "_view_module_version": "1.2.0",
            "_view_name": "LayoutView",
            "align_content": null,
            "align_items": null,
            "align_self": null,
            "border": null,
            "bottom": null,
            "display": null,
            "flex": null,
            "flex_flow": null,
            "grid_area": null,
            "grid_auto_columns": null,
            "grid_auto_flow": null,
            "grid_auto_rows": null,
            "grid_column": null,
            "grid_gap": null,
            "grid_row": null,
            "grid_template_areas": null,
            "grid_template_columns": null,
            "grid_template_rows": null,
            "height": null,
            "justify_content": null,
            "justify_items": null,
            "left": null,
            "margin": null,
            "max_height": null,
            "max_width": null,
            "min_height": null,
            "min_width": null,
            "object_fit": null,
            "object_position": null,
            "order": null,
            "overflow": null,
            "overflow_x": null,
            "overflow_y": null,
            "padding": null,
            "right": null,
            "top": null,
            "visibility": null,
            "width": null
          }
        },
        "25ee0a813242499dabc2a5ed6aceca59": {
          "model_module": "@jupyter-widgets/controls",
          "model_name": "DescriptionStyleModel",
          "model_module_version": "1.5.0",
          "state": {
            "_model_module": "@jupyter-widgets/controls",
            "_model_module_version": "1.5.0",
            "_model_name": "DescriptionStyleModel",
            "_view_count": null,
            "_view_module": "@jupyter-widgets/base",
            "_view_module_version": "1.2.0",
            "_view_name": "StyleView",
            "description_width": ""
          }
        },
        "ce66e10530f74fd08363407fca3419c0": {
          "model_module": "@jupyter-widgets/controls",
          "model_name": "HBoxModel",
          "model_module_version": "1.5.0",
          "state": {
            "_dom_classes": [],
            "_model_module": "@jupyter-widgets/controls",
            "_model_module_version": "1.5.0",
            "_model_name": "HBoxModel",
            "_view_count": null,
            "_view_module": "@jupyter-widgets/controls",
            "_view_module_version": "1.5.0",
            "_view_name": "HBoxView",
            "box_style": "",
            "children": [
              "IPY_MODEL_93862879d677417dbbc3b2c131e688df",
              "IPY_MODEL_c91284f6ef2043e284707ef292a97ba2",
              "IPY_MODEL_08672e356fcd401aaf88e3edb6aee703"
            ],
            "layout": "IPY_MODEL_ab6cf3d9a1dd45009f5c79bdfc972330"
          }
        },
        "93862879d677417dbbc3b2c131e688df": {
          "model_module": "@jupyter-widgets/controls",
          "model_name": "HTMLModel",
          "model_module_version": "1.5.0",
          "state": {
            "_dom_classes": [],
            "_model_module": "@jupyter-widgets/controls",
            "_model_module_version": "1.5.0",
            "_model_name": "HTMLModel",
            "_view_count": null,
            "_view_module": "@jupyter-widgets/controls",
            "_view_module_version": "1.5.0",
            "_view_name": "HTMLView",
            "description": "",
            "description_tooltip": null,
            "layout": "IPY_MODEL_0326b38c74be4f9fbb9fa40eba46dc0a",
            "placeholder": "​",
            "style": "IPY_MODEL_aeb641b28f8d485ea741e69560d08c9a",
            "value": "Making Predictions .... : 100%"
          }
        },
        "c91284f6ef2043e284707ef292a97ba2": {
          "model_module": "@jupyter-widgets/controls",
          "model_name": "FloatProgressModel",
          "model_module_version": "1.5.0",
          "state": {
            "_dom_classes": [],
            "_model_module": "@jupyter-widgets/controls",
            "_model_module_version": "1.5.0",
            "_model_name": "FloatProgressModel",
            "_view_count": null,
            "_view_module": "@jupyter-widgets/controls",
            "_view_module_version": "1.5.0",
            "_view_name": "ProgressView",
            "bar_style": "success",
            "description": "",
            "description_tooltip": null,
            "layout": "IPY_MODEL_a2c5a166886d4277b8ceaeefc7f71767",
            "max": 313,
            "min": 0,
            "orientation": "horizontal",
            "style": "IPY_MODEL_3e4a30405086454a8766116981a0d5af",
            "value": 313
          }
        },
        "08672e356fcd401aaf88e3edb6aee703": {
          "model_module": "@jupyter-widgets/controls",
          "model_name": "HTMLModel",
          "model_module_version": "1.5.0",
          "state": {
            "_dom_classes": [],
            "_model_module": "@jupyter-widgets/controls",
            "_model_module_version": "1.5.0",
            "_model_name": "HTMLModel",
            "_view_count": null,
            "_view_module": "@jupyter-widgets/controls",
            "_view_module_version": "1.5.0",
            "_view_name": "HTMLView",
            "description": "",
            "description_tooltip": null,
            "layout": "IPY_MODEL_9a57b36848094d9e841e9bb9c3a6133d",
            "placeholder": "​",
            "style": "IPY_MODEL_12e683117ada4fff905fa11a8538f88a",
            "value": " 313/313 [00:02&lt;00:00, 93.63it/s]"
          }
        },
        "ab6cf3d9a1dd45009f5c79bdfc972330": {
          "model_module": "@jupyter-widgets/base",
          "model_name": "LayoutModel",
          "model_module_version": "1.2.0",
          "state": {
            "_model_module": "@jupyter-widgets/base",
            "_model_module_version": "1.2.0",
            "_model_name": "LayoutModel",
            "_view_count": null,
            "_view_module": "@jupyter-widgets/base",
            "_view_module_version": "1.2.0",
            "_view_name": "LayoutView",
            "align_content": null,
            "align_items": null,
            "align_self": null,
            "border": null,
            "bottom": null,
            "display": null,
            "flex": null,
            "flex_flow": null,
            "grid_area": null,
            "grid_auto_columns": null,
            "grid_auto_flow": null,
            "grid_auto_rows": null,
            "grid_column": null,
            "grid_gap": null,
            "grid_row": null,
            "grid_template_areas": null,
            "grid_template_columns": null,
            "grid_template_rows": null,
            "height": null,
            "justify_content": null,
            "justify_items": null,
            "left": null,
            "margin": null,
            "max_height": null,
            "max_width": null,
            "min_height": null,
            "min_width": null,
            "object_fit": null,
            "object_position": null,
            "order": null,
            "overflow": null,
            "overflow_x": null,
            "overflow_y": null,
            "padding": null,
            "right": null,
            "top": null,
            "visibility": null,
            "width": null
          }
        },
        "0326b38c74be4f9fbb9fa40eba46dc0a": {
          "model_module": "@jupyter-widgets/base",
          "model_name": "LayoutModel",
          "model_module_version": "1.2.0",
          "state": {
            "_model_module": "@jupyter-widgets/base",
            "_model_module_version": "1.2.0",
            "_model_name": "LayoutModel",
            "_view_count": null,
            "_view_module": "@jupyter-widgets/base",
            "_view_module_version": "1.2.0",
            "_view_name": "LayoutView",
            "align_content": null,
            "align_items": null,
            "align_self": null,
            "border": null,
            "bottom": null,
            "display": null,
            "flex": null,
            "flex_flow": null,
            "grid_area": null,
            "grid_auto_columns": null,
            "grid_auto_flow": null,
            "grid_auto_rows": null,
            "grid_column": null,
            "grid_gap": null,
            "grid_row": null,
            "grid_template_areas": null,
            "grid_template_columns": null,
            "grid_template_rows": null,
            "height": null,
            "justify_content": null,
            "justify_items": null,
            "left": null,
            "margin": null,
            "max_height": null,
            "max_width": null,
            "min_height": null,
            "min_width": null,
            "object_fit": null,
            "object_position": null,
            "order": null,
            "overflow": null,
            "overflow_x": null,
            "overflow_y": null,
            "padding": null,
            "right": null,
            "top": null,
            "visibility": null,
            "width": null
          }
        },
        "aeb641b28f8d485ea741e69560d08c9a": {
          "model_module": "@jupyter-widgets/controls",
          "model_name": "DescriptionStyleModel",
          "model_module_version": "1.5.0",
          "state": {
            "_model_module": "@jupyter-widgets/controls",
            "_model_module_version": "1.5.0",
            "_model_name": "DescriptionStyleModel",
            "_view_count": null,
            "_view_module": "@jupyter-widgets/base",
            "_view_module_version": "1.2.0",
            "_view_name": "StyleView",
            "description_width": ""
          }
        },
        "a2c5a166886d4277b8ceaeefc7f71767": {
          "model_module": "@jupyter-widgets/base",
          "model_name": "LayoutModel",
          "model_module_version": "1.2.0",
          "state": {
            "_model_module": "@jupyter-widgets/base",
            "_model_module_version": "1.2.0",
            "_model_name": "LayoutModel",
            "_view_count": null,
            "_view_module": "@jupyter-widgets/base",
            "_view_module_version": "1.2.0",
            "_view_name": "LayoutView",
            "align_content": null,
            "align_items": null,
            "align_self": null,
            "border": null,
            "bottom": null,
            "display": null,
            "flex": null,
            "flex_flow": null,
            "grid_area": null,
            "grid_auto_columns": null,
            "grid_auto_flow": null,
            "grid_auto_rows": null,
            "grid_column": null,
            "grid_gap": null,
            "grid_row": null,
            "grid_template_areas": null,
            "grid_template_columns": null,
            "grid_template_rows": null,
            "height": null,
            "justify_content": null,
            "justify_items": null,
            "left": null,
            "margin": null,
            "max_height": null,
            "max_width": null,
            "min_height": null,
            "min_width": null,
            "object_fit": null,
            "object_position": null,
            "order": null,
            "overflow": null,
            "overflow_x": null,
            "overflow_y": null,
            "padding": null,
            "right": null,
            "top": null,
            "visibility": null,
            "width": null
          }
        },
        "3e4a30405086454a8766116981a0d5af": {
          "model_module": "@jupyter-widgets/controls",
          "model_name": "ProgressStyleModel",
          "model_module_version": "1.5.0",
          "state": {
            "_model_module": "@jupyter-widgets/controls",
            "_model_module_version": "1.5.0",
            "_model_name": "ProgressStyleModel",
            "_view_count": null,
            "_view_module": "@jupyter-widgets/base",
            "_view_module_version": "1.2.0",
            "_view_name": "StyleView",
            "bar_color": null,
            "description_width": ""
          }
        },
        "9a57b36848094d9e841e9bb9c3a6133d": {
          "model_module": "@jupyter-widgets/base",
          "model_name": "LayoutModel",
          "model_module_version": "1.2.0",
          "state": {
            "_model_module": "@jupyter-widgets/base",
            "_model_module_version": "1.2.0",
            "_model_name": "LayoutModel",
            "_view_count": null,
            "_view_module": "@jupyter-widgets/base",
            "_view_module_version": "1.2.0",
            "_view_name": "LayoutView",
            "align_content": null,
            "align_items": null,
            "align_self": null,
            "border": null,
            "bottom": null,
            "display": null,
            "flex": null,
            "flex_flow": null,
            "grid_area": null,
            "grid_auto_columns": null,
            "grid_auto_flow": null,
            "grid_auto_rows": null,
            "grid_column": null,
            "grid_gap": null,
            "grid_row": null,
            "grid_template_areas": null,
            "grid_template_columns": null,
            "grid_template_rows": null,
            "height": null,
            "justify_content": null,
            "justify_items": null,
            "left": null,
            "margin": null,
            "max_height": null,
            "max_width": null,
            "min_height": null,
            "min_width": null,
            "object_fit": null,
            "object_position": null,
            "order": null,
            "overflow": null,
            "overflow_x": null,
            "overflow_y": null,
            "padding": null,
            "right": null,
            "top": null,
            "visibility": null,
            "width": null
          }
        },
        "12e683117ada4fff905fa11a8538f88a": {
          "model_module": "@jupyter-widgets/controls",
          "model_name": "DescriptionStyleModel",
          "model_module_version": "1.5.0",
          "state": {
            "_model_module": "@jupyter-widgets/controls",
            "_model_module_version": "1.5.0",
            "_model_name": "DescriptionStyleModel",
            "_view_count": null,
            "_view_module": "@jupyter-widgets/base",
            "_view_module_version": "1.2.0",
            "_view_name": "StyleView",
            "description_width": ""
          }
        }
      }
    }
  },
  "nbformat": 4,
  "nbformat_minor": 0
}