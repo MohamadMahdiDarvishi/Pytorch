{
  "nbformat": 4,
  "nbformat_minor": 0,
  "metadata": {
    "colab": {
      "provenance": [],
      "authorship_tag": "ABX9TyM/f5kjglOShdAdmudyz6hP",
      "include_colab_link": true
    },
    "kernelspec": {
      "name": "python3",
      "display_name": "Python 3"
    },
    "language_info": {
      "name": "python"
    }
  },
  "cells": [
    {
      "cell_type": "markdown",
      "metadata": {
        "id": "view-in-github",
        "colab_type": "text"
      },
      "source": [
        "<a href=\"https://colab.research.google.com/github/MohamadMahdiDarvishi/Pytorch/blob/main/Notebooks/Pytorch_1.ipynb\" target=\"_parent\"><img src=\"https://colab.research.google.com/assets/colab-badge.svg\" alt=\"Open In Colab\"/></a>"
      ]
    },
    {
      "cell_type": "markdown",
      "source": [
        "# Linear Regression Model"
      ],
      "metadata": {
        "id": "udfZERYyapNv"
      }
    },
    {
      "cell_type": "code",
      "execution_count": null,
      "metadata": {
        "colab": {
          "base_uri": "https://localhost:8080/",
          "height": 35
        },
        "id": "hcLZcnKPM03N",
        "outputId": "9b2f81a6-14d3-4935-b741-6be91c9b6375"
      },
      "outputs": [
        {
          "output_type": "execute_result",
          "data": {
            "text/plain": [
              "'1.12.1+cu113'"
            ],
            "application/vnd.google.colaboratory.intrinsic+json": {
              "type": "string"
            }
          },
          "metadata": {},
          "execution_count": 1
        }
      ],
      "source": [
        "# Imports\n",
        "import torch\n",
        "import matplotlib.pyplot as plt # For visualizing predictions\n",
        "torch.__version__"
      ]
    },
    {
      "cell_type": "markdown",
      "source": [
        "## prerquarities"
      ],
      "metadata": {
        "id": "criT8UvIcGMF"
      }
    },
    {
      "cell_type": "code",
      "source": [
        "# Creating known parameters\n",
        "weight = 0.7\n",
        "bias = 0.3\n",
        "\n",
        "# Creating Main data\n",
        "start = 0.0\n",
        "end = 1.0\n",
        "step = 0.02\n",
        "\n",
        "X = torch.arange(start,end,step)\n",
        "X[:5] , X.shape"
      ],
      "metadata": {
        "colab": {
          "base_uri": "https://localhost:8080/"
        },
        "id": "edq-p4NWOc4T",
        "outputId": "d07fc531-1767-4e10-d117-6ddbade93941"
      },
      "execution_count": null,
      "outputs": [
        {
          "output_type": "execute_result",
          "data": {
            "text/plain": [
              "(tensor([0.0000, 0.0200, 0.0400, 0.0600, 0.0800]), torch.Size([50]))"
            ]
          },
          "metadata": {},
          "execution_count": 2
        }
      ]
    },
    {
      "cell_type": "code",
      "source": [
        "# some modifying on the data\n",
        "X = X.unsqueeze(1)\n",
        "X[:5] , X.shape"
      ],
      "metadata": {
        "colab": {
          "base_uri": "https://localhost:8080/"
        },
        "id": "oBo8gpi8OctW",
        "outputId": "b343be9b-31ec-41af-fb20-a8f4bb395872"
      },
      "execution_count": null,
      "outputs": [
        {
          "output_type": "execute_result",
          "data": {
            "text/plain": [
              "(tensor([[0.0000],\n",
              "         [0.0200],\n",
              "         [0.0400],\n",
              "         [0.0600],\n",
              "         [0.0800]]), torch.Size([50, 1]))"
            ]
          },
          "metadata": {},
          "execution_count": 3
        }
      ]
    },
    {
      "cell_type": "code",
      "source": [
        "# Creating output features\n",
        "y = X * weight + bias\n",
        "y[:5] , y.shape"
      ],
      "metadata": {
        "colab": {
          "base_uri": "https://localhost:8080/"
        },
        "id": "60Efn7Z4YM8e",
        "outputId": "c72c373f-0835-41f4-e7f6-83a3c3be7b10"
      },
      "execution_count": null,
      "outputs": [
        {
          "output_type": "execute_result",
          "data": {
            "text/plain": [
              "(tensor([[0.3000],\n",
              "         [0.3140],\n",
              "         [0.3280],\n",
              "         [0.3420],\n",
              "         [0.3560]]), torch.Size([50, 1]))"
            ]
          },
          "metadata": {},
          "execution_count": 4
        }
      ]
    },
    {
      "cell_type": "markdown",
      "source": [
        "## 1. Splitting data into training and test sets"
      ],
      "metadata": {
        "id": "9HhH17ayYM5g"
      }
    },
    {
      "cell_type": "code",
      "source": [
        "train_split = int(0.8 * len(X)) # be carefull about train_split type because in slicing numbers must be integeres\n",
        "\n",
        "X_train , y_train = X[:train_split] , y[:train_split]\n",
        "X_test , y_test = X[train_split:] , y[train_split:]\n",
        "\n",
        "len (X_train) , len(y_train) , len(X_test) , len(y_test)"
      ],
      "metadata": {
        "colab": {
          "base_uri": "https://localhost:8080/"
        },
        "id": "PCIhdKWCYM1P",
        "outputId": "7a02a19e-08b4-456c-fbbc-b1430c9006f4"
      },
      "execution_count": null,
      "outputs": [
        {
          "output_type": "execute_result",
          "data": {
            "text/plain": [
              "(40, 40, 10, 10)"
            ]
          },
          "metadata": {},
          "execution_count": 5
        }
      ]
    },
    {
      "cell_type": "markdown",
      "source": [
        "Actully for visualization we need a visualizing function for Ploting training data, test data and compares predictions"
      ],
      "metadata": {
        "id": "VHXjUMKQeI3G"
      }
    },
    {
      "cell_type": "code",
      "source": [
        "def plot_prediction(train_data=X_train,\n",
        "                    train_lables=y_train,\n",
        "                    test_data=X_test,\n",
        "                    test_lables=y_test,\n",
        "                    prediction=None) :\n",
        "\n",
        "      plt.figure(figsize=(10,7))\n",
        "      plt.scatter(train_data , train_lables ,c=\"b\",s=4,label=\"training data\")\n",
        "      plt.scatter(test_data , test_lables, c=\"g\",s=4, label = \"testing data\")\n",
        "\n",
        "      if prediction is not None :\n",
        "        plt.scatter(test_data , prediction , c=\"r\" , s=4, label = \"pedictions\")\n",
        "\n",
        "      plt.legend(prop={\"size\" : 14})\n"
      ],
      "metadata": {
        "id": "zRA2s2kPddcI"
      },
      "execution_count": null,
      "outputs": []
    },
    {
      "cell_type": "code",
      "source": [
        "plot_prediction()"
      ],
      "metadata": {
        "colab": {
          "base_uri": "https://localhost:8080/",
          "height": 428
        },
        "id": "Q4c2zwZ5dgIN",
        "outputId": "0f598bc3-8e21-4c71-aac2-bfa9e9716cd3"
      },
      "execution_count": null,
      "outputs": [
        {
          "output_type": "display_data",
          "data": {
            "text/plain": [
              "<Figure size 720x504 with 1 Axes>"
            ],
            "image/png": "[encoded data removed]"
          },
          "metadata": {
            "needs_background": "light"
          }
        }
      ]
    },
    {
      "cell_type": "markdown",
      "source": [
        "## 2. Build a model\n",
        "\n",
        "main model functions :\n",
        "\n",
        "1.   starting with the random values\n",
        "2.   looking in error of data\n",
        "3.   using mathematical optimization to make better predictions\n"
      ],
      "metadata": {
        "id": "7p8sIw_xdgNl"
      }
    },
    {
      "cell_type": "code",
      "source": [
        "from torch import nn"
      ],
      "metadata": {
        "id": "rtA5kfobl1Uu"
      },
      "execution_count": null,
      "outputs": []
    },
    {
      "cell_type": "code",
      "source": [
        "class LinearRegression_0(nn.Module) :\n",
        "  # nn.Module is base class for neural networks\n",
        "  def __init__(self) :\n",
        "     super().__init__()\n",
        "     self.weight = nn.Parameter(torch.randn(1,requires_grad=True,dtype=torch.float))\n",
        "     self.bias = nn.Parameter(torch.randn(1,requires_grad=True,dtype=torch.float))\n",
        "\n",
        "  def forward(self , x : torch.tensor) -> torch.tensor :\n",
        "     return (x * self.weight + self.bias)\n"
      ],
      "metadata": {
        "id": "LwyTy7bxdgSU"
      },
      "execution_count": null,
      "outputs": []
    },
    {
      "cell_type": "code",
      "source": [
        "# some pytoch basic defenitions for models"
      ],
      "metadata": {
        "id": "5j0_4XZvuGWY"
      },
      "execution_count": null,
      "outputs": []
    },
    {
      "cell_type": "markdown",
      "source": [
        "### Checking contents of model"
      ],
      "metadata": {
        "id": "IxXrubycdgXU"
      }
    },
    {
      "cell_type": "code",
      "source": [
        "# assigning manual seed\n",
        "torch.manual_seed(42)\n",
        "# Creating a instance of model\n",
        "model_0 = LinearRegression_0()\n",
        "# checking model parameters\n",
        "model_0.state_dict()"
      ],
      "metadata": {
        "colab": {
          "base_uri": "https://localhost:8080/"
        },
        "id": "dcTPpXCbgxxe",
        "outputId": "d2f4ee29-413b-4589-d212-2ac5bdb548e8"
      },
      "execution_count": null,
      "outputs": [
        {
          "output_type": "execute_result",
          "data": {
            "text/plain": [
              "OrderedDict([('weight', tensor([0.3367])), ('bias', tensor([0.1288]))])"
            ]
          },
          "metadata": {},
          "execution_count": 58
        }
      ]
    },
    {
      "cell_type": "code",
      "source": [
        "# or mabye we could use\n",
        "list(model_0.parameters())"
      ],
      "metadata": {
        "colab": {
          "base_uri": "https://localhost:8080/"
        },
        "id": "uz7XKUogi3Hz",
        "outputId": "63b41132-b77e-4c78-fb7f-b13440c3fd0f"
      },
      "execution_count": null,
      "outputs": [
        {
          "output_type": "execute_result",
          "data": {
            "text/plain": [
              "[Parameter containing:\n",
              " tensor([0.3367], requires_grad=True), Parameter containing:\n",
              " tensor([0.1288], requires_grad=True)]"
            ]
          },
          "metadata": {},
          "execution_count": 37
        }
      ]
    },
    {
      "cell_type": "markdown",
      "source": [
        "### making predictions with untrained model"
      ],
      "metadata": {
        "id": "Q2ajw-yTi3Qq"
      }
    },
    {
      "cell_type": "code",
      "source": [
        "with torch.inference_mode() : # used for creating predicting state in pytorch\n",
        "  y_preds = model_0(X_test)"
      ],
      "metadata": {
        "id": "85v5f6oOi3V4"
      },
      "execution_count": null,
      "outputs": []
    },
    {
      "cell_type": "code",
      "source": [
        "y_preds"
      ],
      "metadata": {
        "colab": {
          "base_uri": "https://localhost:8080/"
        },
        "id": "HwNNL-X2kOyw",
        "outputId": "70c6ea8c-60ba-49dc-af3f-8254bcce26d4"
      },
      "execution_count": null,
      "outputs": [
        {
          "output_type": "execute_result",
          "data": {
            "text/plain": [
              "tensor([[0.3982],\n",
              "        [0.4049],\n",
              "        [0.4116],\n",
              "        [0.4184],\n",
              "        [0.4251],\n",
              "        [0.4318],\n",
              "        [0.4386],\n",
              "        [0.4453],\n",
              "        [0.4520],\n",
              "        [0.4588]])"
            ]
          },
          "metadata": {},
          "execution_count": 40
        }
      ]
    },
    {
      "cell_type": "code",
      "source": [
        "plot_prediction(prediction=y_preds)"
      ],
      "metadata": {
        "colab": {
          "base_uri": "https://localhost:8080/",
          "height": 428
        },
        "id": "cMN7_XSLkO40",
        "outputId": "ba69f6e7-1c7c-46cd-df52-ff1019c46d03"
      },
      "execution_count": null,
      "outputs": [
        {
          "output_type": "display_data",
          "data": {
            "text/plain": [
              "<Figure size 720x504 with 1 Axes>"
            ],
            "image/png": "[encoded data removed]"
          },
          "metadata": {
            "needs_background": "light"
          }
        }
      ]
    },
    {
      "cell_type": "markdown",
      "source": [
        "## 3. Training loop"
      ],
      "metadata": {
        "id": "YfrGTEmPddpW"
      }
    },
    {
      "cell_type": "code",
      "source": [
        "# Intriduction to model basics"
      ],
      "metadata": {
        "id": "CpHRRwU9dd6E"
      },
      "execution_count": null,
      "outputs": []
    },
    {
      "cell_type": "markdown",
      "source": [
        "### optimizer and loss function"
      ],
      "metadata": {
        "id": "-Z4l5XdBOckg"
      }
    },
    {
      "cell_type": "code",
      "source": [
        "# creating a loss function for calculating error of model prediction (in this case MAE = mean absolute error)\n",
        "loss_fn = nn.L1Loss()\n",
        "# Creating an optimizer forTakes into account the loss of a model and adjusts the model's parameters\n",
        "optimizer = torch.optim.SGD(params=model_0.parameters() # introducing model parameters to the optimizer\n",
        "                      , lr = 0.01 ) # lr = learing rate  = the rate of optimizing data"
      ],
      "metadata": {
        "id": "XsSi8FjiOchz"
      },
      "execution_count": null,
      "outputs": []
    },
    {
      "cell_type": "code",
      "source": [
        "torch.manual_seed(42)\n",
        "epochs = 200\n",
        "\n",
        "#=====================\n",
        "# Training loop\n",
        "#=====================\n",
        "\n",
        "for epoch in range(epochs) :\n",
        "  # 1. adjusting model in training mode\n",
        "  model_0.train()\n",
        "  # 2. making predictions\n",
        "  y_pred = model_0(X_train)\n",
        "  # 3. calculating error of model predictions\n",
        "  loss = loss_fn(y_pred,y_train)\n",
        "  # 4. adjusting optimizer gradients to zero\n",
        "  optimizer.zero_grad()\n",
        "  # 5. coming back to the start of the neural network (back propagation)\n",
        "  loss.backward()\n",
        "  # 6. optimizer steping back\n",
        "  optimizer.step()\n",
        "  #======================\n",
        "  # teting loop\n",
        "  #======================\n",
        "  model_0.eval()\n",
        "  # 1. using pytorch inference mode for making predictions\n",
        "  with torch.inference_mode() :\n",
        "    test_pred = model_0(X_test)\n",
        "  # 2. calculating the loss\n",
        "  test_loss = loss_fn(test_pred,y_test)\n",
        "  if epoch % 10 == 0 :\n",
        "    print(f\"{epoch}   :  {test_loss}  \")"
      ],
      "metadata": {
        "colab": {
          "base_uri": "https://localhost:8080/"
        },
        "id": "dLYm3YYZrd0Q",
        "outputId": "44fc4f80-6501-4ded-c5e9-f03c97c0595c"
      },
      "execution_count": null,
      "outputs": [
        {
          "output_type": "stream",
          "name": "stdout",
          "text": [
            "0   :  0.48106518387794495  \n",
            "10   :  0.3463551998138428  \n",
            "20   :  0.21729660034179688  \n",
            "30   :  0.14464017748832703  \n",
            "40   :  0.11360953003168106  \n",
            "50   :  0.09919948130846024  \n",
            "60   :  0.08886633068323135  \n",
            "70   :  0.0805937647819519  \n",
            "80   :  0.07232122868299484  \n",
            "90   :  0.06473556160926819  \n",
            "100   :  0.05646304413676262  \n",
            "110   :  0.04819049686193466  \n",
            "120   :  0.04060482233762741  \n",
            "130   :  0.03233227878808975  \n",
            "140   :  0.024059748277068138  \n",
            "150   :  0.016474086791276932  \n",
            "160   :  0.008201557211577892  \n",
            "170   :  0.005023092031478882  \n",
            "180   :  0.005023092031478882  \n",
            "190   :  0.005023092031478882  \n"
          ]
        }
      ]
    },
    {
      "cell_type": "code",
      "source": [
        "model_0.state_dict()"
      ],
      "metadata": {
        "colab": {
          "base_uri": "https://localhost:8080/"
        },
        "id": "Ad5qq5XGrdwL",
        "outputId": "b6d78ea8-0e45-4157-a056-110a054bf37e"
      },
      "execution_count": null,
      "outputs": [
        {
          "output_type": "execute_result",
          "data": {
            "text/plain": [
              "OrderedDict([('weight', tensor([0.6990])), ('bias', tensor([0.3093]))])"
            ]
          },
          "metadata": {},
          "execution_count": 65
        }
      ]
    },
    {
      "cell_type": "code",
      "source": [
        "y_prediction = model_0(X_test)"
      ],
      "metadata": {
        "id": "uzhLI7YGwrYa"
      },
      "execution_count": null,
      "outputs": []
    },
    {
      "cell_type": "code",
      "source": [
        "import numpy as np"
      ],
      "metadata": {
        "id": "O-mZu2AaxI_w"
      },
      "execution_count": null,
      "outputs": []
    },
    {
      "cell_type": "code",
      "source": [
        "plot_prediction(prediction=np.array(torch.tensor(y_prediction).numpy()))"
      ],
      "metadata": {
        "colab": {
          "base_uri": "https://localhost:8080/",
          "height": 483
        },
        "id": "y2omc4uErdsp",
        "outputId": "b96b10a6-8010-412d-8061-79c0516645ee"
      },
      "execution_count": null,
      "outputs": [
        {
          "output_type": "stream",
          "name": "stderr",
          "text": [
            "/usr/local/lib/python3.7/dist-packages/ipykernel_launcher.py:1: UserWarning: To copy construct from a tensor, it is recommended to use sourceTensor.clone().detach() or sourceTensor.clone().detach().requires_grad_(True), rather than torch.tensor(sourceTensor).\n",
            "  \"\"\"Entry point for launching an IPython kernel.\n"
          ]
        },
        {
          "output_type": "display_data",
          "data": {
            "text/plain": [
              "<Figure size 720x504 with 1 Axes>"
            ],
            "image/png": "[encoded data removed]"
          },
          "metadata": {
            "needs_background": "light"
          }
        }
      ]
    },
    {
      "cell_type": "code",
      "source": [],
      "metadata": {
        "id": "FdmfsBGErdqM"
      },
      "execution_count": null,
      "outputs": []
    },
    {
      "cell_type": "code",
      "source": [],
      "metadata": {
        "id": "3FSIM2Vardn5"
      },
      "execution_count": null,
      "outputs": []
    },
    {
      "cell_type": "code",
      "source": [],
      "metadata": {
        "id": "uC74Cs_YrdlC"
      },
      "execution_count": null,
      "outputs": []
    }
  ]
}