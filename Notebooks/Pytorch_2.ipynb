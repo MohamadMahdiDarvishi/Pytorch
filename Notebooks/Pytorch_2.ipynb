{
  "nbformat": 4,
  "nbformat_minor": 0,
  "metadata": {
    "colab": {
      "provenance": [],
      "authorship_tag": "ABX9TyN31jcyCEwlAM5ZgH62toz0",
      "include_colab_link": true
    },
    "kernelspec": {
      "name": "python3",
      "display_name": "Python 3"
    },
    "language_info": {
      "name": "python"
    },
    "accelerator": "GPU"
  },
  "cells": [
    {
      "cell_type": "markdown",
      "metadata": {
        "id": "view-in-github",
        "colab_type": "text"
      },
      "source": [
        "<a href=\"https://colab.research.google.com/github/MohamadMahdiDarvishi/Pytorch/blob/main/Notebooks/Pytorch_2.ipynb\" target=\"_parent\"><img src=\"https://colab.research.google.com/assets/colab-badge.svg\" alt=\"Open In Colab\"/></a>"
      ]
    },
    {
      "cell_type": "code",
      "execution_count": null,
      "metadata": {
        "id": "pAEtaVqbal-q"
      },
      "outputs": [],
      "source": [
        "# Hi it's Mohamad on 22th September 2022\n",
        "# mahsaamini"
      ]
    },
    {
      "cell_type": "markdown",
      "source": [
        "# Classification Model\n",
        "it's about ditinguishing different objects two (binary calss) or more than two objects (multi-class)\n"
      ],
      "metadata": {
        "id": "X4gzyUEFn2AG"
      }
    },
    {
      "cell_type": "markdown",
      "source": [
        "## prerquarities"
      ],
      "metadata": {
        "id": "GMC-Og5rn2Ir"
      }
    },
    {
      "cell_type": "code",
      "source": [
        "# Imports\n",
        "import torch\n",
        "import sklearn\n",
        "from sklearn.datasets import make_circles # For creating data setes\n",
        "import numpy as np\n",
        "import matplotlib.pyplot as plt\n",
        "torch.__version__"
      ],
      "metadata": {
        "colab": {
          "base_uri": "https://localhost:8080/",
          "height": 36
        },
        "id": "aWztNP0Yn2Mc",
        "outputId": "7e4f9ee1-a94f-40af-8c75-86fe3a353869"
      },
      "execution_count": null,
      "outputs": [
        {
          "output_type": "execute_result",
          "data": {
            "text/plain": [
              "'1.12.1+cu113'"
            ],
            "application/vnd.google.colaboratory.intrinsic+json": {
              "type": "string"
            }
          },
          "metadata": {},
          "execution_count": 96
        }
      ]
    },
    {
      "cell_type": "markdown",
      "source": [
        "## 1 . Creating datasets and spliting to train and test data sets"
      ],
      "metadata": {
        "id": "LznbU3Rxn2QJ"
      }
    },
    {
      "cell_type": "code",
      "source": [
        "# Samples\n",
        "samples = 1000\n",
        "# Creating data sets\n",
        "X , y = make_circles(n_samples=samples,\n",
        "                    noise = 0.03 ,\n",
        "                    random_state = 42)"
      ],
      "metadata": {
        "id": "nSwCtsG3n2T9"
      },
      "execution_count": null,
      "outputs": []
    },
    {
      "cell_type": "code",
      "source": [
        "type(X),type(y)"
      ],
      "metadata": {
        "colab": {
          "base_uri": "https://localhost:8080/"
        },
        "id": "a0xn8BJvn2ZD",
        "outputId": "09ed5602-b976-41d1-d8cd-8011d44ba36f"
      },
      "execution_count": null,
      "outputs": [
        {
          "output_type": "execute_result",
          "data": {
            "text/plain": [
              "(numpy.ndarray, numpy.ndarray)"
            ]
          },
          "metadata": {},
          "execution_count": 98
        }
      ]
    },
    {
      "cell_type": "code",
      "source": [
        "X.shape , y.shape"
      ],
      "metadata": {
        "colab": {
          "base_uri": "https://localhost:8080/"
        },
        "id": "Tyx9h8gwtHoA",
        "outputId": "2aa993ea-a762-4931-84ad-4b36620b4214"
      },
      "execution_count": null,
      "outputs": [
        {
          "output_type": "execute_result",
          "data": {
            "text/plain": [
              "((1000, 2), (1000,))"
            ]
          },
          "metadata": {},
          "execution_count": 99
        }
      ]
    },
    {
      "cell_type": "code",
      "source": [
        "print(f\"First 5 samples of X : \\n {X[:5]}\")\n",
        "print(f\"First 5 samples of y : \\n {y[:5]}\")"
      ],
      "metadata": {
        "colab": {
          "base_uri": "https://localhost:8080/"
        },
        "id": "zPtiQPeRtHse",
        "outputId": "ce7fd016-6437-4dd7-e4ef-d48309fee34c"
      },
      "execution_count": null,
      "outputs": [
        {
          "output_type": "stream",
          "name": "stdout",
          "text": [
            "First 5 samples of X : \n",
            " [[ 0.75424625  0.23148074]\n",
            " [-0.75615888  0.15325888]\n",
            " [-0.81539193  0.17328203]\n",
            " [-0.39373073  0.69288277]\n",
            " [ 0.44220765 -0.89672343]]\n",
            "First 5 samples of y : \n",
            " [1 1 1 1 0]\n"
          ]
        }
      ]
    },
    {
      "cell_type": "markdown",
      "source": [
        "For better understanding of how our data are represented we could use *panda* library of python"
      ],
      "metadata": {
        "id": "UYzD9srRuKf1"
      }
    },
    {
      "cell_type": "code",
      "source": [
        "import pandas as pd\n",
        "from pandas import DataFrame"
      ],
      "metadata": {
        "id": "TQBm5IDFtHwp"
      },
      "execution_count": null,
      "outputs": []
    },
    {
      "cell_type": "code",
      "source": [
        "pandas_represent  = DataFrame({\"X1\" : X[:,0],\n",
        "                        \"X2\" : X[:,1],\n",
        "                        \"lable\"  : y[:]})\n",
        "pandas_represent.head(5)"
      ],
      "metadata": {
        "colab": {
          "base_uri": "https://localhost:8080/",
          "height": 206
        },
        "id": "E077l9TntH0r",
        "outputId": "bc7df140-4bd2-49a4-da0e-bb6cc348c892"
      },
      "execution_count": null,
      "outputs": [
        {
          "output_type": "execute_result",
          "data": {
            "text/plain": [
              "         X1        X2  lable\n",
              "0  0.754246  0.231481      1\n",
              "1 -0.756159  0.153259      1\n",
              "2 -0.815392  0.173282      1\n",
              "3 -0.393731  0.692883      1\n",
              "4  0.442208 -0.896723      0"
            ],
            "text/html": [
              "\n",
              "  <div id=\"df-e113ea2a-b00a-4ca9-b84f-0887ba6f07ee\">\n",
              "    <div class=\"colab-df-container\">\n",
              "      <div>\n",
              "<style scoped>\n",
              "    .dataframe tbody tr th:only-of-type {\n",
              "        vertical-align: middle;\n",
              "    }\n",
              "\n",
              "    .dataframe tbody tr th {\n",
              "        vertical-align: top;\n",
              "    }\n",
              "\n",
              "    .dataframe thead th {\n",
              "        text-align: right;\n",
              "    }\n",
              "</style>\n",
              "<table border=\"1\" class=\"dataframe\">\n",
              "  <thead>\n",
              "    <tr style=\"text-align: right;\">\n",
              "      <th></th>\n",
              "      <th>X1</th>\n",
              "      <th>X2</th>\n",
              "      <th>lable</th>\n",
              "    </tr>\n",
              "  </thead>\n",
              "  <tbody>\n",
              "    <tr>\n",
              "      <th>0</th>\n",
              "      <td>0.754246</td>\n",
              "      <td>0.231481</td>\n",
              "      <td>1</td>\n",
              "    </tr>\n",
              "    <tr>\n",
              "      <th>1</th>\n",
              "      <td>-0.756159</td>\n",
              "      <td>0.153259</td>\n",
              "      <td>1</td>\n",
              "    </tr>\n",
              "    <tr>\n",
              "      <th>2</th>\n",
              "      <td>-0.815392</td>\n",
              "      <td>0.173282</td>\n",
              "      <td>1</td>\n",
              "    </tr>\n",
              "    <tr>\n",
              "      <th>3</th>\n",
              "      <td>-0.393731</td>\n",
              "      <td>0.692883</td>\n",
              "      <td>1</td>\n",
              "    </tr>\n",
              "    <tr>\n",
              "      <th>4</th>\n",
              "      <td>0.442208</td>\n",
              "      <td>-0.896723</td>\n",
              "      <td>0</td>\n",
              "    </tr>\n",
              "  </tbody>\n",
              "</table>\n",
              "</div>\n",
              "      <button class=\"colab-df-convert\" onclick=\"convertToInteractive('df-e113ea2a-b00a-4ca9-b84f-0887ba6f07ee')\"\n",
              "              title=\"Convert this dataframe to an interactive table.\"\n",
              "              style=\"display:none;\">\n",
              "        \n",
              "  <svg xmlns=\"http://www.w3.org/2000/svg\" height=\"24px\"viewBox=\"0 0 24 24\"\n",
              "       width=\"24px\">\n",
              "    <path d=\"M0 0h24v24H0V0z\" fill=\"none\"/>\n",
              "    <path d=\"M18.56 5.44l.94 2.06.94-2.06 2.06-.94-2.06-.94-.94-2.06-.94 2.06-2.06.94zm-11 1L8.5 8.5l.94-2.06 2.06-.94-2.06-.94L8.5 2.5l-.94 2.06-2.06.94zm10 10l.94 2.06.94-2.06 2.06-.94-2.06-.94-.94-2.06-.94 2.06-2.06.94z\"/><path d=\"M17.41 7.96l-1.37-1.37c-.4-.4-.92-.59-1.43-.59-.52 0-1.04.2-1.43.59L10.3 9.45l-7.72 7.72c-.78.78-.78 2.05 0 2.83L4 21.41c.39.39.9.59 1.41.59.51 0 1.02-.2 1.41-.59l7.78-7.78 2.81-2.81c.8-.78.8-2.07 0-2.86zM5.41 20L4 18.59l7.72-7.72 1.47 1.35L5.41 20z\"/>\n",
              "  </svg>\n",
              "      </button>\n",
              "      \n",
              "  <style>\n",
              "    .colab-df-container {\n",
              "      display:flex;\n",
              "      flex-wrap:wrap;\n",
              "      gap: 12px;\n",
              "    }\n",
              "\n",
              "    .colab-df-convert {\n",
              "      background-color: #E8F0FE;\n",
              "      border: none;\n",
              "      border-radius: 50%;\n",
              "      cursor: pointer;\n",
              "      display: none;\n",
              "      fill: #1967D2;\n",
              "      height: 32px;\n",
              "      padding: 0 0 0 0;\n",
              "      width: 32px;\n",
              "    }\n",
              "\n",
              "    .colab-df-convert:hover {\n",
              "      background-color: #E2EBFA;\n",
              "      box-shadow: 0px 1px 2px rgba(60, 64, 67, 0.3), 0px 1px 3px 1px rgba(60, 64, 67, 0.15);\n",
              "      fill: #174EA6;\n",
              "    }\n",
              "\n",
              "    [theme=dark] .colab-df-convert {\n",
              "      background-color: #3B4455;\n",
              "      fill: #D2E3FC;\n",
              "    }\n",
              "\n",
              "    [theme=dark] .colab-df-convert:hover {\n",
              "      background-color: #434B5C;\n",
              "      box-shadow: 0px 1px 3px 1px rgba(0, 0, 0, 0.15);\n",
              "      filter: drop-shadow(0px 1px 2px rgba(0, 0, 0, 0.3));\n",
              "      fill: #FFFFFF;\n",
              "    }\n",
              "  </style>\n",
              "\n",
              "      <script>\n",
              "        const buttonEl =\n",
              "          document.querySelector('#df-e113ea2a-b00a-4ca9-b84f-0887ba6f07ee button.colab-df-convert');\n",
              "        buttonEl.style.display =\n",
              "          google.colab.kernel.accessAllowed ? 'block' : 'none';\n",
              "\n",
              "        async function convertToInteractive(key) {\n",
              "          const element = document.querySelector('#df-e113ea2a-b00a-4ca9-b84f-0887ba6f07ee');\n",
              "          const dataTable =\n",
              "            await google.colab.kernel.invokeFunction('convertToInteractive',\n",
              "                                                     [key], {});\n",
              "          if (!dataTable) return;\n",
              "\n",
              "          const docLinkHtml = 'Like what you see? Visit the ' +\n",
              "            '<a target=\"_blank\" href=https://colab.research.google.com/notebooks/data_table.ipynb>data table notebook</a>'\n",
              "            + ' to learn more about interactive tables.';\n",
              "          element.innerHTML = '';\n",
              "          dataTable['output_type'] = 'display_data';\n",
              "          await google.colab.output.renderOutput(dataTable, element);\n",
              "          const docLink = document.createElement('div');\n",
              "          docLink.innerHTML = docLinkHtml;\n",
              "          element.appendChild(docLink);\n",
              "        }\n",
              "      </script>\n",
              "    </div>\n",
              "  </div>\n",
              "  "
            ]
          },
          "metadata": {},
          "execution_count": 102
        }
      ]
    },
    {
      "cell_type": "code",
      "source": [
        "# just some remembering points\n",
        "pandas_represent.columns"
      ],
      "metadata": {
        "colab": {
          "base_uri": "https://localhost:8080/"
        },
        "id": "fm9ZQEK6wY3u",
        "outputId": "cbd4c637-e3f7-4293-8912-d409adfda8ee"
      },
      "execution_count": null,
      "outputs": [
        {
          "output_type": "execute_result",
          "data": {
            "text/plain": [
              "Index(['X1', 'X2', 'lable'], dtype='object')"
            ]
          },
          "metadata": {},
          "execution_count": 103
        }
      ]
    },
    {
      "cell_type": "code",
      "source": [
        "# Note : Really important thing to know about our datat sets is the poprportionate dividence of our data values\n",
        "pandas_represent.lable.value_counts()"
      ],
      "metadata": {
        "colab": {
          "base_uri": "https://localhost:8080/"
        },
        "id": "jDSkRiSxwYqQ",
        "outputId": "77be410c-d2dd-4796-a3d1-58cce761286a"
      },
      "execution_count": null,
      "outputs": [
        {
          "output_type": "execute_result",
          "data": {
            "text/plain": [
              "1    500\n",
              "0    500\n",
              "Name: lable, dtype: int64"
            ]
          },
          "metadata": {},
          "execution_count": 104
        }
      ]
    },
    {
      "cell_type": "markdown",
      "source": [
        "also we could use matplotlib to see how our data are represented (visualize , visualize , visualize)"
      ],
      "metadata": {
        "id": "JR1ft1wBwYpe"
      }
    },
    {
      "cell_type": "code",
      "source": [
        "matplot_represent = plt.scatter(x=X[:,0],\n",
        "                                y=X[:,1],\n",
        "                                c=y,\n",
        "                                cmap=plt.cm.RdYlBu)\n",
        "matplot_represent"
      ],
      "metadata": {
        "colab": {
          "base_uri": "https://localhost:8080/",
          "height": 282
        },
        "id": "og98oMoAwYli",
        "outputId": "247080e8-a39d-456b-9695-fd939db0de14"
      },
      "execution_count": null,
      "outputs": [
        {
          "output_type": "execute_result",
          "data": {
            "text/plain": [
              "<matplotlib.collections.PathCollection at 0x7ff7a6030f90>"
            ]
          },
          "metadata": {},
          "execution_count": 105
        },
        {
          "output_type": "display_data",
          "data": {
            "text/plain": [
              "<Figure size 432x288 with 1 Axes>"
            ],
            "image/png": "[encoded data removed]"
          },
          "metadata": {
            "needs_background": "light"
          }
        }
      ]
    },
    {
      "cell_type": "markdown",
      "source": [
        "**Note:** The data we're working with is often referred to as a toy dataset, a dataset that is small enough to experiment but still sizeable enough to practice the fundamentals."
      ],
      "metadata": {
        "id": "cE3KOHSNwYkn"
      }
    },
    {
      "cell_type": "markdown",
      "source": [
        "### 1.1 Turing data sets to the tensors"
      ],
      "metadata": {
        "id": "xgITYcSetIHJ"
      }
    },
    {
      "cell_type": "code",
      "source": [
        "type(X) , X.dtype"
      ],
      "metadata": {
        "colab": {
          "base_uri": "https://localhost:8080/"
        },
        "id": "n5jKjOK31uzb",
        "outputId": "0f064454-a719-4eb5-e5aa-2f6a4b1c19b7"
      },
      "execution_count": null,
      "outputs": [
        {
          "output_type": "execute_result",
          "data": {
            "text/plain": [
              "(numpy.ndarray, dtype('float64'))"
            ]
          },
          "metadata": {},
          "execution_count": 106
        }
      ]
    },
    {
      "cell_type": "code",
      "source": [
        "X = torch.from_numpy(X).type(torch.float)\n",
        "y = torch.from_numpy(y).type(torch.float)"
      ],
      "metadata": {
        "id": "f9Q6IuGf1u4P"
      },
      "execution_count": null,
      "outputs": []
    },
    {
      "cell_type": "code",
      "source": [
        "X[:5]"
      ],
      "metadata": {
        "colab": {
          "base_uri": "https://localhost:8080/"
        },
        "id": "F-U1JJtQ1vKA",
        "outputId": "029ef7fa-7dfe-472d-a6c1-c8b292c1ba2d"
      },
      "execution_count": null,
      "outputs": [
        {
          "output_type": "execute_result",
          "data": {
            "text/plain": [
              "tensor([[ 0.7542,  0.2315],\n",
              "        [-0.7562,  0.1533],\n",
              "        [-0.8154,  0.1733],\n",
              "        [-0.3937,  0.6929],\n",
              "        [ 0.4422, -0.8967]])"
            ]
          },
          "metadata": {},
          "execution_count": 108
        }
      ]
    },
    {
      "cell_type": "code",
      "source": [
        "type(X) , X.dtype"
      ],
      "metadata": {
        "colab": {
          "base_uri": "https://localhost:8080/"
        },
        "id": "f-8qyp8o1vN9",
        "outputId": "88880538-30af-4a51-dab8-e21e4cde7564"
      },
      "execution_count": null,
      "outputs": [
        {
          "output_type": "execute_result",
          "data": {
            "text/plain": [
              "(torch.Tensor, torch.float32)"
            ]
          },
          "metadata": {},
          "execution_count": 109
        }
      ]
    },
    {
      "cell_type": "markdown",
      "source": [
        "### 1.2 Spliting data sets to the train and test sets"
      ],
      "metadata": {
        "id": "fvhqWiZ61vZ4"
      }
    },
    {
      "cell_type": "code",
      "source": [
        "from sklearn.model_selection import train_test_split"
      ],
      "metadata": {
        "id": "9Wz4D_VT1veG"
      },
      "execution_count": null,
      "outputs": []
    },
    {
      "cell_type": "code",
      "source": [
        "X_train , X_test , y_train , y_test = train_test_split(X,\n",
        "                                                       y,\n",
        "                                                       test_size = 0.2 ,# 20 % of data (X) would be splited as test data\n",
        "                                                       random_state = 42)"
      ],
      "metadata": {
        "id": "3LRVfW50ME8I"
      },
      "execution_count": null,
      "outputs": []
    },
    {
      "cell_type": "code",
      "source": [
        "len(X_train) , len(X_test) , len(y_train) , len(y_test)"
      ],
      "metadata": {
        "colab": {
          "base_uri": "https://localhost:8080/"
        },
        "id": "UnROrBpIMFAc",
        "outputId": "f354f2b7-478b-4133-fda3-578d872abb29"
      },
      "execution_count": null,
      "outputs": [
        {
          "output_type": "execute_result",
          "data": {
            "text/plain": [
              "(800, 200, 800, 200)"
            ]
          },
          "metadata": {},
          "execution_count": 112
        }
      ]
    },
    {
      "cell_type": "markdown",
      "source": [
        "## 2 . Building Model\n",
        "\n",
        "actuly we are building a model for classifying red and blue dots\n",
        "\n",
        "steps :\n",
        "\n",
        "1. setup device agnostic code (so our code would run on accelerator if there is one )\n",
        "2. Construct a model (by subclassing `nn.Module`)\n",
        "3. defining a loss function and optimizer\n",
        "4. Creating test and train loops"
      ],
      "metadata": {
        "id": "zXs_SgKiMFEo"
      }
    },
    {
      "cell_type": "markdown",
      "source": [
        "### 2.1 Setuping device agnostic code"
      ],
      "metadata": {
        "id": "9_LTdgLYMFJA"
      }
    },
    {
      "cell_type": "code",
      "source": [
        "# Device agnostic code\n",
        "device = \"cuda\" if torch.cuda.is_available() else \"cpu\"\n",
        "device"
      ],
      "metadata": {
        "colab": {
          "base_uri": "https://localhost:8080/",
          "height": 36
        },
        "id": "dx96Dik4MFYm",
        "outputId": "55f18df1-94a3-464a-f4f8-f96d8734f142"
      },
      "execution_count": null,
      "outputs": [
        {
          "output_type": "execute_result",
          "data": {
            "text/plain": [
              "'cuda'"
            ],
            "application/vnd.google.colaboratory.intrinsic+json": {
              "type": "string"
            }
          },
          "metadata": {},
          "execution_count": 113
        }
      ]
    },
    {
      "cell_type": "markdown",
      "source": [
        "### 2.2 Constructing a model with these features :\n",
        "\n",
        "1. subclass of `nn.Module`\n",
        "2. Containing 2 `nn.Linear` layers that can handle our data shapes\n",
        "3. Defining a `forward()` method for selecting weights and bias of our data\n",
        "4. Instatiate an instance of our model class and send it to the target `device`"
      ],
      "metadata": {
        "id": "bwv8ORRESInf"
      }
    },
    {
      "cell_type": "code",
      "source": [
        "# Imports\n",
        "from torch import nn"
      ],
      "metadata": {
        "id": "0DJinQQrUJ3L"
      },
      "execution_count": null,
      "outputs": []
    },
    {
      "cell_type": "markdown",
      "source": [
        "**Note :** the shape of X and y is important in shaping our model"
      ],
      "metadata": {
        "id": "AV6LGsR-WDKJ"
      }
    },
    {
      "cell_type": "code",
      "source": [
        "X.shape , y.shape"
      ],
      "metadata": {
        "colab": {
          "base_uri": "https://localhost:8080/"
        },
        "id": "C-YcLN6MVbAR",
        "outputId": "76c78d37-1913-49e0-ba26-9a516e0e3311"
      },
      "execution_count": null,
      "outputs": [
        {
          "output_type": "execute_result",
          "data": {
            "text/plain": [
              "(torch.Size([1000, 2]), torch.Size([1000]))"
            ]
          },
          "metadata": {},
          "execution_count": 115
        }
      ]
    },
    {
      "cell_type": "code",
      "source": [
        "class CircleModel_0(nn.Module) :\n",
        "  def __init__(self):\n",
        "    super().__init__()\n",
        "    # Create 2 nn.Linear layers capable of handling the shapes of our data\n",
        "    self.layer1 = nn.Linear(in_features = 2 , out_features = 10) # takes in 2 features (same as shaape X) and upscales to 5 features\n",
        "    self.layer2 = nn.Linear(in_features = 10, out_features = 10) # takes in 5 features from previous layer and outputs a single feature (same shape as y)\n",
        "    self.layer3 = nn.Linear(in_features = 10, out_features = 1)\n",
        "    self.relu = nn.ReLU() # for adding non-linearity to our model\n",
        "  def forward(self, x) :\n",
        "    return self.layer3(self.relu(self.layer2(self.relu((self.layer1(x))))))"
      ],
      "metadata": {
        "id": "okX0QQ2lXNF-"
      },
      "execution_count": null,
      "outputs": []
    },
    {
      "cell_type": "code",
      "source": [
        "# Instantiate an instance of our model class and send it to the target device\n",
        "model_0 = CircleModel_0().to(device)\n",
        "model_0"
      ],
      "metadata": {
        "colab": {
          "base_uri": "https://localhost:8080/"
        },
        "id": "qN8UBIA2XPIw",
        "outputId": "ecc4ae44-db74-449c-e5de-f0401c9c4028"
      },
      "execution_count": null,
      "outputs": [
        {
          "output_type": "execute_result",
          "data": {
            "text/plain": [
              "CircleModel_0(\n",
              "  (layer1): Linear(in_features=2, out_features=10, bias=True)\n",
              "  (layer2): Linear(in_features=10, out_features=10, bias=True)\n",
              "  (layer3): Linear(in_features=10, out_features=1, bias=True)\n",
              "  (relu): ReLU()\n",
              ")"
            ]
          },
          "metadata": {},
          "execution_count": 117
        }
      ]
    },
    {
      "cell_type": "code",
      "source": [
        "list(model_0.parameters())"
      ],
      "metadata": {
        "id": "JN5va1aeSIv7",
        "colab": {
          "base_uri": "https://localhost:8080/"
        },
        "outputId": "b09c29c9-f88c-4b89-b620-151a1ff1b5b7"
      },
      "execution_count": null,
      "outputs": [
        {
          "output_type": "execute_result",
          "data": {
            "text/plain": [
              "[Parameter containing:\n",
              " tensor([[ 0.5406,  0.5869],\n",
              "         [-0.1657,  0.6496],\n",
              "         [-0.1549,  0.1427],\n",
              "         [-0.3443,  0.4153],\n",
              "         [ 0.6233, -0.5188],\n",
              "         [ 0.6146,  0.1323],\n",
              "         [ 0.5224,  0.0958],\n",
              "         [ 0.3410, -0.0998],\n",
              "         [ 0.5451,  0.1045],\n",
              "         [-0.3301,  0.1802]], device='cuda:0', requires_grad=True),\n",
              " Parameter containing:\n",
              " tensor([-0.3258, -0.0829, -0.2872,  0.4691, -0.5582, -0.3260, -0.1997, -0.4252,\n",
              "          0.0667, -0.6984], device='cuda:0', requires_grad=True),\n",
              " Parameter containing:\n",
              " tensor([[ 0.2856, -0.2686,  0.2441,  0.0526, -0.1027,  0.1954,  0.0493,  0.2555,\n",
              "           0.0346, -0.0997],\n",
              "         [ 0.0850, -0.0858,  0.1331,  0.2823,  0.1828, -0.1382,  0.1825,  0.0566,\n",
              "           0.1606, -0.1927],\n",
              "         [-0.3130, -0.1222, -0.2426,  0.2595,  0.0911,  0.1310,  0.1000, -0.0055,\n",
              "           0.2475, -0.2247],\n",
              "         [ 0.0199, -0.2158,  0.0975, -0.1089,  0.0969, -0.0659,  0.2623, -0.1874,\n",
              "          -0.1886, -0.1886],\n",
              "         [ 0.2844,  0.1054,  0.3043, -0.2610, -0.3137, -0.2474, -0.2127,  0.1281,\n",
              "           0.1132,  0.2628],\n",
              "         [-0.1633, -0.2156,  0.1678, -0.1278,  0.1919, -0.0750,  0.1809, -0.2457,\n",
              "          -0.1596,  0.0964],\n",
              "         [ 0.0669, -0.0806,  0.1885,  0.2150, -0.2293, -0.1688,  0.2896, -0.1067,\n",
              "          -0.1121, -0.3060],\n",
              "         [-0.1811,  0.0790, -0.0417, -0.2295,  0.0074, -0.2160, -0.2683, -0.1741,\n",
              "          -0.2768, -0.2014],\n",
              "         [ 0.3161,  0.0597,  0.0974, -0.2949, -0.2077, -0.1053,  0.0494, -0.2783,\n",
              "          -0.1363, -0.1893],\n",
              "         [ 0.0009, -0.1177, -0.0219, -0.2143, -0.2171, -0.1845, -0.1082, -0.2496,\n",
              "           0.2651, -0.0628]], device='cuda:0', requires_grad=True),\n",
              " Parameter containing:\n",
              " tensor([ 0.2721,  0.0985, -0.2678,  0.2188, -0.0870, -0.1212, -0.2625, -0.3144,\n",
              "          0.0905, -0.0691], device='cuda:0', requires_grad=True),\n",
              " Parameter containing:\n",
              " tensor([[ 0.1231, -0.2595,  0.2348, -0.2321, -0.0546,  0.0661,  0.1633,  0.2553,\n",
              "           0.2881, -0.2507]], device='cuda:0', requires_grad=True),\n",
              " Parameter containing:\n",
              " tensor([0.0796], device='cuda:0', requires_grad=True)]"
            ]
          },
          "metadata": {},
          "execution_count": 118
        }
      ]
    },
    {
      "cell_type": "code",
      "source": [
        "model_0.state_dict()"
      ],
      "metadata": {
        "id": "NRin7LrcSIz4",
        "colab": {
          "base_uri": "https://localhost:8080/"
        },
        "outputId": "66213b40-6df3-4b15-eb0f-0cb6fc2bfae4"
      },
      "execution_count": null,
      "outputs": [
        {
          "output_type": "execute_result",
          "data": {
            "text/plain": [
              "OrderedDict([('layer1.weight', tensor([[ 0.5406,  0.5869],\n",
              "                      [-0.1657,  0.6496],\n",
              "                      [-0.1549,  0.1427],\n",
              "                      [-0.3443,  0.4153],\n",
              "                      [ 0.6233, -0.5188],\n",
              "                      [ 0.6146,  0.1323],\n",
              "                      [ 0.5224,  0.0958],\n",
              "                      [ 0.3410, -0.0998],\n",
              "                      [ 0.5451,  0.1045],\n",
              "                      [-0.3301,  0.1802]], device='cuda:0')),\n",
              "             ('layer1.bias',\n",
              "              tensor([-0.3258, -0.0829, -0.2872,  0.4691, -0.5582, -0.3260, -0.1997, -0.4252,\n",
              "                       0.0667, -0.6984], device='cuda:0')),\n",
              "             ('layer2.weight',\n",
              "              tensor([[ 0.2856, -0.2686,  0.2441,  0.0526, -0.1027,  0.1954,  0.0493,  0.2555,\n",
              "                        0.0346, -0.0997],\n",
              "                      [ 0.0850, -0.0858,  0.1331,  0.2823,  0.1828, -0.1382,  0.1825,  0.0566,\n",
              "                        0.1606, -0.1927],\n",
              "                      [-0.3130, -0.1222, -0.2426,  0.2595,  0.0911,  0.1310,  0.1000, -0.0055,\n",
              "                        0.2475, -0.2247],\n",
              "                      [ 0.0199, -0.2158,  0.0975, -0.1089,  0.0969, -0.0659,  0.2623, -0.1874,\n",
              "                       -0.1886, -0.1886],\n",
              "                      [ 0.2844,  0.1054,  0.3043, -0.2610, -0.3137, -0.2474, -0.2127,  0.1281,\n",
              "                        0.1132,  0.2628],\n",
              "                      [-0.1633, -0.2156,  0.1678, -0.1278,  0.1919, -0.0750,  0.1809, -0.2457,\n",
              "                       -0.1596,  0.0964],\n",
              "                      [ 0.0669, -0.0806,  0.1885,  0.2150, -0.2293, -0.1688,  0.2896, -0.1067,\n",
              "                       -0.1121, -0.3060],\n",
              "                      [-0.1811,  0.0790, -0.0417, -0.2295,  0.0074, -0.2160, -0.2683, -0.1741,\n",
              "                       -0.2768, -0.2014],\n",
              "                      [ 0.3161,  0.0597,  0.0974, -0.2949, -0.2077, -0.1053,  0.0494, -0.2783,\n",
              "                       -0.1363, -0.1893],\n",
              "                      [ 0.0009, -0.1177, -0.0219, -0.2143, -0.2171, -0.1845, -0.1082, -0.2496,\n",
              "                        0.2651, -0.0628]], device='cuda:0')),\n",
              "             ('layer2.bias',\n",
              "              tensor([ 0.2721,  0.0985, -0.2678,  0.2188, -0.0870, -0.1212, -0.2625, -0.3144,\n",
              "                       0.0905, -0.0691], device='cuda:0')),\n",
              "             ('layer3.weight',\n",
              "              tensor([[ 0.1231, -0.2595,  0.2348, -0.2321, -0.0546,  0.0661,  0.1633,  0.2553,\n",
              "                        0.2881, -0.2507]], device='cuda:0')),\n",
              "             ('layer3.bias', tensor([0.0796], device='cuda:0'))])"
            ]
          },
          "metadata": {},
          "execution_count": 119
        }
      ]
    },
    {
      "cell_type": "markdown",
      "source": [
        "**Note :** We could also replicate model above with `nn.Sequentional`"
      ],
      "metadata": {
        "id": "BFqtorKsSI4V"
      }
    },
    {
      "cell_type": "code",
      "source": [
        "model_1 = nn.Sequential(\n",
        "    nn.Linear(in_features=2,out_features=5),\n",
        "    nn.Linear(in_features=5,out_features=1)\n",
        ").to(device)"
      ],
      "metadata": {
        "id": "kPPYYWRySI8Q"
      },
      "execution_count": null,
      "outputs": []
    },
    {
      "cell_type": "code",
      "source": [
        "model_1"
      ],
      "metadata": {
        "id": "zP0ttcd5SJA6",
        "colab": {
          "base_uri": "https://localhost:8080/"
        },
        "outputId": "cc71f83c-4f67-4ae4-c946-901fe1dc1c87"
      },
      "execution_count": null,
      "outputs": [
        {
          "output_type": "execute_result",
          "data": {
            "text/plain": [
              "Sequential(\n",
              "  (0): Linear(in_features=2, out_features=5, bias=True)\n",
              "  (1): Linear(in_features=5, out_features=1, bias=True)\n",
              ")"
            ]
          },
          "metadata": {},
          "execution_count": 121
        }
      ]
    },
    {
      "cell_type": "code",
      "source": [
        "# Make predictions for testing our model functionality\n",
        "with torch.inference_mode() :\n",
        "  test_preds = model_0(X_test.to(device))\n",
        "print(f\"test preds shape : {test_preds.shape}\")\n",
        "print(f\"First 5 predictions are : {test_preds[:5]}\")"
      ],
      "metadata": {
        "id": "-Td-N9PbSJFU",
        "colab": {
          "base_uri": "https://localhost:8080/"
        },
        "outputId": "66be5133-abe2-4d90-a9c3-56a593fdba97"
      },
      "execution_count": null,
      "outputs": [
        {
          "output_type": "stream",
          "name": "stdout",
          "text": [
            "test preds shape : torch.Size([200, 1])\n",
            "First 5 predictions are : tensor([[0.0167],\n",
            "        [0.0207],\n",
            "        [0.0126],\n",
            "        [0.0171],\n",
            "        [0.0420]], device='cuda:0')\n"
          ]
        }
      ]
    },
    {
      "cell_type": "markdown",
      "source": [
        "### 2.3 defining loss function and optimizer\n",
        "\n",
        "**loss function :** a function for calculating how much wrong our model predictions are\n",
        "\n",
        "**optimizer :** in account of adjusting parameters for better predictions of our model\n",
        "\n",
        "what loss function and optimizers should we use :\n",
        "*loss function* : Binary Cross Entropy (`nn.BCEWithLogitsLoss`) as for regression\n",
        "model we used MAE\n",
        "\n",
        "*optimizer* : SGD or ADAM (`torch.optim.SGD` or `torch.optim.ADAM`)"
      ],
      "metadata": {
        "id": "fGfuF8ucSJJ4"
      }
    },
    {
      "cell_type": "markdown",
      "source": [
        "#### 2.3.1 Setup loss function"
      ],
      "metadata": {
        "id": "DWHD-Vu5ZARk"
      }
    },
    {
      "cell_type": "code",
      "source": [
        "# loss_fn = nn.BCELoss() # BCELoss = requires inputs to have gone through the sigmoid activation function prior to input to BCELoss but BCEWithLogitsLoss not\n",
        "loss_fn = nn.BCEWithLogitsLoss()"
      ],
      "metadata": {
        "id": "8nXLLqiVSJOI"
      },
      "execution_count": null,
      "outputs": []
    },
    {
      "cell_type": "markdown",
      "source": [
        "#### 2.3.2 setup optimizer"
      ],
      "metadata": {
        "id": "tTNvwYjUSaq0"
      }
    },
    {
      "cell_type": "code",
      "source": [
        "optimizer = torch.optim.SGD(params=model_0.parameters(),\n",
        "                            lr = 0.1)"
      ],
      "metadata": {
        "id": "4FY97BYuSbCq"
      },
      "execution_count": null,
      "outputs": []
    },
    {
      "cell_type": "markdown",
      "source": [
        "#### 2.3.3 setup a accuracy function\n",
        "for calculating how much correct our predictions are"
      ],
      "metadata": {
        "id": "BbGsA72zSbJe"
      }
    },
    {
      "cell_type": "code",
      "source": [
        "def accuracy_fn(y_true,y_pred) :\n",
        "    correct = torch.eq(y_true, y_pred).sum().item()\n",
        "    acc = (correct/len(y_pred)) * 100\n",
        "    return acc"
      ],
      "metadata": {
        "id": "cTuD_FktSbRF"
      },
      "execution_count": null,
      "outputs": []
    },
    {
      "cell_type": "markdown",
      "source": [
        "## 3 . Train model\n",
        "\n",
        "To train our model, we're going to need to build a training loop with the following steps:\n",
        "\n",
        "1. Forward pass\n",
        "2. Calculate the loss\n",
        "3. Optimizer zero grad\n",
        "4. Loss backward (backpropagation)\n",
        "5. Optimizer step (gradient descent)"
      ],
      "metadata": {
        "id": "SBrbFWL-SY4C"
      }
    },
    {
      "cell_type": "markdown",
      "source": [
        "### 3.1 Going from raw logits -> prediction probabilities -> prediction labels\n",
        "\n",
        "our model outputs are going to be **raw** outputs or in the other word **logits**\n",
        "\n",
        "We can convert these **logits** into **prediction probabilities** by passing them to some kind of activation function (e.g. sigmoid for binary classification and softmax for multiclass classification).\n",
        "\n",
        "Then we can convert our model's prediction probabilities to **prediction labels** by either rounding them or taking the `argmax()`(for muliclass calssification)."
      ],
      "metadata": {
        "id": "RMwgfbWaSY9J"
      }
    },
    {
      "cell_type": "code",
      "source": [
        "model_0.eval()\n",
        "with torch.inference_mode() :\n",
        "  y_logits = model_0(X_test.to(device))[:5]\n",
        "\n",
        "y_logits , y_test[:5]"
      ],
      "metadata": {
        "colab": {
          "base_uri": "https://localhost:8080/"
        },
        "id": "pqpZY0VcSZBb",
        "outputId": "e44493c5-d95e-4f91-c1ae-8e36b33944a3"
      },
      "execution_count": null,
      "outputs": [
        {
          "output_type": "execute_result",
          "data": {
            "text/plain": [
              "(tensor([[0.0167],\n",
              "         [0.0207],\n",
              "         [0.0126],\n",
              "         [0.0171],\n",
              "         [0.0420]], device='cuda:0'), tensor([1., 0., 1., 0., 1.]))"
            ]
          },
          "metadata": {},
          "execution_count": 126
        }
      ]
    },
    {
      "cell_type": "markdown",
      "source": [
        "as we could see there is no simialirity between our raw logits and y-lables so we need an activation function for converting raw logits to prediction probilities (and then a round function for more simialirity )"
      ],
      "metadata": {
        "id": "8ZAjbt2vSZGU"
      }
    },
    {
      "cell_type": "code",
      "source": [
        "y_pred_probs = torch.sigmoid(y_logits)\n",
        "y_pred_probs"
      ],
      "metadata": {
        "colab": {
          "base_uri": "https://localhost:8080/"
        },
        "id": "uLlLoxvsSZXq",
        "outputId": "12761b3a-ba19-4f01-be33-50ae881643b3"
      },
      "execution_count": null,
      "outputs": [
        {
          "output_type": "execute_result",
          "data": {
            "text/plain": [
              "tensor([[0.5042],\n",
              "        [0.5052],\n",
              "        [0.5032],\n",
              "        [0.5043],\n",
              "        [0.5105]], device='cuda:0')"
            ]
          },
          "metadata": {},
          "execution_count": 127
        }
      ]
    },
    {
      "cell_type": "markdown",
      "source": [
        "For our prediction probability values, we need to perform a range-style rounding on them:\n",
        "* `y_pred_probs` >= 0.5, `y=1` (class 1)\n",
        "* `y_pred_probs` < 0.5, `y=0` (class 0)"
      ],
      "metadata": {
        "id": "0Wd27imDSJTQ"
      }
    },
    {
      "cell_type": "code",
      "source": [
        "# Finding prediction lables (predicion probilities -> prediction lables )\n",
        "y_pred_lable_0 = torch.round(y_pred_probs)\n",
        "\n",
        "# in full (raw logits -> prediction probilities -> prediction lables)\n",
        "y_pred_lable_1 = torch.round(torch.sigmoid(model_0(X_test.to(device))[:5]))\n",
        "\n",
        "# For being sure about results\n",
        "print(torch.eq(y_pred_lable_0,y_pred_lable_1).squeeze(dim=1))\n",
        "\n",
        "print(y_pred_lable_0.squeeze(dim=1))"
      ],
      "metadata": {
        "colab": {
          "base_uri": "https://localhost:8080/"
        },
        "id": "t343y_GGeaso",
        "outputId": "6549f665-8b44-4a54-c13a-6d32015cc361"
      },
      "execution_count": null,
      "outputs": [
        {
          "output_type": "stream",
          "name": "stdout",
          "text": [
            "tensor([True, True, True, True, True], device='cuda:0')\n",
            "tensor([1., 1., 1., 1., 1.], device='cuda:0')\n"
          ]
        }
      ]
    },
    {
      "cell_type": "markdown",
      "source": [
        "**Note :** Now our predictions( *Prediction lables* ) are similar to y-lables"
      ],
      "metadata": {
        "id": "EzFMeKfgearr"
      }
    },
    {
      "cell_type": "markdown",
      "source": [
        "### 3.2 Building training and testing loop"
      ],
      "metadata": {
        "id": "RRNoyhpSgjc3"
      }
    },
    {
      "cell_type": "code",
      "source": [
        "# seting manual seed\n",
        "torch.manual_seed(42)\n",
        "torch.cuda.manual_seed(42)\n",
        "\n",
        "# Seting epochs\n",
        "epochs = 1000\n",
        "\n",
        "# sending train and test data sets to target device\n",
        "X_train , X_test = X_train.to(device) , X_test.to(device)\n",
        "y_train , y_test = y_train.to(device) , y_test.to(device)\n",
        "\n",
        "# training and evaluating loop\n",
        "for epoch in range(epochs) :\n",
        "  ### training\n",
        "    model_0.train()\n",
        "    # 1. forward pass\n",
        "    y_logits = model_0(X_train).squeeze()\n",
        "    y_pred_lables = torch.round(torch.sigmoid(y_logits)) # raw logits -> prediction probilities -> prediction lables\n",
        "\n",
        "    # 2. calculate the loss (and accuracy)\n",
        "    loss = loss_fn(y_logits, # as we used BCEWithLogitsLoss loss function expects raw logits as input and do avtivation in itself\n",
        "                   y_train)\n",
        "    acc = accuracy_fn(y_true=y_train,y_pred=y_pred_lables)\n",
        "    # 3. optimizer zero grad\n",
        "    optimizer.zero_grad()\n",
        "    # 4. loss backward (backpropagation)\n",
        "    loss.backward()\n",
        "    # 5. optmizer step (gradient descent)\n",
        "    optimizer.step()\n",
        "  ### testting\n",
        "    model_0.eval()\n",
        "    # 1. forward pass\n",
        "    with torch.inference_mode() :\n",
        "      y_test_logits = model_0(X_test).squeeze()\n",
        "      y_test_pred_lables = torch.round(torch.sigmoid(y_test_logits))  # raw logits -> prediction probilities -> prediction lables\n",
        "    # 2. Calculate loss and accuracy of our predictions\n",
        "    test_loss = loss_fn(y_test_logits,y_test)\n",
        "    test_acc = accuracy_fn(y_true=y_test,y_pred=y_test_pred_lables)\n",
        "  ### Printing whats happening\n",
        "    if (epoch % 100 == 0) :\n",
        "      print(f\"epoch : {epoch}  | loss : {test_loss}  | accuracy : {test_acc}\")\n",
        "# its over"
      ],
      "metadata": {
        "colab": {
          "base_uri": "https://localhost:8080/"
        },
        "id": "zxp_JEY5eanw",
        "outputId": "2d67f9c1-dedb-4922-e5d0-817028f1767d"
      },
      "execution_count": null,
      "outputs": [
        {
          "output_type": "stream",
          "name": "stdout",
          "text": [
            "epoch : 0  | loss : 0.6931881308555603  | accuracy : 50.0\n",
            "epoch : 100  | loss : 0.6910240054130554  | accuracy : 52.5\n",
            "epoch : 200  | loss : 0.6893960237503052  | accuracy : 55.00000000000001\n",
            "epoch : 300  | loss : 0.6872316002845764  | accuracy : 56.00000000000001\n",
            "epoch : 400  | loss : 0.6841148138046265  | accuracy : 56.49999999999999\n",
            "epoch : 500  | loss : 0.6794120073318481  | accuracy : 56.49999999999999\n",
            "epoch : 600  | loss : 0.6728507876396179  | accuracy : 56.00000000000001\n",
            "epoch : 700  | loss : 0.6632164716720581  | accuracy : 59.0\n",
            "epoch : 800  | loss : 0.647568941116333  | accuracy : 67.5\n",
            "epoch : 900  | loss : 0.6214525699615479  | accuracy : 79.0\n"
          ]
        }
      ]
    },
    {
      "cell_type": "markdown",
      "source": [
        "## 4 . Making Predictions and evaluating model\n",
        "\n",
        "let's make predictions and evaluate our model by **visualizing** the predictions (using function called `plot_decision_boundary()`)"
      ],
      "metadata": {
        "id": "iYF__nF1eam2"
      }
    },
    {
      "cell_type": "markdown",
      "source": [
        "### 4.1 How to import function `plot_decision_boundary()`"
      ],
      "metadata": {
        "id": "_nCQj1veeai-"
      }
    },
    {
      "cell_type": "code",
      "source": [
        "# Imports\n",
        "import requests\n",
        "from pathlib import Path"
      ],
      "metadata": {
        "id": "KBizsqZ-eah_"
      },
      "execution_count": null,
      "outputs": []
    },
    {
      "cell_type": "code",
      "source": [
        "# adding just some if-else code for the times that function file exists\n",
        "if Path(\"helper_function.py\").is_file() :\n",
        "  print(\"the helper function actully exists right now\")\n",
        "else :\n",
        "  print(\"Downloading helper function \")\n",
        "  request = requests.get(\"https://raw.githubusercontent.com/mrdbourke/pytorch-deep-learning/main/helper_functions.py\")\n",
        "  with open(\"helper_function.py\",\"wb\") as file :\n",
        "    file.write(request.content)\n",
        "\n",
        "from helper_function import plot_decision_boundary , plot_predictions"
      ],
      "metadata": {
        "id": "Pz6TRCwNeaeV",
        "colab": {
          "base_uri": "https://localhost:8080/"
        },
        "outputId": "cf137348-c658-4ce1-9348-700a242e762b"
      },
      "execution_count": null,
      "outputs": [
        {
          "output_type": "stream",
          "name": "stdout",
          "text": [
            "the helper function actully exists right now\n"
          ]
        }
      ]
    },
    {
      "cell_type": "markdown",
      "source": [
        "### 4.2 visualizing predictions"
      ],
      "metadata": {
        "id": "9rdNvcHqayS4"
      }
    },
    {
      "cell_type": "code",
      "source": [
        "plt.figure(figsize=(5,5))\n",
        "plt.title(\"Prediction visualization\")\n",
        "plot_decision_boundary(model_0,X_test,y_test)"
      ],
      "metadata": {
        "id": "NxI4XozMeada",
        "colab": {
          "base_uri": "https://localhost:8080/",
          "height": 336
        },
        "outputId": "9528ec03-c1a1-49a9-8c8d-d562b9d97e7a"
      },
      "execution_count": null,
      "outputs": [
        {
          "output_type": "display_data",
          "data": {
            "text/plain": [
              "<Figure size 360x360 with 1 Axes>"
            ],
            "image/png": "[encoded data removed]"
          },
          "metadata": {
            "needs_background": "light"
          }
        }
      ]
    },
    {
      "cell_type": "markdown",
      "source": [
        "## 5 . extracurricular contents\n",
        "\n",
        "Improving a model :\n",
        "\n",
        "1. Add more layers\n",
        "2. add more hidden units\n",
        "3. add non-linearity(missing part of lots of models)\n",
        "4. increasing epochs\n",
        "5. changing loss function\n",
        "6. changing learning rate\n",
        "7. changing activation function\n",
        "\n",
        "**Note :** these option are from model's prespective not data prespective and make up *hyperparameters*\n",
        "\n",
        "**hyperparameters :** prameters which get determined by us as machinr learning engineers"
      ],
      "metadata": {
        "id": "n-HivQ4VeaZK"
      }
    },
    {
      "cell_type": "markdown",
      "source": [
        "## 6 . looking at `nn.ReLU` and `torch.sigmoid` functionality on numbers"
      ],
      "metadata": {
        "id": "33fOFRxJeaYP"
      }
    },
    {
      "cell_type": "code",
      "source": [
        "# some introductions"
      ],
      "metadata": {
        "id": "Jckh456dgttR"
      },
      "execution_count": null,
      "outputs": []
    },
    {
      "cell_type": "markdown",
      "source": [
        "## 7 . Multi-class classification\n",
        "more number of data classes\n"
      ],
      "metadata": {
        "id": "4ClJ5vPneaUT"
      }
    },
    {
      "cell_type": "markdown",
      "source": [
        "### Import dependencies"
      ],
      "metadata": {
        "id": "AfQQ4B4liGnr"
      }
    },
    {
      "cell_type": "code",
      "source": [
        "# Imports\n",
        "from sklearn.datasets import make_blobs\n",
        "from sklearn.model_selection import train_test_split"
      ],
      "metadata": {
        "id": "l6ceL9vlhBHQ"
      },
      "execution_count": null,
      "outputs": []
    },
    {
      "cell_type": "markdown",
      "source": [
        "### 7.1 creating datasets and spliting to test and train datasets"
      ],
      "metadata": {
        "id": "gToOBvfOeaTX"
      }
    },
    {
      "cell_type": "code",
      "source": [
        "# seting hyperparameters for data\n",
        "NUM_CLASSES = 4\n",
        "NUM_FEATURES = 2\n",
        "RANDOM_SEED = 42\n",
        "\n",
        "# 1 . Creat multi-class data set\n",
        "X_blob , y_blob = make_blobs(n_samples=1000,\n",
        "                            n_features=NUM_FEATURES,\n",
        "                            centers=NUM_CLASSES,\n",
        "                            cluster_std = 1.5,\n",
        "                            random_state= RANDOM_SEED)\n",
        "# 2 . Turning data into tensors\n",
        "X_blob = torch.from_numpy(X_blob).type(torch.float)\n",
        "y_blob = torch.from_numpy(y_blob).type(torch.LongTensor)\n",
        "\n",
        "# 3 . Spliting to train and test data sets\n",
        "X_blob_train , X_blob_test , y_blob_train , y_blob_test = train_test_split(X_blob,\n",
        "                                                                           y_blob,\n",
        "                                                                           test_size = 0.2,\n",
        "                                                                           random_state=RANDOM_SEED)\n",
        "# 4 . Ploting data (visualize)\n",
        "plt.figure(figsize=(10,7))\n",
        "plt.scatter(X_blob[:,0] ,\n",
        "            X_blob[:,1] ,\n",
        "            c=y_blob,\n",
        "            cmap=plt.cm.RdYlBu)\n"
      ],
      "metadata": {
        "id": "QIR88Us5SJWf",
        "colab": {
          "base_uri": "https://localhost:8080/",
          "height": 445
        },
        "outputId": "56772262-901f-4642-8fdc-c891fe0e3d8d"
      },
      "execution_count": null,
      "outputs": [
        {
          "output_type": "execute_result",
          "data": {
            "text/plain": [
              "<matplotlib.collections.PathCollection at 0x7ff7a5fd4590>"
            ]
          },
          "metadata": {},
          "execution_count": 135
        },
        {
          "output_type": "display_data",
          "data": {
            "text/plain": [
              "<Figure size 720x504 with 1 Axes>"
            ],
            "image/png": "[encoded data removed]"
          },
          "metadata": {
            "needs_background": "light"
          }
        }
      ]
    },
    {
      "cell_type": "markdown",
      "source": [
        "### 7.2 Building multi-class classification model"
      ],
      "metadata": {
        "id": "U0OcHoUWgL--"
      }
    },
    {
      "cell_type": "code",
      "source": [
        "# device agnostic code\n",
        "device = \"cuda\" if torch.cuda.is_available() else \"cpu\"\n",
        "device"
      ],
      "metadata": {
        "colab": {
          "base_uri": "https://localhost:8080/",
          "height": 36
        },
        "id": "32mtBMRxgMEp",
        "outputId": "11994792-a46b-485f-fb69-a9bd65834aca"
      },
      "execution_count": null,
      "outputs": [
        {
          "output_type": "execute_result",
          "data": {
            "text/plain": [
              "'cuda'"
            ],
            "application/vnd.google.colaboratory.intrinsic+json": {
              "type": "string"
            }
          },
          "metadata": {},
          "execution_count": 136
        }
      ]
    },
    {
      "cell_type": "code",
      "source": [
        "# base class for classification model\n",
        "model_1 = nn.Sequential(\n",
        "    nn.Linear(in_features=2,out_features=10),\n",
        "    nn.ReLU() ,\n",
        "    nn.Linear(in_features=10,out_features=10),\n",
        "    nn.ReLU() ,\n",
        "    nn.Linear(in_features=10,out_features=4)\n",
        ").to(device)"
      ],
      "metadata": {
        "id": "nFyN0qYOgMH9"
      },
      "execution_count": null,
      "outputs": []
    },
    {
      "cell_type": "code",
      "source": [
        "model_1"
      ],
      "metadata": {
        "colab": {
          "base_uri": "https://localhost:8080/"
        },
        "id": "NdWa03pggMQ-",
        "outputId": "1e3c69e4-3b0f-4b44-bdce-201cc486df6a"
      },
      "execution_count": null,
      "outputs": [
        {
          "output_type": "execute_result",
          "data": {
            "text/plain": [
              "Sequential(\n",
              "  (0): Linear(in_features=2, out_features=10, bias=True)\n",
              "  (1): ReLU()\n",
              "  (2): Linear(in_features=10, out_features=10, bias=True)\n",
              "  (3): ReLU()\n",
              "  (4): Linear(in_features=10, out_features=4, bias=True)\n",
              ")"
            ]
          },
          "metadata": {},
          "execution_count": 138
        }
      ]
    },
    {
      "cell_type": "code",
      "source": [
        "# Setup loss function\n",
        "loss_fn = nn.CrossEntropyLoss()\n",
        "# Setup optimizer\n",
        "optimizer = torch.optim.SGD(params=model_1.parameters(),\n",
        "                            lr = 0.1)"
      ],
      "metadata": {
        "id": "ZEKY1inKIbFq"
      },
      "execution_count": null,
      "outputs": []
    },
    {
      "cell_type": "markdown",
      "source": [
        "raw logits -> prediction prbilities -> prediction lables\n"
      ],
      "metadata": {
        "id": "WRkYU0yUIbBb"
      }
    },
    {
      "cell_type": "code",
      "source": [
        "# checking the prediction ability of our model and producing raw logits\n",
        "model_1.eval()\n",
        "with torch.inference_mode() :\n",
        "  y_blob_logits = model_1(X_blob_train.to(device))\n",
        "y_blob_logits[:5]"
      ],
      "metadata": {
        "colab": {
          "base_uri": "https://localhost:8080/"
        },
        "id": "ReVYY2-LgMVD",
        "outputId": "c7204b3c-0475-4da6-e599-62ea14cd00b9"
      },
      "execution_count": null,
      "outputs": [
        {
          "output_type": "execute_result",
          "data": {
            "text/plain": [
              "tensor([[ 0.1600,  0.2467,  0.8159, -0.3955],\n",
              "        [-0.2472,  0.4186,  0.2806, -0.4416],\n",
              "        [ 0.0680,  0.1621,  0.0919, -0.1661],\n",
              "        [ 0.0412,  0.1445,  0.1329, -0.1620],\n",
              "        [-0.1896,  0.2557,  0.1911, -0.2907]], device='cuda:0')"
            ]
          },
          "metadata": {},
          "execution_count": 140
        }
      ]
    },
    {
      "cell_type": "code",
      "source": [
        "# using activation functions -> prediction probilities\n",
        "y_blob_pred_probs = torch.softmax(y_blob_logits,dim= 1)\n",
        "y_blob_pred_probs[:5]"
      ],
      "metadata": {
        "id": "8sEQSHjISJa3",
        "colab": {
          "base_uri": "https://localhost:8080/"
        },
        "outputId": "702ec98b-7d3a-4465-ece7-d6a47835668e"
      },
      "execution_count": null,
      "outputs": [
        {
          "output_type": "execute_result",
          "data": {
            "text/plain": [
              "tensor([[0.2178, 0.2375, 0.4197, 0.1250],\n",
              "        [0.1830, 0.3561, 0.3102, 0.1507],\n",
              "        [0.2555, 0.2807, 0.2617, 0.2022],\n",
              "        [0.2487, 0.2758, 0.2726, 0.2030],\n",
              "        [0.2029, 0.3167, 0.2969, 0.1834]], device='cuda:0')"
            ]
          },
          "metadata": {},
          "execution_count": 141
        }
      ]
    },
    {
      "cell_type": "code",
      "source": [
        "# and finally converting prediction probilities -> prediction lables\n",
        "y_blob_pred_lable = torch.argmax(y_blob_pred_probs,dim=1)\n",
        "y_blob_pred_lable[:5]"
      ],
      "metadata": {
        "colab": {
          "base_uri": "https://localhost:8080/"
        },
        "id": "jrP7QJTXJxGT",
        "outputId": "4c93a3c6-e68c-4a2a-b43e-83cfe10128eb"
      },
      "execution_count": null,
      "outputs": [
        {
          "output_type": "execute_result",
          "data": {
            "text/plain": [
              "tensor([2, 1, 1, 1, 1], device='cuda:0')"
            ]
          },
          "metadata": {},
          "execution_count": 142
        }
      ]
    },
    {
      "cell_type": "code",
      "source": [
        "# Creating training and testing loop\n",
        "\n",
        "#  1. setting manual_seed\n",
        "torch.manual_seed(42)\n",
        "torch.cuda.manual_seed(42)\n",
        "\n",
        "# 2. set number of epochs\n",
        "epochs = 1000\n",
        "\n",
        "# 3. putting all of data on same device\n",
        "X_blob_train , X_blob_test = X_blob_train.to(device) , X_blob_test.to(device)\n",
        "y_blob_train , y_blob_test = y_blob_train.to(device) , y_blob_test.to(device)\n",
        "\n",
        "# main loop\n",
        "for epoch in range(epochs) :\n",
        "  ### training\n",
        "  model_1.train()\n",
        "\n",
        "  # forward pass\n",
        "  y_blob_logits = model_1(X_blob_train)\n",
        "  y_blob_pred = torch.softmax(y_blob_logits,dim= 1).argmax(dim=1)\n",
        "\n",
        "  # calculate the loss and accuracy\n",
        "  loss = loss_fn(y_blob_logits,y_blob_train)\n",
        "  acc = accuracy_fn(y_true=y_blob_train,y_pred=y_blob_pred)\n",
        "\n",
        "  # optimizer zero grad\n",
        "  optimizer.zero_grad()\n",
        "\n",
        "  # backpropogation\n",
        "  loss.backward()\n",
        "\n",
        "  # optimizer step\n",
        "  optimizer.step()\n",
        "\n",
        "  ### testing and evaluating\n",
        "  model_1.eval()\n",
        "  with torch.inference_mode() :\n",
        "    # forward pass\n",
        "    y_blob_test_logits = model_1(X_blob_test)\n",
        "    y_blob_test_pred = torch.softmax(y_blob_test_logits, dim=1).argmax(dim=1)\n",
        "    # calculate the loss and accuracy\n",
        "    loss_test = loss_fn(y_blob_test_logits,y_blob_test)\n",
        "    acc_test = accuracy_fn(y_true=y_blob_test,y_pred=y_blob_test_pred)\n",
        "\n",
        "  # printing out the output\n",
        "  if epoch % 100 == 0 :\n",
        "    print(f\"epoch : {epoch}  | loss :  {loss_test}  | acuraccy : {acc_test}\")\n",
        "\n"
      ],
      "metadata": {
        "colab": {
          "base_uri": "https://localhost:8080/"
        },
        "id": "N1lvj9ezJxB2",
        "outputId": "cabc176f-8fc6-4058-c97b-a8ced4f3ec6d"
      },
      "execution_count": null,
      "outputs": [
        {
          "output_type": "stream",
          "name": "stdout",
          "text": [
            "epoch : 0  | loss :  0.006466026417911053  | acuraccy : 100.0\n",
            "epoch : 100  | loss :  0.006318714004009962  | acuraccy : 100.0\n",
            "epoch : 200  | loss :  0.006175475660711527  | acuraccy : 100.0\n",
            "epoch : 300  | loss :  0.00603347085416317  | acuraccy : 100.0\n",
            "epoch : 400  | loss :  0.0059002600610256195  | acuraccy : 100.0\n",
            "epoch : 500  | loss :  0.00580110028386116  | acuraccy : 100.0\n",
            "epoch : 600  | loss :  0.005675848573446274  | acuraccy : 100.0\n",
            "epoch : 700  | loss :  0.0055546630173921585  | acuraccy : 100.0\n",
            "epoch : 800  | loss :  0.005427432246506214  | acuraccy : 100.0\n",
            "epoch : 900  | loss :  0.005311868619173765  | acuraccy : 100.0\n"
          ]
        }
      ]
    },
    {
      "cell_type": "code",
      "source": [
        "# visulizing the predictions\n",
        "plt.figure(figsize=(10,7))\n",
        "plt.title(\"Visualizing\")\n",
        "plot_decision_boundary(model_1,X_blob_test,y_blob_test)"
      ],
      "metadata": {
        "id": "tKMJFwuBJxAw",
        "colab": {
          "base_uri": "https://localhost:8080/",
          "height": 444
        },
        "outputId": "af9daf41-11aa-418d-ecf4-2acd685149f3"
      },
      "execution_count": null,
      "outputs": [
        {
          "output_type": "display_data",
          "data": {
            "text/plain": [
              "<Figure size 720x504 with 1 Axes>"
            ],
            "image/png": "[encoded data removed]"
          },
          "metadata": {
            "needs_background": "light"
          }
        }
      ]
    },
    {
      "cell_type": "code",
      "source": [],
      "metadata": {
        "id": "LZr6DS4OJw8s"
      },
      "execution_count": null,
      "outputs": []
    },
    {
      "cell_type": "code",
      "source": [],
      "metadata": {
        "id": "INOnzmegJw7q"
      },
      "execution_count": null,
      "outputs": []
    },
    {
      "cell_type": "code",
      "source": [],
      "metadata": {
        "id": "oZPHwcxNJw3m"
      },
      "execution_count": null,
      "outputs": []
    },
    {
      "cell_type": "code",
      "source": [],
      "metadata": {
        "id": "H5MdEX2AJw2i"
      },
      "execution_count": null,
      "outputs": []
    },
    {
      "cell_type": "code",
      "source": [],
      "metadata": {
        "id": "IwrdWPnVJwyx"
      },
      "execution_count": null,
      "outputs": []
    },
    {
      "cell_type": "code",
      "source": [],
      "metadata": {
        "id": "lrej5QgcJwxt"
      },
      "execution_count": null,
      "outputs": []
    },
    {
      "cell_type": "code",
      "source": [],
      "metadata": {
        "id": "G4iQEsFmJwm0"
      },
      "execution_count": null,
      "outputs": []
    }
  ]
}